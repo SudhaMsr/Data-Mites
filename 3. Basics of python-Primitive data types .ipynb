{
 "cells": [
  {
   "cell_type": "markdown",
   "id": "a9973440",
   "metadata": {},
   "source": [
    "# Data types:\n",
    "### Types:\n",
    "   * Numeric data types-Int,Float,Complex\n",
    "   * Text data types-Strings\n",
    "   * Sequence data types-List,Tuple,Set\n",
    "   * Mapping data types-Dictionary\n",
    "   * Boolean type- Bool\n",
    "   * Set types- Set and frozenset\n",
    "   \n",
    "#### Int- Integer:-   Whole numbers\n",
    "#### Float- Decimal point Numbers:-   A Number, positive or negative, containing one or more decimals.\n",
    "#### Complex- a+bj:-   Real part & imaginary part.\n",
    "#### Strings- Text data:-   Sequence of words.\n",
    "#### Sequences:-   Used to store multiple elements.\n",
    "#### Mapping:-   Used to return a list of results after applying a given function to each item of an iterable.\n",
    "#### Boolean:-   Either true or false.\n",
    "#### Set types:-   Used to store multiple items in a single variable."
   ]
  },
  {
   "cell_type": "markdown",
   "id": "a4e0d815",
   "metadata": {},
   "source": [
    "## Numeric data types:"
   ]
  },
  {
   "cell_type": "code",
   "execution_count": 1,
   "id": "bf5dbc6f",
   "metadata": {},
   "outputs": [
    {
     "name": "stdout",
     "output_type": "stream",
     "text": [
      "value of i: 10\n",
      "type of i is: <class 'int'>\n",
      "**************************************************\n",
      "value of f: 10.5\n",
      "type of f is: <class 'float'>\n",
      "**************************************************\n",
      "value of c: (10+5j)\n",
      "type of c is: <class 'complex'>\n",
      "**************************************************\n"
     ]
    }
   ],
   "source": [
    "#int data type\n",
    "i=10\n",
    "print(\"value of i:\",i)\n",
    "print(\"type of i is:\",type(i))\n",
    "print('*'*50)\n",
    "\n",
    "#Float data type\n",
    "f=10.5\n",
    "print(\"value of f:\",f)\n",
    "print(\"type of f is:\",type(f))\n",
    "print('*'*50)\n",
    "\n",
    "#Complex data type\n",
    "c=10+5j\n",
    "print(\"value of c:\",c)\n",
    "print(\"type of c is:\",type(c))\n",
    "print('*'*50)"
   ]
  },
  {
   "cell_type": "markdown",
   "id": "ff0988cd",
   "metadata": {},
   "source": [
    "## Text dats types:"
   ]
  },
  {
   "cell_type": "code",
   "execution_count": 2,
   "id": "a2b3a957",
   "metadata": {},
   "outputs": [
    {
     "name": "stdout",
     "output_type": "stream",
     "text": [
      "Hello,Alaric!\n",
      "<class 'str'>\n"
     ]
    }
   ],
   "source": [
    "a=\"Hello,Alaric!\"\n",
    "print(a)\n",
    "print(type(a))"
   ]
  },
  {
   "cell_type": "markdown",
   "id": "cf5c6540",
   "metadata": {},
   "source": [
    "## Sequence data types:"
   ]
  },
  {
   "cell_type": "code",
   "execution_count": 3,
   "id": "baed45a3",
   "metadata": {},
   "outputs": [
    {
     "name": "stdout",
     "output_type": "stream",
     "text": [
      "['orange', 'apple', 'mango']\n",
      "<class 'list'>\n",
      "**************************************************\n",
      "(11, 11, 2, 3, 6, 2)\n",
      "<class 'tuple'>\n",
      "**************************************************\n",
      "{1, 2, 3, 4, 5, 6}\n",
      "<class 'set'>\n",
      "**************************************************\n"
     ]
    }
   ],
   "source": [
    "#List\n",
    "l1=[\"orange\",\"apple\",\"mango\"]\n",
    "print(l1)\n",
    "print(type(l1))\n",
    "print('*'*50)\n",
    "\n",
    "#Tuple\n",
    "t1=(11,11,2,3,6,2)\n",
    "print(t1)\n",
    "print(type(t1))\n",
    "print('*'*50)\n",
    "\n",
    "#Set\n",
    "s1={1,2,3,4,5,6}\n",
    "print(s1)\n",
    "print(type(s1))\n",
    "print('*'*50)"
   ]
  },
  {
   "cell_type": "markdown",
   "id": "65450096",
   "metadata": {},
   "source": [
    "## Mapping data types:"
   ]
  },
  {
   "cell_type": "code",
   "execution_count": 4,
   "id": "3e2dd1ae",
   "metadata": {},
   "outputs": [
    {
     "name": "stdout",
     "output_type": "stream",
     "text": [
      "{1: 'abc', 2: 'bbc', 3: 'acc', 4: 'acc'}\n",
      "<class 'dict'>\n"
     ]
    }
   ],
   "source": [
    "#Dictionary-dict\n",
    "dict1={1:\"abc\",2:\"bbc\",3:\"acc\",4:\"acc\"}\n",
    "print(dict1)\n",
    "print(type(dict1))"
   ]
  },
  {
   "cell_type": "markdown",
   "id": "dce4dbea",
   "metadata": {},
   "source": [
    "## Boolean data types:"
   ]
  },
  {
   "cell_type": "code",
   "execution_count": 5,
   "id": "a2a11687",
   "metadata": {},
   "outputs": [
    {
     "name": "stdout",
     "output_type": "stream",
     "text": [
      "True\n",
      "<class 'bool'>\n",
      "**************************************************\n",
      "False\n",
      "<class 'bool'>\n"
     ]
    }
   ],
   "source": [
    "#Boolean-bool\n",
    "a= True\n",
    "print(a)\n",
    "print(type(a))\n",
    "\n",
    "print('*'*50)\n",
    "a= False\n",
    "print(a)\n",
    "print(type(a))"
   ]
  },
  {
   "cell_type": "markdown",
   "id": "0638d1be",
   "metadata": {},
   "source": [
    "## Set types:"
   ]
  },
  {
   "cell_type": "code",
   "execution_count": 6,
   "id": "4c48506d",
   "metadata": {},
   "outputs": [
    {
     "name": "stdout",
     "output_type": "stream",
     "text": [
      "frozenset({'cherry', 'banana', 'apple'})\n",
      "<class 'frozenset'>\n"
     ]
    }
   ],
   "source": [
    "#frozen set\n",
    "a = frozenset({\"apple\", \"banana\", \"cherry\"})\n",
    "print(a)\n",
    "print(type(a))"
   ]
  },
  {
   "cell_type": "markdown",
   "id": "d13af4fb",
   "metadata": {},
   "source": [
    "### For Reference: "
   ]
  },
  {
   "cell_type": "code",
   "execution_count": 7,
   "id": "c09fe476",
   "metadata": {},
   "outputs": [
    {
     "data": {
      "text/plain": [
       "int"
      ]
     },
     "execution_count": 7,
     "metadata": {},
     "output_type": "execute_result"
    }
   ],
   "source": [
    "type(2)"
   ]
  },
  {
   "cell_type": "code",
   "execution_count": 8,
   "id": "65e00ea2",
   "metadata": {},
   "outputs": [
    {
     "data": {
      "text/plain": [
       "float"
      ]
     },
     "execution_count": 8,
     "metadata": {},
     "output_type": "execute_result"
    }
   ],
   "source": [
    "type(2.0)"
   ]
  },
  {
   "cell_type": "code",
   "execution_count": 9,
   "id": "10175999",
   "metadata": {},
   "outputs": [
    {
     "data": {
      "text/plain": [
       "str"
      ]
     },
     "execution_count": 9,
     "metadata": {},
     "output_type": "execute_result"
    }
   ],
   "source": [
    "type('two')"
   ]
  },
  {
   "cell_type": "code",
   "execution_count": 10,
   "id": "a348b6c2",
   "metadata": {},
   "outputs": [
    {
     "data": {
      "text/plain": [
       "bool"
      ]
     },
     "execution_count": 10,
     "metadata": {},
     "output_type": "execute_result"
    }
   ],
   "source": [
    "type(True)"
   ]
  },
  {
   "cell_type": "code",
   "execution_count": 14,
   "id": "cc306cb8",
   "metadata": {},
   "outputs": [
    {
     "data": {
      "text/plain": [
       "complex"
      ]
     },
     "execution_count": 14,
     "metadata": {},
     "output_type": "execute_result"
    }
   ],
   "source": [
    "type(1+2j)"
   ]
  },
  {
   "cell_type": "code",
   "execution_count": 15,
   "id": "8a1ce8d4",
   "metadata": {},
   "outputs": [
    {
     "data": {
      "text/plain": [
       "NoneType"
      ]
     },
     "execution_count": 15,
     "metadata": {},
     "output_type": "execute_result"
    }
   ],
   "source": [
    "type(None)"
   ]
  }
 ],
 "metadata": {
  "kernelspec": {
   "display_name": "Python 3",
   "language": "python",
   "name": "python3"
  },
  "language_info": {
   "codemirror_mode": {
    "name": "ipython",
    "version": 3
   },
   "file_extension": ".py",
   "mimetype": "text/x-python",
   "name": "python",
   "nbconvert_exporter": "python",
   "pygments_lexer": "ipython3",
   "version": "3.8.8"
  }
 },
 "nbformat": 4,
 "nbformat_minor": 5
}
