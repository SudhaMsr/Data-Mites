{
 "cells": [
  {
   "cell_type": "markdown",
   "id": "b56f41da",
   "metadata": {},
   "source": [
    "# Lists:\n",
    "* Lists are used to store multiple values in a single variable or sequence of items.\n",
    "* Properties of lists:\n",
    "  1. Ordered\n",
    "  2. allow duplicates\n",
    "  3. Mutable(changable or modifiable)\n",
    "  4. Iterable"
   ]
  },
  {
   "cell_type": "markdown",
   "id": "ab553eb7",
   "metadata": {},
   "source": [
    "### Creating list "
   ]
  },
  {
   "cell_type": "code",
   "execution_count": 1,
   "id": "fbdde064",
   "metadata": {},
   "outputs": [
    {
     "name": "stdout",
     "output_type": "stream",
     "text": [
      "['apple', 'banana', 7, 3.2]\n"
     ]
    }
   ],
   "source": [
    "list1=[\"apple\",\"banana\",7,3.2]\n",
    "print(list1)"
   ]
  },
  {
   "cell_type": "markdown",
   "id": "925c7592",
   "metadata": {},
   "source": [
    "### Indexing list"
   ]
  },
  {
   "cell_type": "code",
   "execution_count": 2,
   "id": "888e6869",
   "metadata": {},
   "outputs": [
    {
     "data": {
      "text/plain": [
       "'banana'"
      ]
     },
     "execution_count": 2,
     "metadata": {},
     "output_type": "execute_result"
    }
   ],
   "source": [
    "list1[1]  "
   ]
  },
  {
   "cell_type": "markdown",
   "id": "ca420451",
   "metadata": {},
   "source": [
    "### Negative indexing "
   ]
  },
  {
   "cell_type": "code",
   "execution_count": 3,
   "id": "a0aac72e",
   "metadata": {},
   "outputs": [
    {
     "data": {
      "text/plain": [
       "3.2"
      ]
     },
     "execution_count": 3,
     "metadata": {},
     "output_type": "execute_result"
    }
   ],
   "source": [
    "list1[-1]"
   ]
  },
  {
   "cell_type": "markdown",
   "id": "bc17158a",
   "metadata": {},
   "source": [
    "### Range of indexing "
   ]
  },
  {
   "cell_type": "code",
   "execution_count": 4,
   "id": "cbd55fd0",
   "metadata": {},
   "outputs": [
    {
     "data": {
      "text/plain": [
       "['banana', 7]"
      ]
     },
     "execution_count": 4,
     "metadata": {},
     "output_type": "execute_result"
    }
   ],
   "source": [
    "list1[1:3]"
   ]
  },
  {
   "cell_type": "code",
   "execution_count": 5,
   "id": "1057bc66",
   "metadata": {},
   "outputs": [
    {
     "data": {
      "text/plain": [
       "['apple', 'banana']"
      ]
     },
     "execution_count": 5,
     "metadata": {},
     "output_type": "execute_result"
    }
   ],
   "source": [
    "list1[-4:-2]"
   ]
  },
  {
   "cell_type": "markdown",
   "id": "58276bc9",
   "metadata": {},
   "source": [
    "### Type of data types "
   ]
  },
  {
   "cell_type": "code",
   "execution_count": 6,
   "id": "e3491b63",
   "metadata": {},
   "outputs": [
    {
     "name": "stdout",
     "output_type": "stream",
     "text": [
      "<class 'list'>\n"
     ]
    }
   ],
   "source": [
    "print(type(list1))"
   ]
  },
  {
   "cell_type": "markdown",
   "id": "423e184f",
   "metadata": {},
   "source": [
    "### Mutable "
   ]
  },
  {
   "cell_type": "code",
   "execution_count": 7,
   "id": "4a33b04b",
   "metadata": {},
   "outputs": [
    {
     "name": "stdout",
     "output_type": "stream",
     "text": [
      "['apple', 'banana', 'cherry', 3.2]\n"
     ]
    }
   ],
   "source": [
    "list1[2]=\"cherry\"\n",
    "print(list1)"
   ]
  },
  {
   "cell_type": "markdown",
   "id": "463b4d12",
   "metadata": {},
   "source": [
    "### Sorting-  Arranged in increasing order "
   ]
  },
  {
   "cell_type": "code",
   "execution_count": 8,
   "id": "2ca23cc2",
   "metadata": {},
   "outputs": [
    {
     "name": "stdout",
     "output_type": "stream",
     "text": [
      "[0, 1, 1, 2, 3, 6, 8, 9]\n"
     ]
    }
   ],
   "source": [
    "list2=[8,2,1,3,6,9,0,1]\n",
    "list2.sort()\n",
    "print(list2)"
   ]
  },
  {
   "cell_type": "markdown",
   "id": "c319d1c6",
   "metadata": {},
   "source": [
    "### Reverse- Arranged in decreasing order "
   ]
  },
  {
   "cell_type": "code",
   "execution_count": 9,
   "id": "4eedcbc5",
   "metadata": {},
   "outputs": [
    {
     "name": "stdout",
     "output_type": "stream",
     "text": [
      "[9, 8, 6, 3, 2, 1, 1, 0]\n"
     ]
    }
   ],
   "source": [
    "list2.reverse()\n",
    "print(list2)"
   ]
  },
  {
   "cell_type": "markdown",
   "id": "cfa425ff",
   "metadata": {},
   "source": [
    "### Len()- To get the length of elements"
   ]
  },
  {
   "cell_type": "code",
   "execution_count": 10,
   "id": "eb946f6c",
   "metadata": {},
   "outputs": [
    {
     "data": {
      "text/plain": [
       "3"
      ]
     },
     "execution_count": 10,
     "metadata": {},
     "output_type": "execute_result"
    }
   ],
   "source": [
    "l3=[\"pineapple\",\"grapes\",\"honey\"]\n",
    "len(l3)"
   ]
  },
  {
   "cell_type": "markdown",
   "id": "4bc938f2",
   "metadata": {},
   "source": [
    "### Append- To add element to the end of the list "
   ]
  },
  {
   "cell_type": "code",
   "execution_count": 11,
   "id": "b9eca519",
   "metadata": {},
   "outputs": [
    {
     "name": "stdout",
     "output_type": "stream",
     "text": [
      "[1, 2, 3, 4, 5, 100]\n"
     ]
    }
   ],
   "source": [
    "l1=[1,2,3,4,5]\n",
    "l1.append(100)\n",
    "print(l1)"
   ]
  },
  {
   "cell_type": "markdown",
   "id": "c2a48255",
   "metadata": {},
   "source": [
    "### Inserting- To add an element at specific index "
   ]
  },
  {
   "cell_type": "code",
   "execution_count": 12,
   "id": "94ef7335",
   "metadata": {},
   "outputs": [
    {
     "name": "stdout",
     "output_type": "stream",
     "text": [
      "[1, 2, 3, 4, 9, 5, 100]\n"
     ]
    }
   ],
   "source": [
    "l1.insert(4,9)\n",
    "print(l1)"
   ]
  },
  {
   "cell_type": "markdown",
   "id": "02cc4705",
   "metadata": {},
   "source": [
    "### Extend- To append elements from another list to the current list, use the extend() method. "
   ]
  },
  {
   "cell_type": "code",
   "execution_count": 13,
   "id": "b0de44fb",
   "metadata": {},
   "outputs": [
    {
     "name": "stdout",
     "output_type": "stream",
     "text": [
      "['apple', 'mango', 'cherry', 'pineapple', 'grapes', 'honey']\n"
     ]
    }
   ],
   "source": [
    "l2=[\"apple\",\"mango\",\"cherry\"]\n",
    "l3=[\"pineapple\",\"grapes\",\"honey\"]\n",
    "l2.extend(l3)\n",
    "print(l2)"
   ]
  },
  {
   "cell_type": "markdown",
   "id": "1ffde513",
   "metadata": {},
   "source": [
    "### Remove- To remove specified element "
   ]
  },
  {
   "cell_type": "code",
   "execution_count": 14,
   "id": "a34fef00",
   "metadata": {},
   "outputs": [
    {
     "name": "stdout",
     "output_type": "stream",
     "text": [
      "['pineapple', 'grapes']\n"
     ]
    }
   ],
   "source": [
    "l3=[\"pineapple\",\"grapes\",\"honey\"]\n",
    "l3.remove(\"honey\")\n",
    "print(l3)"
   ]
  },
  {
   "cell_type": "markdown",
   "id": "206e18fa",
   "metadata": {},
   "source": [
    "### Pop- To remove last element of the list"
   ]
  },
  {
   "cell_type": "code",
   "execution_count": 15,
   "id": "4ec806cf",
   "metadata": {},
   "outputs": [
    {
     "name": "stdout",
     "output_type": "stream",
     "text": [
      "['pineapple', 'grapes']\n"
     ]
    }
   ],
   "source": [
    "l3=[\"pineapple\",\"grapes\",\"honey\"]\n",
    "l3.pop()\n",
    "print(l3)"
   ]
  },
  {
   "cell_type": "markdown",
   "id": "0c672526",
   "metadata": {},
   "source": [
    "### Removes the specified element "
   ]
  },
  {
   "cell_type": "code",
   "execution_count": 16,
   "id": "60b960c8",
   "metadata": {},
   "outputs": [
    {
     "name": "stdout",
     "output_type": "stream",
     "text": [
      "['pineapple', 'honey']\n"
     ]
    }
   ],
   "source": [
    "l3=[\"pineapple\",\"grapes\",\"honey\"] \n",
    "l3.pop(1)  # Removes the specified index\n",
    "print(l3)"
   ]
  },
  {
   "cell_type": "markdown",
   "id": "e5c82f64",
   "metadata": {},
   "source": [
    "### Clear- To clear the elements present in list "
   ]
  },
  {
   "cell_type": "code",
   "execution_count": 17,
   "id": "85f8e84c",
   "metadata": {},
   "outputs": [
    {
     "name": "stdout",
     "output_type": "stream",
     "text": [
      "[]\n"
     ]
    }
   ],
   "source": [
    "l3=[\"pineapple\",\"grapes\",\"honey\"] \n",
    "l3.clear()\n",
    "print(l3)"
   ]
  },
  {
   "cell_type": "markdown",
   "id": "e790fb0f",
   "metadata": {},
   "source": [
    "### Copy "
   ]
  },
  {
   "cell_type": "code",
   "execution_count": 18,
   "id": "b42532be",
   "metadata": {},
   "outputs": [
    {
     "name": "stdout",
     "output_type": "stream",
     "text": [
      "['pineapple', 'grapes', 'honey']\n"
     ]
    }
   ],
   "source": [
    "l3=[\"pineapple\",\"grapes\",\"honey\"]\n",
    "l4=l3.copy()\n",
    "print(l4)"
   ]
  },
  {
   "cell_type": "markdown",
   "id": "1974a568",
   "metadata": {},
   "source": [
    "### Delete- It will delet the entire list and you will  get error "
   ]
  },
  {
   "cell_type": "code",
   "execution_count": 19,
   "id": "afcfb1cb",
   "metadata": {},
   "outputs": [],
   "source": [
    "l3=[\"pineapple\",\"grapes\",\"honey\"] \n",
    "del l3"
   ]
  },
  {
   "cell_type": "markdown",
   "id": "c6b9647a",
   "metadata": {},
   "source": [
    "# Looping through list:"
   ]
  },
  {
   "cell_type": "code",
   "execution_count": 20,
   "id": "6fc1ae71",
   "metadata": {},
   "outputs": [
    {
     "name": "stdout",
     "output_type": "stream",
     "text": [
      "pineapple\n",
      "grapes\n",
      "honey\n"
     ]
    }
   ],
   "source": [
    "l3=[\"pineapple\",\"grapes\",\"honey\"] \n",
    "for x in l3:\n",
    "    print(x)"
   ]
  },
  {
   "cell_type": "markdown",
   "id": "5bd7f2f1",
   "metadata": {},
   "source": [
    "## Joining lists "
   ]
  },
  {
   "cell_type": "code",
   "execution_count": 21,
   "id": "2b000e2e",
   "metadata": {},
   "outputs": [
    {
     "name": "stdout",
     "output_type": "stream",
     "text": [
      "['pineapple', 'grapes', 'honey', 'banana', 'cherry']\n"
     ]
    }
   ],
   "source": [
    " l3=[\"pineapple\",\"grapes\",\"honey\"]\n",
    " l4=[\"banana\",\"cherry\"]\n",
    " l5=l3+l4\n",
    " print(l5)"
   ]
  }
 ],
 "metadata": {
  "kernelspec": {
   "display_name": "Python 3",
   "language": "python",
   "name": "python3"
  },
  "language_info": {
   "codemirror_mode": {
    "name": "ipython",
    "version": 3
   },
   "file_extension": ".py",
   "mimetype": "text/x-python",
   "name": "python",
   "nbconvert_exporter": "python",
   "pygments_lexer": "ipython3",
   "version": "3.8.8"
  }
 },
 "nbformat": 4,
 "nbformat_minor": 5
}
