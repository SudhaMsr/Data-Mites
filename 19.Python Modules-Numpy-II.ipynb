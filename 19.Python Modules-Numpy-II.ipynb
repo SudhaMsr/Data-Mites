{
 "cells": [
  {
   "cell_type": "code",
   "execution_count": 1,
   "id": "4099f5aa",
   "metadata": {},
   "outputs": [],
   "source": [
    "import numpy as np"
   ]
  },
  {
   "cell_type": "markdown",
   "id": "df7cb4d9",
   "metadata": {},
   "source": [
    "# Seaborn:\n",
    "* It provides beautiful default styles and color palettes to make statistical plots more attractive. \n",
    "* It is built on the top of matplotlib library and also closely integrated to the data structures from pandas. \n",
    "* Seaborn aims to make visualization the central part of exploring and understanding data."
   ]
  },
  {
   "cell_type": "code",
   "execution_count": 2,
   "id": "59f7100d",
   "metadata": {},
   "outputs": [],
   "source": [
    "import seaborn as sns"
   ]
  },
  {
   "cell_type": "code",
   "execution_count": 4,
   "id": "57362ccf",
   "metadata": {},
   "outputs": [
    {
     "name": "stdout",
     "output_type": "stream",
     "text": [
      "[ 0.45375771  1.58022186  0.45935073 -0.45644151  0.63111652 -1.81405055\n",
      "  1.66008976 -0.1696933  -0.25638475 -2.27065976  0.15412004  0.44925032\n",
      "  0.91641905  0.08133078 -1.37959301  0.31733538  2.6146321   0.20650528\n",
      " -2.26008454  0.94453324  1.10192121 -0.26442553 -0.88557896 -0.72952551\n",
      "  0.60943917  0.82371317 -0.04044631 -1.70724366  0.45476624 -0.33546058\n",
      "  0.19490256  2.34486302 -0.99738616 -0.92043711 -0.25614107  0.931656\n",
      "  1.22306961 -0.98211426  1.25600118 -0.5450645   0.21454437  1.76637207\n",
      " -0.66489858  2.23179138 -0.70264845 -0.40657834 -0.48930496  0.46369134\n",
      "  0.68153794  1.45114463]\n"
     ]
    },
    {
     "name": "stderr",
     "output_type": "stream",
     "text": [
      "C:\\Users\\Sudha Msr\\anaconda3\\lib\\site-packages\\seaborn\\distributions.py:2557: FutureWarning: `distplot` is a deprecated function and will be removed in a future version. Please adapt your code to use either `displot` (a figure-level function with similar flexibility) or `histplot` (an axes-level function for histograms).\n",
      "  warnings.warn(msg, FutureWarning)\n"
     ]
    },
    {
     "data": {
      "text/plain": [
       "<AxesSubplot:ylabel='Density'>"
      ]
     },
     "execution_count": 4,
     "metadata": {},
     "output_type": "execute_result"
    },
    {
     "data": {
      "image/png": "[encoded data removed]",
      "text/plain": [
       "<Figure size 432x288 with 1 Axes>"
      ]
     },
     "metadata": {
      "needs_background": "light"
     },
     "output_type": "display_data"
    }
   ],
   "source": [
    "arr8=np.random.randn(50)\n",
    "print(arr8)\n",
    "sns.distplot(arr8)"
   ]
  },
  {
   "cell_type": "code",
   "execution_count": 5,
   "id": "e473a32e",
   "metadata": {},
   "outputs": [
    {
     "data": {
      "text/plain": [
       "49.97464092553663"
      ]
     },
     "execution_count": 5,
     "metadata": {},
     "output_type": "execute_result"
    }
   ],
   "source": [
    "np.random.normal(50)"
   ]
  },
  {
   "cell_type": "code",
   "execution_count": 6,
   "id": "3320755d",
   "metadata": {},
   "outputs": [
    {
     "data": {
      "text/plain": [
       "array([ 20.15948795, -28.4680207 ,  81.83041407,   8.42426324,\n",
       "         3.39850475,  36.51166373, -92.53427035, -19.75682735,\n",
       "       -19.01866948,  18.5812988 , -32.79976911,  63.76048372,\n",
       "       -23.46431068, -25.52278725,  85.17521892,  45.36503773,\n",
       "        26.88074415, -47.95376794,   8.24930674, -29.22453255])"
      ]
     },
     "execution_count": 6,
     "metadata": {},
     "output_type": "execute_result"
    }
   ],
   "source": [
    "np.random.normal(0,50,20)"
   ]
  },
  {
   "cell_type": "markdown",
   "id": "e059eb33",
   "metadata": {},
   "source": [
    "## Matrices\n",
    "*Identity"
   ]
  },
  {
   "cell_type": "code",
   "execution_count": 7,
   "id": "f221de49",
   "metadata": {},
   "outputs": [
    {
     "name": "stdout",
     "output_type": "stream",
     "text": [
      "[[1. 0. 0.]\n",
      " [0. 1. 0.]\n",
      " [0. 0. 1.]]\n"
     ]
    }
   ],
   "source": [
    "#identity\n",
    "arr9=np.eye(3)\n",
    "print(arr9)"
   ]
  },
  {
   "cell_type": "code",
   "execution_count": 8,
   "id": "a9beae8e",
   "metadata": {},
   "outputs": [
    {
     "name": "stdout",
     "output_type": "stream",
     "text": [
      "[0. 0. 0. 0. 0. 0. 0. 0. 0. 0.]\n"
     ]
    }
   ],
   "source": [
    "# Creating array of zeros\n",
    "arr10= np.zeros(10)\n",
    "print(arr10)"
   ]
  },
  {
   "cell_type": "code",
   "execution_count": 12,
   "id": "a772658f",
   "metadata": {},
   "outputs": [
    {
     "name": "stdout",
     "output_type": "stream",
     "text": [
      "[0 0 0 0 0 0 0 0 0 0]\n"
     ]
    }
   ],
   "source": [
    "arr10= np.zeros(10, dtype='int')\n",
    "print(arr10)"
   ]
  },
  {
   "cell_type": "code",
   "execution_count": 10,
   "id": "4ae535f6",
   "metadata": {},
   "outputs": [
    {
     "name": "stdout",
     "output_type": "stream",
     "text": [
      "[1. 1. 1. 1. 1. 1. 1. 1. 1. 1.]\n"
     ]
    }
   ],
   "source": [
    "# creating array of ones\n",
    "arr11=np.ones(10)\n",
    "print(arr11)"
   ]
  },
  {
   "cell_type": "code",
   "execution_count": 9,
   "id": "277fc85f",
   "metadata": {},
   "outputs": [
    {
     "name": "stdout",
     "output_type": "stream",
     "text": [
      "[5. 5. 5. 5. 5. 5. 5. 5. 5. 5.]\n"
     ]
    }
   ],
   "source": [
    "# creating array of fives\n",
    "arr12=np.ones(10)*5\n",
    "print(arr12)"
   ]
  },
  {
   "cell_type": "code",
   "execution_count": 11,
   "id": "197840f3",
   "metadata": {},
   "outputs": [
    {
     "name": "stdout",
     "output_type": "stream",
     "text": [
      "[1 1 1 1 1 1 1 1 1 1]\n"
     ]
    }
   ],
   "source": [
    "arr11= np.ones(10, dtype='int')\n",
    "print(arr11)"
   ]
  },
  {
   "cell_type": "markdown",
   "id": "543e351d",
   "metadata": {},
   "source": [
    "## Reshape\n",
    "* Lower to higher dimension"
   ]
  },
  {
   "cell_type": "code",
   "execution_count": 13,
   "id": "3e23c95d",
   "metadata": {},
   "outputs": [
    {
     "name": "stdout",
     "output_type": "stream",
     "text": [
      "[[1 1]\n",
      " [1 1]\n",
      " [1 1]\n",
      " [1 1]\n",
      " [1 1]]\n"
     ]
    }
   ],
   "source": [
    "#reshape - 1d to 2d\n",
    "arr_2d= arr11.reshape(5,2)\n",
    "print(arr_2d)"
   ]
  },
  {
   "cell_type": "markdown",
   "id": "0dd88831",
   "metadata": {},
   "source": [
    "# Ravel is opposite of reshaping\n",
    "* Higher to lower dimension\n",
    "  - Return a flattening order"
   ]
  },
  {
   "cell_type": "code",
   "execution_count": 14,
   "id": "b2f7d3ef",
   "metadata": {},
   "outputs": [
    {
     "name": "stdout",
     "output_type": "stream",
     "text": [
      "[1 1 1 1 1 1 1 1 1 1]\n"
     ]
    }
   ],
   "source": [
    "#Ravel - 2d -1d\n",
    "arr_1d= arr_2d.ravel()\n",
    "print(arr_1d)"
   ]
  },
  {
   "cell_type": "markdown",
   "id": "9cfd499c",
   "metadata": {},
   "source": [
    "## Matrix multiplication"
   ]
  },
  {
   "cell_type": "code",
   "execution_count": 15,
   "id": "114abc22",
   "metadata": {},
   "outputs": [
    {
     "name": "stdout",
     "output_type": "stream",
     "text": [
      "[[6 9]\n",
      " [6 9]]\n",
      " \n",
      "[[6 9]\n",
      " [6 9]]\n",
      " \n"
     ]
    }
   ],
   "source": [
    "a11=[[1,2],[1,2]]\n",
    "b11=[[4,5],[1,2]]\n",
    "print(np.matmul(a11,b11))\n",
    "print(' ')\n",
    "print(np.dot(a11,b11))\n",
    "print(' ')                       ##matmul---matrix multiplication"
   ]
  },
  {
   "cell_type": "code",
   "execution_count": 16,
   "id": "1b189191",
   "metadata": {},
   "outputs": [
    {
     "name": "stdout",
     "output_type": "stream",
     "text": [
      "[[ 6 19  9]\n",
      " [ 9 40 18]]\n",
      " \n",
      "[[ 6 19  9]\n",
      " [ 9 40 18]]\n",
      " \n"
     ]
    }
   ],
   "source": [
    "a11=[[1,2],[1,5]]\n",
    "b11=[[4,5,3],[1,7,3]]\n",
    "print(np.matmul(a11,b11))\n",
    "print(' ')\n",
    "print(np.dot(a11,b11))\n",
    "print(' ')"
   ]
  },
  {
   "cell_type": "code",
   "execution_count": 21,
   "id": "869c9f15",
   "metadata": {},
   "outputs": [
    {
     "name": "stdout",
     "output_type": "stream",
     "text": [
      "[[1 2 3]\n",
      " [4 5 6]]\n",
      " \n",
      "[[2 3 4]\n",
      " [1 2 3]]\n",
      " \n",
      "[[2 1]\n",
      " [3 2]\n",
      " [4 3]]\n"
     ]
    }
   ],
   "source": [
    "mat1=np.array([[1,2,3],[4,5,6]])\n",
    "mat2=np.array([[2,3,4],[1,2,3]])\n",
    "mat3=mat2.T\n",
    "print(mat1)\n",
    "print(' ')\n",
    "print(mat2)\n",
    "print(' ')\n",
    "print(mat3)"
   ]
  },
  {
   "cell_type": "code",
   "execution_count": 22,
   "id": "7725eefc",
   "metadata": {},
   "outputs": [
    {
     "data": {
      "text/plain": [
       "array([[20, 14],\n",
       "       [47, 32]])"
      ]
     },
     "execution_count": 22,
     "metadata": {},
     "output_type": "execute_result"
    }
   ],
   "source": [
    "matmul=np.matmul(mat1,mat3)\n",
    "matmul"
   ]
  },
  {
   "cell_type": "markdown",
   "id": "c64e5dbc",
   "metadata": {},
   "source": [
    "## Transpose"
   ]
  },
  {
   "cell_type": "code",
   "execution_count": 17,
   "id": "b43c2d05",
   "metadata": {},
   "outputs": [
    {
     "name": "stdout",
     "output_type": "stream",
     "text": [
      "[[1 1]\n",
      " [2 5]]\n"
     ]
    }
   ],
   "source": [
    "print(np.transpose(a11))"
   ]
  },
  {
   "cell_type": "code",
   "execution_count": 18,
   "id": "505d6a6e",
   "metadata": {},
   "outputs": [
    {
     "name": "stdout",
     "output_type": "stream",
     "text": [
      "1\n"
     ]
    }
   ],
   "source": [
    "print(np.min(a11))  ##Minimum of matrix"
   ]
  },
  {
   "cell_type": "code",
   "execution_count": 19,
   "id": "434dc80e",
   "metadata": {},
   "outputs": [
    {
     "name": "stdout",
     "output_type": "stream",
     "text": [
      "5\n"
     ]
    }
   ],
   "source": [
    "print(np.max(a11))  ##max of matrix"
   ]
  },
  {
   "cell_type": "code",
   "execution_count": 20,
   "id": "ef6a441b",
   "metadata": {},
   "outputs": [
    {
     "data": {
      "text/plain": [
       "array([1, 2, 1, 5])"
      ]
     },
     "execution_count": 20,
     "metadata": {},
     "output_type": "execute_result"
    }
   ],
   "source": [
    "np.concatenate((a11))   #concate is also nothing but adding"
   ]
  },
  {
   "cell_type": "code",
   "execution_count": 23,
   "id": "3bb0bd77",
   "metadata": {},
   "outputs": [
    {
     "name": "stdout",
     "output_type": "stream",
     "text": [
      "1\n",
      "6\n",
      "[4 5 9]\n",
      "-1.0\n",
      "1.2246467991473532e-16\n",
      "3.5\n"
     ]
    }
   ],
   "source": [
    "a1=np.array([1,2,3,4,5,6])\n",
    "print(np.min(a1))\n",
    "print(np.max(a1))\n",
    "print(np.maximum([2,3,5],[4,5,9]))\n",
    "print(np.cos(np.pi))\n",
    "print(np.sin(np.pi))\n",
    "print(np.average(a1))"
   ]
  },
  {
   "cell_type": "code",
   "execution_count": 24,
   "id": "8138c91d",
   "metadata": {},
   "outputs": [
    {
     "data": {
      "text/plain": [
       "array([[1, 2, 3],\n",
       "       [4, 5, 6],\n",
       "       [2, 3, 4],\n",
       "       [1, 2, 3]])"
      ]
     },
     "execution_count": 24,
     "metadata": {},
     "output_type": "execute_result"
    }
   ],
   "source": [
    "mat1=np.array([[1,2,3],[4,5,6]])\n",
    "mat2=np.array([[2,3,4],[1,2,3]])\n",
    "np.concatenate((mat1,mat2))"
   ]
  },
  {
   "cell_type": "code",
   "execution_count": 25,
   "id": "665bf341",
   "metadata": {},
   "outputs": [
    {
     "data": {
      "text/plain": [
       "array([[1, 2, 3, 2, 3, 4],\n",
       "       [4, 5, 6, 1, 2, 3]])"
      ]
     },
     "execution_count": 25,
     "metadata": {},
     "output_type": "execute_result"
    }
   ],
   "source": [
    "mat1=np.array([[1,2,3],[4,5,6]])\n",
    "mat2=np.array([[2,3,4],[1,2,3]])\n",
    "concat_array=np.concatenate((mat1,mat2),axis=1)\n",
    "concat_array"
   ]
  },
  {
   "cell_type": "code",
   "execution_count": 26,
   "id": "2bff7b3c",
   "metadata": {},
   "outputs": [
    {
     "name": "stdout",
     "output_type": "stream",
     "text": [
      "[[1 2 3]\n",
      " [4 5 6]\n",
      " [2 3 4]\n",
      " [1 2 3]]\n",
      " \n",
      "[[1 2 3 2 3 4]\n",
      " [4 5 6 1 2 3]]\n"
     ]
    }
   ],
   "source": [
    "array_vstack=np.vstack((mat1,mat2))\n",
    "array_hstack=np.hstack((mat1,mat2))\n",
    "print(array_vstack)\n",
    "print(' ')\n",
    "print(array_hstack)"
   ]
  },
  {
   "cell_type": "code",
   "execution_count": 27,
   "id": "a1cbe4ec",
   "metadata": {},
   "outputs": [
    {
     "data": {
      "text/plain": [
       "array([[7, 1, 5],\n",
       "       [2, 1, 8],\n",
       "       [1, 4, 4],\n",
       "       [9, 4, 9]])"
      ]
     },
     "execution_count": 27,
     "metadata": {},
     "output_type": "execute_result"
    }
   ],
   "source": [
    "#create a 2-d array of shape(4,3) and access the last item\n",
    "a1=(np.random.rand(4,3)*10).astype('int')\n",
    "a1"
   ]
  },
  {
   "cell_type": "code",
   "execution_count": 28,
   "id": "cc3100ef",
   "metadata": {},
   "outputs": [
    {
     "data": {
      "text/plain": [
       "array([[9]])"
      ]
     },
     "execution_count": 28,
     "metadata": {},
     "output_type": "execute_result"
    }
   ],
   "source": [
    "a1[3:,2:]"
   ]
  },
  {
   "cell_type": "code",
   "execution_count": 29,
   "id": "2b06a7a4",
   "metadata": {},
   "outputs": [
    {
     "data": {
      "text/plain": [
       "(4, 3)"
      ]
     },
     "execution_count": 29,
     "metadata": {},
     "output_type": "execute_result"
    }
   ],
   "source": [
    "a1.shape"
   ]
  },
  {
   "cell_type": "code",
   "execution_count": 30,
   "id": "6ebe2e7e",
   "metadata": {},
   "outputs": [
    {
     "data": {
      "text/plain": [
       "12"
      ]
     },
     "execution_count": 30,
     "metadata": {},
     "output_type": "execute_result"
    }
   ],
   "source": [
    "a1.size"
   ]
  },
  {
   "cell_type": "code",
   "execution_count": 31,
   "id": "0f34f644",
   "metadata": {},
   "outputs": [
    {
     "data": {
      "text/plain": [
       "array([[[[[[[[[[8246],\n",
       "               [8703]],\n",
       "\n",
       "              [[1829],\n",
       "               [ 329]],\n",
       "\n",
       "              [[6108],\n",
       "               [4523]],\n",
       "\n",
       "              [[9680],\n",
       "               [9465]],\n",
       "\n",
       "              [[9475],\n",
       "               [8866]]]]]]],\n",
       "\n",
       "\n",
       "\n",
       "\n",
       "\n",
       "\n",
       "         [[[[[[[6406],\n",
       "               [2068]],\n",
       "\n",
       "              [[9215],\n",
       "               [9338]],\n",
       "\n",
       "              [[3352],\n",
       "               [7106]],\n",
       "\n",
       "              [[9040],\n",
       "               [2404]],\n",
       "\n",
       "              [[5820],\n",
       "               [2072]]]]]]],\n",
       "\n",
       "\n",
       "\n",
       "\n",
       "\n",
       "\n",
       "         [[[[[[[3633],\n",
       "               [6101]],\n",
       "\n",
       "              [[5381],\n",
       "               [8568]],\n",
       "\n",
       "              [[1625],\n",
       "               [4732]],\n",
       "\n",
       "              [[7883],\n",
       "               [4914]],\n",
       "\n",
       "              [[6657],\n",
       "               [5689]]]]]]],\n",
       "\n",
       "\n",
       "\n",
       "\n",
       "\n",
       "\n",
       "         [[[[[[[7122],\n",
       "               [7083]],\n",
       "\n",
       "              [[3447],\n",
       "               [ 585]],\n",
       "\n",
       "              [[9091],\n",
       "               [8540]],\n",
       "\n",
       "              [[2300],\n",
       "               [8621]],\n",
       "\n",
       "              [[1636],\n",
       "               [4773]]]]]]],\n",
       "\n",
       "\n",
       "\n",
       "\n",
       "\n",
       "\n",
       "         [[[[[[[ 836],\n",
       "               [7428]],\n",
       "\n",
       "              [[8471],\n",
       "               [7637]],\n",
       "\n",
       "              [[ 770],\n",
       "               [4944]],\n",
       "\n",
       "              [[4871],\n",
       "               [ 381]],\n",
       "\n",
       "              [[9226],\n",
       "               [6938]]]]]]]],\n",
       "\n",
       "\n",
       "\n",
       "\n",
       "\n",
       "\n",
       "\n",
       "        [[[[[[[[1991],\n",
       "               [8723]],\n",
       "\n",
       "              [[2649],\n",
       "               [4778]],\n",
       "\n",
       "              [[2728],\n",
       "               [7408]],\n",
       "\n",
       "              [[6454],\n",
       "               [3098]],\n",
       "\n",
       "              [[4208],\n",
       "               [6690]]]]]]],\n",
       "\n",
       "\n",
       "\n",
       "\n",
       "\n",
       "\n",
       "         [[[[[[[4068],\n",
       "               [4573]],\n",
       "\n",
       "              [[6003],\n",
       "               [3024]],\n",
       "\n",
       "              [[5849],\n",
       "               [6207]],\n",
       "\n",
       "              [[1239],\n",
       "               [4919]],\n",
       "\n",
       "              [[6569],\n",
       "               [1963]]]]]]],\n",
       "\n",
       "\n",
       "\n",
       "\n",
       "\n",
       "\n",
       "         [[[[[[[8199],\n",
       "               [6449]],\n",
       "\n",
       "              [[7391],\n",
       "               [ 412]],\n",
       "\n",
       "              [[5233],\n",
       "               [3751]],\n",
       "\n",
       "              [[7457],\n",
       "               [8618]],\n",
       "\n",
       "              [[5321],\n",
       "               [2996]]]]]]],\n",
       "\n",
       "\n",
       "\n",
       "\n",
       "\n",
       "\n",
       "         [[[[[[[9399],\n",
       "               [ 294]],\n",
       "\n",
       "              [[ 350],\n",
       "               [9378]],\n",
       "\n",
       "              [[9120],\n",
       "               [3244]],\n",
       "\n",
       "              [[9013],\n",
       "               [3957]],\n",
       "\n",
       "              [[8976],\n",
       "               [9093]]]]]]],\n",
       "\n",
       "\n",
       "\n",
       "\n",
       "\n",
       "\n",
       "         [[[[[[[6486],\n",
       "               [1648]],\n",
       "\n",
       "              [[4209],\n",
       "               [8516]],\n",
       "\n",
       "              [[1346],\n",
       "               [1600]],\n",
       "\n",
       "              [[4813],\n",
       "               [3171]],\n",
       "\n",
       "              [[2808],\n",
       "               [5239]]]]]]]]],\n",
       "\n",
       "\n",
       "\n",
       "\n",
       "\n",
       "\n",
       "\n",
       "\n",
       "       [[[[[[[[[9736],\n",
       "               [5381]],\n",
       "\n",
       "              [[1740],\n",
       "               [3865]],\n",
       "\n",
       "              [[3697],\n",
       "               [ 707]],\n",
       "\n",
       "              [[4409],\n",
       "               [7747]],\n",
       "\n",
       "              [[ 702],\n",
       "               [  20]]]]]]],\n",
       "\n",
       "\n",
       "\n",
       "\n",
       "\n",
       "\n",
       "         [[[[[[[2836],\n",
       "               [6529]],\n",
       "\n",
       "              [[8537],\n",
       "               [ 208]],\n",
       "\n",
       "              [[2993],\n",
       "               [ 975]],\n",
       "\n",
       "              [[1479],\n",
       "               [5588]],\n",
       "\n",
       "              [[4507],\n",
       "               [9172]]]]]]],\n",
       "\n",
       "\n",
       "\n",
       "\n",
       "\n",
       "\n",
       "         [[[[[[[7758],\n",
       "               [4491]],\n",
       "\n",
       "              [[4982],\n",
       "               [1225]],\n",
       "\n",
       "              [[9656],\n",
       "               [5054]],\n",
       "\n",
       "              [[5171],\n",
       "               [3181]],\n",
       "\n",
       "              [[3929],\n",
       "               [9834]]]]]]],\n",
       "\n",
       "\n",
       "\n",
       "\n",
       "\n",
       "\n",
       "         [[[[[[[8571],\n",
       "               [ 970]],\n",
       "\n",
       "              [[  74],\n",
       "               [5485]],\n",
       "\n",
       "              [[1213],\n",
       "               [2626]],\n",
       "\n",
       "              [[4511],\n",
       "               [7355]],\n",
       "\n",
       "              [[2834],\n",
       "               [3454]]]]]]],\n",
       "\n",
       "\n",
       "\n",
       "\n",
       "\n",
       "\n",
       "         [[[[[[[8225],\n",
       "               [3617]],\n",
       "\n",
       "              [[4715],\n",
       "               [1722]],\n",
       "\n",
       "              [[5883],\n",
       "               [  42]],\n",
       "\n",
       "              [[2741],\n",
       "               [2733]],\n",
       "\n",
       "              [[5212],\n",
       "               [4780]]]]]]]],\n",
       "\n",
       "\n",
       "\n",
       "\n",
       "\n",
       "\n",
       "\n",
       "        [[[[[[[[1203],\n",
       "               [9659]],\n",
       "\n",
       "              [[7103],\n",
       "               [6012]],\n",
       "\n",
       "              [[2682],\n",
       "               [8762]],\n",
       "\n",
       "              [[4489],\n",
       "               [6316]],\n",
       "\n",
       "              [[4303],\n",
       "               [ 625]]]]]]],\n",
       "\n",
       "\n",
       "\n",
       "\n",
       "\n",
       "\n",
       "         [[[[[[[5955],\n",
       "               [7729]],\n",
       "\n",
       "              [[3126],\n",
       "               [2399]],\n",
       "\n",
       "              [[  62],\n",
       "               [7837]],\n",
       "\n",
       "              [[6754],\n",
       "               [9762]],\n",
       "\n",
       "              [[9091],\n",
       "               [5917]]]]]]],\n",
       "\n",
       "\n",
       "\n",
       "\n",
       "\n",
       "\n",
       "         [[[[[[[ 979],\n",
       "               [ 357]],\n",
       "\n",
       "              [[1852],\n",
       "               [3890]],\n",
       "\n",
       "              [[1589],\n",
       "               [2063]],\n",
       "\n",
       "              [[ 414],\n",
       "               [3903]],\n",
       "\n",
       "              [[3590],\n",
       "               [7792]]]]]]],\n",
       "\n",
       "\n",
       "\n",
       "\n",
       "\n",
       "\n",
       "         [[[[[[[9978],\n",
       "               [7522]],\n",
       "\n",
       "              [[7008],\n",
       "               [2997]],\n",
       "\n",
       "              [[3163],\n",
       "               [7130]],\n",
       "\n",
       "              [[3614],\n",
       "               [ 319]],\n",
       "\n",
       "              [[8832],\n",
       "               [3397]]]]]]],\n",
       "\n",
       "\n",
       "\n",
       "\n",
       "\n",
       "\n",
       "         [[[[[[[8377],\n",
       "               [7214]],\n",
       "\n",
       "              [[2536],\n",
       "               [1773]],\n",
       "\n",
       "              [[2776],\n",
       "               [4916]],\n",
       "\n",
       "              [[6189],\n",
       "               [7629]],\n",
       "\n",
       "              [[4457],\n",
       "               [2866]]]]]]]]]])"
      ]
     },
     "execution_count": 31,
     "metadata": {},
     "output_type": "execute_result"
    }
   ],
   "source": [
    "np.random.randint(1,10000,200).reshape(2,2,5,1,1,1,1,5,2,1)"
   ]
  },
  {
   "cell_type": "code",
   "execution_count": 32,
   "id": "1f2f5ee9",
   "metadata": {},
   "outputs": [
    {
     "data": {
      "text/plain": [
       "array([[ True, False, False],\n",
       "       [False, False,  True],\n",
       "       [False, False, False],\n",
       "       [ True, False,  True]])"
      ]
     },
     "execution_count": 32,
     "metadata": {},
     "output_type": "execute_result"
    }
   ],
   "source": [
    "a1>5                         ##with one condition"
   ]
  },
  {
   "cell_type": "code",
   "execution_count": 33,
   "id": "f0d12606",
   "metadata": {},
   "outputs": [
    {
     "data": {
      "text/plain": [
       "array([[7., 1., 5.],\n",
       "       [2., 1., 8.],\n",
       "       [1., 4., 4.],\n",
       "       [9., 4., 9.]])"
      ]
     },
     "execution_count": 33,
     "metadata": {},
     "output_type": "execute_result"
    }
   ],
   "source": [
    "a1.astype('float')"
   ]
  },
  {
   "cell_type": "code",
   "execution_count": 34,
   "id": "c50fd6a8",
   "metadata": {},
   "outputs": [
    {
     "data": {
      "text/plain": [
       "array([[2, 1, 8],\n",
       "       [1, 4, 4]])"
      ]
     },
     "execution_count": 34,
     "metadata": {},
     "output_type": "execute_result"
    }
   ],
   "source": [
    "a1[1:3]"
   ]
  }
 ],
 "metadata": {
  "kernelspec": {
   "display_name": "Python 3",
   "language": "python",
   "name": "python3"
  },
  "language_info": {
   "codemirror_mode": {
    "name": "ipython",
    "version": 3
   },
   "file_extension": ".py",
   "mimetype": "text/x-python",
   "name": "python",
   "nbconvert_exporter": "python",
   "pygments_lexer": "ipython3",
   "version": "3.8.8"
  }
 },
 "nbformat": 4,
 "nbformat_minor": 5
}
