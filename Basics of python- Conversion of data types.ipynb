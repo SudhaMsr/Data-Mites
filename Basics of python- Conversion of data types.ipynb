{
 "cells": [
  {
   "cell_type": "markdown",
   "id": "b7f6731c",
   "metadata": {},
   "source": [
    "# Conversion or Casting of data types:\n",
    "* Conversion of one data type to another data type:"
   ]
  },
  {
   "cell_type": "code",
   "execution_count": 1,
   "id": "55a30c58",
   "metadata": {},
   "outputs": [
    {
     "name": "stdout",
     "output_type": "stream",
     "text": [
      "<class 'float'>\n",
      "<class 'int'>\n",
      "<class 'complex'>\n"
     ]
    }
   ],
   "source": [
    "a = 1      #int\n",
    "b = 2.9    #float\n",
    "c = 5j     #complex\n",
    "\n",
    "#conversion of int to float\n",
    "x = float(a)\n",
    "\n",
    "#conversion of float to int\n",
    "y = int(b)\n",
    "\n",
    "#conversion of int to complex\n",
    "z = complex(a)\n",
    "\n",
    "print(type(x))\n",
    "print(type(y))\n",
    "print(type(z))"
   ]
  },
  {
   "cell_type": "markdown",
   "id": "fcd54c71",
   "metadata": {},
   "source": [
    "## Integers:- "
   ]
  },
  {
   "cell_type": "code",
   "execution_count": 2,
   "id": "9799adfb",
   "metadata": {},
   "outputs": [
    {
     "name": "stdout",
     "output_type": "stream",
     "text": [
      "5\n",
      "5\n",
      "5\n"
     ]
    }
   ],
   "source": [
    "a = int(5)\n",
    "b = int(5.6)\n",
    "c = int(\"5\")\n",
    "print(a)\n",
    "print(b)\n",
    "print(c)"
   ]
  },
  {
   "cell_type": "code",
   "execution_count": 5,
   "id": "143f0138",
   "metadata": {},
   "outputs": [
    {
     "name": "stdout",
     "output_type": "stream",
     "text": [
      "value of i: 10\n",
      "type of i is: <class 'int'>\n",
      "value of f: 10.0\n",
      "type of f is: <class 'float'>\n"
     ]
    }
   ],
   "source": [
    "#type casting... converting one data type to another data type\n",
    "i=10\n",
    "f=float(i)\n",
    "print(\"value of i:\",i)\n",
    "print(\"type of i is:\",type(i))\n",
    "print(\"value of f:\",f)\n",
    "print(\"type of f is:\",type(f))"
   ]
  },
  {
   "cell_type": "code",
   "execution_count": 8,
   "id": "108d66af",
   "metadata": {},
   "outputs": [
    {
     "data": {
      "text/plain": [
       "2"
      ]
     },
     "execution_count": 8,
     "metadata": {},
     "output_type": "execute_result"
    }
   ],
   "source": [
    "int(2.9)"
   ]
  },
  {
   "cell_type": "markdown",
   "id": "da93da4d",
   "metadata": {},
   "source": [
    "## Float:- "
   ]
  },
  {
   "cell_type": "code",
   "execution_count": 3,
   "id": "21875693",
   "metadata": {},
   "outputs": [
    {
     "name": "stdout",
     "output_type": "stream",
     "text": [
      "5.0\n",
      "5.6\n",
      "57.0\n",
      "5.4\n"
     ]
    }
   ],
   "source": [
    "a = float(5)\n",
    "b = float(5.6)\n",
    "c = float(\"57\")\n",
    "d = float(\"5.4\")\n",
    "print(a)\n",
    "print(b)\n",
    "print(c)\n",
    "print(d)"
   ]
  },
  {
   "cell_type": "code",
   "execution_count": 6,
   "id": "5c5d7f70",
   "metadata": {},
   "outputs": [
    {
     "name": "stdout",
     "output_type": "stream",
     "text": [
      "value of f: 10.5\n",
      "type of f is: <class 'float'>\n",
      "value of i: 10\n",
      "type of i is: <class 'int'>\n"
     ]
    }
   ],
   "source": [
    "f=10.5\n",
    "i=int(f)\n",
    "print(\"value of f:\",f)\n",
    "print(\"type of f is:\",type(f))\n",
    "print(\"value of i:\",i)\n",
    "print(\"type of i is:\",type(i))"
   ]
  },
  {
   "cell_type": "code",
   "execution_count": 7,
   "id": "d7912be8",
   "metadata": {},
   "outputs": [
    {
     "data": {
      "text/plain": [
       "2.0"
      ]
     },
     "execution_count": 7,
     "metadata": {},
     "output_type": "execute_result"
    }
   ],
   "source": [
    "float(2)"
   ]
  },
  {
   "cell_type": "markdown",
   "id": "0f2901e8",
   "metadata": {},
   "source": [
    "## Strings:- "
   ]
  },
  {
   "cell_type": "code",
   "execution_count": 4,
   "id": "a0533535",
   "metadata": {},
   "outputs": [
    {
     "name": "stdout",
     "output_type": "stream",
     "text": [
      "5\n",
      "5.2\n",
      "Alaric\n"
     ]
    }
   ],
   "source": [
    "a = str(5)\n",
    "b = str(5.2)\n",
    "c = str(\"Alaric\")\n",
    "print(a)\n",
    "print(b)\n",
    "print(c)"
   ]
  },
  {
   "cell_type": "code",
   "execution_count": 9,
   "id": "a54ba0bf",
   "metadata": {},
   "outputs": [
    {
     "data": {
      "text/plain": [
       "'2.9'"
      ]
     },
     "execution_count": 9,
     "metadata": {},
     "output_type": "execute_result"
    }
   ],
   "source": [
    "str(2.9)"
   ]
  }
 ],
 "metadata": {
  "kernelspec": {
   "display_name": "Python 3",
   "language": "python",
   "name": "python3"
  },
  "language_info": {
   "codemirror_mode": {
    "name": "ipython",
    "version": 3
   },
   "file_extension": ".py",
   "mimetype": "text/x-python",
   "name": "python",
   "nbconvert_exporter": "python",
   "pygments_lexer": "ipython3",
   "version": "3.8.8"
  }
 },
 "nbformat": 4,
 "nbformat_minor": 5
}
