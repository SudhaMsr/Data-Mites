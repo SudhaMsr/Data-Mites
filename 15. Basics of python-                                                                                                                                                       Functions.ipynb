{
 "cells": [
  {
   "cell_type": "markdown",
   "id": "e83ef6a4",
   "metadata": {},
   "source": [
    "# Functions\n",
    "* It is a block of code which performs a specific task or Set of Codes that performs a specific task  "
   ]
  },
  {
   "cell_type": "markdown",
   "id": "0895d442",
   "metadata": {},
   "source": [
    "### Creating function\n",
    "* In Python a function is defined using the def keyword"
   ]
  },
  {
   "cell_type": "code",
   "execution_count": 1,
   "id": "b8ee2068",
   "metadata": {},
   "outputs": [
    {
     "name": "stdout",
     "output_type": "stream",
     "text": [
      "Hello World\n"
     ]
    }
   ],
   "source": [
    "def my_function(): #non-parameterised function\n",
    "    print(\"Hello World\")\n",
    "my_function()"
   ]
  },
  {
   "cell_type": "code",
   "execution_count": 2,
   "id": "6295a1dc",
   "metadata": {},
   "outputs": [
    {
     "name": "stdout",
     "output_type": "stream",
     "text": [
      "Hello Alaric\n"
     ]
    }
   ],
   "source": [
    "def my_function1(name):\n",
    "    print(\"Hello\",name)\n",
    "my_function1(\"Alaric\")"
   ]
  },
  {
   "cell_type": "markdown",
   "id": "4705d9a6",
   "metadata": {},
   "source": [
    "### Taking values from users "
   ]
  },
  {
   "cell_type": "code",
   "execution_count": 3,
   "id": "40f6103d",
   "metadata": {},
   "outputs": [
    {
     "name": "stdout",
     "output_type": "stream",
     "text": [
      "enter the value of a:20\n",
      "enter the value of b:60\n",
      "enter the value of c:30\n"
     ]
    },
    {
     "data": {
      "text/plain": [
       "str"
      ]
     },
     "execution_count": 3,
     "metadata": {},
     "output_type": "execute_result"
    }
   ],
   "source": [
    "a= (input(\"enter the value of a:\"))\n",
    "b= (input(\"enter the value of b:\"))\n",
    "c= (input(\"enter the value of c:\"))\n",
    "type(a)\n",
    "#cal(a,b,c)"
   ]
  },
  {
   "cell_type": "code",
   "execution_count": 7,
   "id": "e68b61d3",
   "metadata": {},
   "outputs": [
    {
     "name": "stdout",
     "output_type": "stream",
     "text": [
      "addition of a,b,c is: 30\n"
     ]
    }
   ],
   "source": [
    "#multiple parameters\n",
    "def cal(a,b,c):\n",
    "    sum1=a+b+c\n",
    "    print(\"addition of a,b,c is:\",sum1)\n",
    "cal(10,10,10)"
   ]
  },
  {
   "cell_type": "code",
   "execution_count": 9,
   "id": "26600d5f",
   "metadata": {},
   "outputs": [
    {
     "name": "stdout",
     "output_type": "stream",
     "text": [
      "addition of a,b,c is: 40\n"
     ]
    }
   ],
   "source": [
    "def cal(a,b,c=20):\n",
    "    sum1=a+b+c\n",
    "    print(\"addition of a,b,c is:\",sum1)\n",
    "cal(10,10)"
   ]
  },
  {
   "cell_type": "code",
   "execution_count": 11,
   "id": "f55be328",
   "metadata": {},
   "outputs": [
    {
     "data": {
      "text/plain": [
       "36"
      ]
     },
     "execution_count": 11,
     "metadata": {},
     "output_type": "execute_result"
    }
   ],
   "source": [
    "def cal1(a,b):             ## return keyword\n",
    "    sum1=a+b\n",
    "    return sum1\n",
    "cal1(10,26)"
   ]
  },
  {
   "cell_type": "code",
   "execution_count": 12,
   "id": "86b41e06",
   "metadata": {},
   "outputs": [
    {
     "name": "stdout",
     "output_type": "stream",
     "text": [
      "Emil Refsnes\n",
      "Tobias Refsnes\n",
      "Linus Refsnes\n"
     ]
    }
   ],
   "source": [
    "def my_function(fname):\n",
    "  print(fname + \" Refsnes\")\n",
    "\n",
    "my_function(\"Emil\")\n",
    "my_function(\"Tobias\")\n",
    "my_function(\"Linus\")"
   ]
  },
  {
   "cell_type": "markdown",
   "id": "a5627f2a",
   "metadata": {},
   "source": [
    "### Range function: "
   ]
  },
  {
   "cell_type": "code",
   "execution_count": 13,
   "id": "a9c907ed",
   "metadata": {},
   "outputs": [
    {
     "name": "stdout",
     "output_type": "stream",
     "text": [
      "Emil Refsnes\n",
      "Tobias Refsnes\n",
      "Linus Refsnes\n"
     ]
    }
   ],
   "source": [
    "def my_function(fname):\n",
    "  print(fname + \" Refsnes\")\n",
    "\n",
    "my_function(\"Emil\")\n",
    "my_function(\"Tobias\")\n",
    "my_function(\"Linus\")"
   ]
  },
  {
   "cell_type": "code",
   "execution_count": 14,
   "id": "be9cba10",
   "metadata": {},
   "outputs": [],
   "source": [
    "def myfunction():\n",
    "  pass"
   ]
  },
  {
   "cell_type": "markdown",
   "id": "c4325359",
   "metadata": {},
   "source": [
    "### Recursion\n",
    "* Recursion is a common mathematical and programming concept. It means that a function calls itself."
   ]
  },
  {
   "cell_type": "code",
   "execution_count": 15,
   "id": "ae17c358",
   "metadata": {},
   "outputs": [
    {
     "name": "stdout",
     "output_type": "stream",
     "text": [
      "\n",
      "\n",
      "Recursion Example Results\n",
      "1\n",
      "3\n",
      "6\n",
      "10\n",
      "15\n",
      "21\n"
     ]
    },
    {
     "data": {
      "text/plain": [
       "21"
      ]
     },
     "execution_count": 15,
     "metadata": {},
     "output_type": "execute_result"
    }
   ],
   "source": [
    "def tri_recursion(k):\n",
    "  if(k > 0):\n",
    "    result = k + tri_recursion(k - 1)\n",
    "    print(result)\n",
    "  else:\n",
    "    result = 0\n",
    "  return result\n",
    "\n",
    "print(\"\\n\\nRecursion Example Results\")\n",
    "tri_recursion(6)"
   ]
  }
 ],
 "metadata": {
  "kernelspec": {
   "display_name": "Python 3",
   "language": "python",
   "name": "python3"
  },
  "language_info": {
   "codemirror_mode": {
    "name": "ipython",
    "version": 3
   },
   "file_extension": ".py",
   "mimetype": "text/x-python",
   "name": "python",
   "nbconvert_exporter": "python",
   "pygments_lexer": "ipython3",
   "version": "3.8.8"
  }
 },
 "nbformat": 4,
 "nbformat_minor": 5
}
