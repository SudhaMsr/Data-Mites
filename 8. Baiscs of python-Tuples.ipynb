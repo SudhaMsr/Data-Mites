{
 "cells": [
  {
   "cell_type": "markdown",
   "id": "3816f910",
   "metadata": {},
   "source": [
    "# Tuples:\n",
    "* Sequence of elements\n",
    "* Properties of Tuples\n",
    "  1. Ordered\n",
    "  2. Allows Duplicates\n",
    "  3. Immutable- We cannot change or modify the tuple/ Unchangeable\n",
    "  4. Iterable"
   ]
  },
  {
   "cell_type": "markdown",
   "id": "9891a622",
   "metadata": {},
   "source": [
    "### Creating a Tuple"
   ]
  },
  {
   "cell_type": "code",
   "execution_count": 1,
   "id": "e27e0227",
   "metadata": {
    "scrolled": true
   },
   "outputs": [
    {
     "name": "stdout",
     "output_type": "stream",
     "text": [
      "(2, 3, 1, 56, 8)\n"
     ]
    }
   ],
   "source": [
    "t1=(2,3,1,56,8)\n",
    "print(t1)"
   ]
  },
  {
   "cell_type": "markdown",
   "id": "174037b1",
   "metadata": {},
   "source": [
    "### Type "
   ]
  },
  {
   "cell_type": "code",
   "execution_count": 2,
   "id": "c28c396c",
   "metadata": {},
   "outputs": [
    {
     "name": "stdout",
     "output_type": "stream",
     "text": [
      "<class 'tuple'>\n"
     ]
    }
   ],
   "source": [
    "print(type(t1))"
   ]
  },
  {
   "cell_type": "markdown",
   "id": "abd4be51",
   "metadata": {},
   "source": [
    "### Count- How many times an element occur in the tuple"
   ]
  },
  {
   "cell_type": "code",
   "execution_count": 3,
   "id": "1c7062fa",
   "metadata": {},
   "outputs": [
    {
     "data": {
      "text/plain": [
       "2"
      ]
     },
     "execution_count": 3,
     "metadata": {},
     "output_type": "execute_result"
    }
   ],
   "source": [
    "t1=(1,2,3,4,5,6,1)   #How many times 1 occur in the tuple\n",
    "t1.count(1)"
   ]
  },
  {
   "cell_type": "markdown",
   "id": "c1c93f70",
   "metadata": {},
   "source": [
    "### Index "
   ]
  },
  {
   "cell_type": "code",
   "execution_count": 6,
   "id": "c77b70da",
   "metadata": {},
   "outputs": [
    {
     "data": {
      "text/plain": [
       "1"
      ]
     },
     "execution_count": 6,
     "metadata": {},
     "output_type": "execute_result"
    }
   ],
   "source": [
    "t1.index(2)         #2 is in first place as indexing starts from 0"
   ]
  },
  {
   "cell_type": "markdown",
   "id": "6e0bc0c1",
   "metadata": {},
   "source": [
    "### Contatenation- Adding "
   ]
  },
  {
   "cell_type": "code",
   "execution_count": 7,
   "id": "09fabc5f",
   "metadata": {},
   "outputs": [
    {
     "data": {
      "text/plain": [
       "(1, 2, 3, 4, 5, 6, 5, 9, 1, 100, 200)"
      ]
     },
     "execution_count": 7,
     "metadata": {},
     "output_type": "execute_result"
    }
   ],
   "source": [
    "t3=(1,2,3,4,5,6,5,9,1)\n",
    "t3 +(100,200)"
   ]
  },
  {
   "cell_type": "markdown",
   "id": "a850ab1d",
   "metadata": {},
   "source": [
    "### Length "
   ]
  },
  {
   "cell_type": "code",
   "execution_count": 8,
   "id": "20a56475",
   "metadata": {},
   "outputs": [
    {
     "data": {
      "text/plain": [
       "9"
      ]
     },
     "execution_count": 8,
     "metadata": {},
     "output_type": "execute_result"
    }
   ],
   "source": [
    "# CONCATENATION - adding\n",
    "t3=(1,2,3,4,5,6,5,9,1)\n",
    "len(t3)"
   ]
  },
  {
   "cell_type": "markdown",
   "id": "9618650f",
   "metadata": {},
   "source": [
    "### Accessing tuple "
   ]
  },
  {
   "cell_type": "code",
   "execution_count": 9,
   "id": "61f1c331",
   "metadata": {},
   "outputs": [
    {
     "name": "stdout",
     "output_type": "stream",
     "text": [
      "3\n"
     ]
    }
   ],
   "source": [
    "t3=(1,2,3,4,5,6,5,9,1)\n",
    "print(t3[2])"
   ]
  },
  {
   "cell_type": "code",
   "execution_count": 10,
   "id": "26c3bc21",
   "metadata": {},
   "outputs": [
    {
     "name": "stdout",
     "output_type": "stream",
     "text": [
      "9\n"
     ]
    }
   ],
   "source": [
    "print(t3[-2])"
   ]
  },
  {
   "cell_type": "markdown",
   "id": "386a9828",
   "metadata": {},
   "source": [
    "### Range of Indexing "
   ]
  },
  {
   "cell_type": "code",
   "execution_count": 11,
   "id": "275b64ac",
   "metadata": {},
   "outputs": [
    {
     "name": "stdout",
     "output_type": "stream",
     "text": [
      "(3, 4, 5, 6)\n"
     ]
    }
   ],
   "source": [
    "print(t3[2:6])      #Last element will not be included"
   ]
  },
  {
   "cell_type": "markdown",
   "id": "a16640c9",
   "metadata": {},
   "source": [
    "### Checking whether the item is existed in list or not "
   ]
  },
  {
   "cell_type": "code",
   "execution_count": 12,
   "id": "6f076482",
   "metadata": {},
   "outputs": [
    {
     "name": "stdout",
     "output_type": "stream",
     "text": [
      "Yes 5 is present in t3\n"
     ]
    }
   ],
   "source": [
    "t3=(1,2,3,4,5,6,5,9,1)\n",
    "if 5 in t3:\n",
    "    print(\"Yes 5 is present in t3\")"
   ]
  },
  {
   "cell_type": "markdown",
   "id": "92b66b37",
   "metadata": {},
   "source": [
    "### Convert Tuple into list "
   ]
  },
  {
   "cell_type": "code",
   "execution_count": 14,
   "id": "fe435a62",
   "metadata": {},
   "outputs": [
    {
     "name": "stdout",
     "output_type": "stream",
     "text": [
      "(1, 2, 3, 4, 5, 6, 5, 9, 1)\n",
      "[1, 2, 3, 4, 5, 6, 5, 9, 1]\n"
     ]
    }
   ],
   "source": [
    "t3=(1,2,3,4,5,6,5,9,1)\n",
    "t4=list(t3)\n",
    "t3=tuple(t4)\n",
    "print(t3)\n",
    "print(t4)"
   ]
  },
  {
   "cell_type": "markdown",
   "id": "82f08102",
   "metadata": {},
   "source": [
    "### Append -Tuple has no attribute of append, so first we need to convert tuple into list and then add elements"
   ]
  },
  {
   "cell_type": "code",
   "execution_count": 19,
   "id": "8f4867e7",
   "metadata": {},
   "outputs": [
    {
     "name": "stdout",
     "output_type": "stream",
     "text": [
      "[1, 2, 3, 4, 5, 6, 5, 9, 1, 0]\n"
     ]
    }
   ],
   "source": [
    "t3=(1,2,3,4,5,6,5,9,1)\n",
    "t4=list(t3)\n",
    "t4.append(0) \n",
    "print(t4)"
   ]
  },
  {
   "cell_type": "markdown",
   "id": "f0efedfd",
   "metadata": {},
   "source": [
    "### Delete "
   ]
  },
  {
   "cell_type": "code",
   "execution_count": 21,
   "id": "2118d92c",
   "metadata": {},
   "outputs": [
    {
     "ename": "NameError",
     "evalue": "name 't3' is not defined",
     "output_type": "error",
     "traceback": [
      "\u001b[1;31m---------------------------------------------------------------------------\u001b[0m",
      "\u001b[1;31mNameError\u001b[0m                                 Traceback (most recent call last)",
      "\u001b[1;32m<ipython-input-21-d7663a5fcfd1>\u001b[0m in \u001b[0;36m<module>\u001b[1;34m\u001b[0m\n\u001b[0;32m      1\u001b[0m \u001b[0mt3\u001b[0m\u001b[1;33m=\u001b[0m\u001b[1;33m(\u001b[0m\u001b[1;36m1\u001b[0m\u001b[1;33m,\u001b[0m\u001b[1;36m2\u001b[0m\u001b[1;33m,\u001b[0m\u001b[1;36m3\u001b[0m\u001b[1;33m,\u001b[0m\u001b[1;36m4\u001b[0m\u001b[1;33m,\u001b[0m\u001b[1;36m5\u001b[0m\u001b[1;33m,\u001b[0m\u001b[1;36m6\u001b[0m\u001b[1;33m,\u001b[0m\u001b[1;36m5\u001b[0m\u001b[1;33m,\u001b[0m\u001b[1;36m9\u001b[0m\u001b[1;33m,\u001b[0m\u001b[1;36m1\u001b[0m\u001b[1;33m)\u001b[0m\u001b[1;33m\u001b[0m\u001b[1;33m\u001b[0m\u001b[0m\n\u001b[0;32m      2\u001b[0m \u001b[1;32mdel\u001b[0m \u001b[0mt3\u001b[0m   \u001b[1;31m#this will through that there is no t3\u001b[0m\u001b[1;33m\u001b[0m\u001b[1;33m\u001b[0m\u001b[0m\n\u001b[1;32m----> 3\u001b[1;33m \u001b[0mprint\u001b[0m\u001b[1;33m(\u001b[0m\u001b[0mt3\u001b[0m\u001b[1;33m)\u001b[0m\u001b[1;33m\u001b[0m\u001b[1;33m\u001b[0m\u001b[0m\n\u001b[0m",
      "\u001b[1;31mNameError\u001b[0m: name 't3' is not defined"
     ]
    }
   ],
   "source": [
    "t3=(1,2,3,4,5,6,5,9,1)\n",
    "del t3   #this will through that there is no t3\n",
    "print(t3)"
   ]
  },
  {
   "cell_type": "markdown",
   "id": "8281e7b8",
   "metadata": {},
   "source": [
    "### Unpacking tuples "
   ]
  },
  {
   "cell_type": "code",
   "execution_count": 22,
   "id": "6aed471e",
   "metadata": {},
   "outputs": [
    {
     "name": "stdout",
     "output_type": "stream",
     "text": [
      "apple\n",
      "banana\n",
      "cherry\n"
     ]
    }
   ],
   "source": [
    "fruits = (\"apple\", \"banana\", \"cherry\")\n",
    "(green, yellow, red) = fruits\n",
    "print(green)\n",
    "print(yellow)\n",
    "print(red)"
   ]
  },
  {
   "cell_type": "markdown",
   "id": "9c16cc2e",
   "metadata": {},
   "source": [
    "### By using *- Asterisk"
   ]
  },
  {
   "cell_type": "code",
   "execution_count": 23,
   "id": "1348a22f",
   "metadata": {},
   "outputs": [
    {
     "name": "stdout",
     "output_type": "stream",
     "text": [
      "apple\n",
      "banana\n",
      "['cherry', 'strawberry', 'raspberry']\n"
     ]
    }
   ],
   "source": [
    "fruits = (\"apple\", \"banana\", \"cherry\", \"strawberry\", \"raspberry\")\n",
    "(green, yellow, *red) = fruits\n",
    "print(green)\n",
    "print(yellow)\n",
    "print(red)"
   ]
  },
  {
   "cell_type": "markdown",
   "id": "36cbf09c",
   "metadata": {},
   "source": [
    "### Loop through Tuple "
   ]
  },
  {
   "cell_type": "code",
   "execution_count": 24,
   "id": "e4ce1471",
   "metadata": {},
   "outputs": [
    {
     "name": "stdout",
     "output_type": "stream",
     "text": [
      "apple\n",
      "banana\n",
      "cherry\n"
     ]
    }
   ],
   "source": [
    "t5= (\"apple\", \"banana\", \"cherry\")\n",
    "for x in t5:\n",
    "  print(x)"
   ]
  }
 ],
 "metadata": {
  "kernelspec": {
   "display_name": "Python 3",
   "language": "python",
   "name": "python3"
  },
  "language_info": {
   "codemirror_mode": {
    "name": "ipython",
    "version": 3
   },
   "file_extension": ".py",
   "mimetype": "text/x-python",
   "name": "python",
   "nbconvert_exporter": "python",
   "pygments_lexer": "ipython3",
   "version": "3.8.8"
  }
 },
 "nbformat": 4,
 "nbformat_minor": 5
}
