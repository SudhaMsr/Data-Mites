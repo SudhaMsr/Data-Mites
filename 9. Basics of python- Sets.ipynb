{
 "cells": [
  {
   "cell_type": "markdown",
   "id": "db6a6cdb",
   "metadata": {},
   "source": [
    "# Sets\n",
    "* Sets are used to store multiple values\n",
    "* Properties of Sets\n",
    "   1. Unordered\n",
    "   2. Unchangeable & Only entire data will be mutable\n",
    "   3. Does not allow duplicates\n",
    "   4. Iterable- we cannot change the signle value but we can chage the entire set"
   ]
  },
  {
   "cell_type": "markdown",
   "id": "16d12456",
   "metadata": {},
   "source": [
    "### Creating Set"
   ]
  },
  {
   "cell_type": "code",
   "execution_count": 1,
   "id": "ed464616",
   "metadata": {},
   "outputs": [
    {
     "name": "stdout",
     "output_type": "stream",
     "text": [
      "{1, 2, 3, 4, 5}\n"
     ]
    }
   ],
   "source": [
    "s1={1,2,3,5,4}\n",
    "print(s1)"
   ]
  },
  {
   "cell_type": "markdown",
   "id": "3127338b",
   "metadata": {},
   "source": [
    "### Type "
   ]
  },
  {
   "cell_type": "code",
   "execution_count": 2,
   "id": "b1aec8d6",
   "metadata": {},
   "outputs": [
    {
     "name": "stdout",
     "output_type": "stream",
     "text": [
      "<class 'set'>\n"
     ]
    }
   ],
   "source": [
    "print(type(s1))"
   ]
  },
  {
   "cell_type": "markdown",
   "id": "b5d1242a",
   "metadata": {},
   "source": [
    "### Adding Elements\n",
    "* Add an element to the set"
   ]
  },
  {
   "cell_type": "code",
   "execution_count": 3,
   "id": "e4df025a",
   "metadata": {},
   "outputs": [
    {
     "name": "stdout",
     "output_type": "stream",
     "text": [
      "{1, 2, 3, 4, 5, 10}\n"
     ]
    }
   ],
   "source": [
    "s1.add(10)\n",
    "print(s1)"
   ]
  },
  {
   "cell_type": "code",
   "execution_count": 7,
   "id": "fa7d25e8",
   "metadata": {},
   "outputs": [
    {
     "name": "stdout",
     "output_type": "stream",
     "text": [
      "{1, 2, 3, 4, 5, 6, 20}\n",
      "\n"
     ]
    }
   ],
   "source": [
    "s1={1,2,3,4,5,6}\n",
    "s1.add(20)\n",
    "print(s1)\n",
    "print('')"
   ]
  },
  {
   "cell_type": "markdown",
   "id": "cc3eb5be",
   "metadata": {},
   "source": [
    "### Update \n",
    "* Update the set with the union of this set and others"
   ]
  },
  {
   "cell_type": "code",
   "execution_count": 8,
   "id": "e1db968f",
   "metadata": {},
   "outputs": [
    {
     "name": "stdout",
     "output_type": "stream",
     "text": [
      "{1, 2, 3, 4, 5, 6, 42, 20, 58, 30}\n"
     ]
    }
   ],
   "source": [
    "s2={30,42,58}\n",
    "s1.update(s2)\n",
    "print(s1)"
   ]
  },
  {
   "cell_type": "code",
   "execution_count": 9,
   "id": "dceb0f25",
   "metadata": {},
   "outputs": [
    {
     "data": {
      "text/plain": [
       "[1, 2, 3, 4, 5, 6, 42, 20, 58, 30]"
      ]
     },
     "execution_count": 9,
     "metadata": {},
     "output_type": "execute_result"
    }
   ],
   "source": [
    "list(s1)"
   ]
  },
  {
   "cell_type": "markdown",
   "id": "6b5ec526",
   "metadata": {},
   "source": [
    "### Sorting- sort() "
   ]
  },
  {
   "cell_type": "code",
   "execution_count": 10,
   "id": "4dc0da1c",
   "metadata": {},
   "outputs": [
    {
     "name": "stdout",
     "output_type": "stream",
     "text": [
      "[1, 2, 3, 4, 5, 6, 20, 30, 42, 58]\n"
     ]
    }
   ],
   "source": [
    "l1=list(s1)\n",
    "l1.sort()\n",
    "print(l1)"
   ]
  },
  {
   "cell_type": "markdown",
   "id": "39f581c9",
   "metadata": {},
   "source": [
    "### Looping through sets"
   ]
  },
  {
   "cell_type": "code",
   "execution_count": 11,
   "id": "8a25e555",
   "metadata": {},
   "outputs": [
    {
     "name": "stdout",
     "output_type": "stream",
     "text": [
      "1\n",
      "2\n",
      "3\n",
      "4\n",
      "5\n",
      "6\n",
      "42\n",
      "20\n",
      "58\n",
      "30\n"
     ]
    }
   ],
   "source": [
    "for x in s1:\n",
    "    print(x)"
   ]
  },
  {
   "cell_type": "markdown",
   "id": "1fee24f3",
   "metadata": {},
   "source": [
    "### Union \n",
    "* Joining sets"
   ]
  },
  {
   "cell_type": "code",
   "execution_count": 1,
   "id": "6620418b",
   "metadata": {},
   "outputs": [
    {
     "name": "stdout",
     "output_type": "stream",
     "text": [
      "{1, 4, 42, 20, 58, 30}\n",
      "{1, 58, 4, 30}\n",
      "{42, 20, 30}\n"
     ]
    }
   ],
   "source": [
    "s3={1,30,4,58}\n",
    "s4={20,42,30}\n",
    "print(s3.union(s4))\n",
    "print(s3)\n",
    "print(s4)"
   ]
  },
  {
   "cell_type": "markdown",
   "id": "049a26aa",
   "metadata": {},
   "source": [
    "### Intersection \n",
    "* Intersection of two other sets"
   ]
  },
  {
   "cell_type": "code",
   "execution_count": 2,
   "id": "9c4ae0d6",
   "metadata": {},
   "outputs": [
    {
     "name": "stdout",
     "output_type": "stream",
     "text": [
      "{30}\n"
     ]
    }
   ],
   "source": [
    "print(s3.intersection(s4))"
   ]
  },
  {
   "cell_type": "code",
   "execution_count": 3,
   "id": "bb998593",
   "metadata": {},
   "outputs": [
    {
     "name": "stdout",
     "output_type": "stream",
     "text": [
      "elements in s3 before union: {1, 58, 4, 30}\n",
      "None\n",
      "elements in s3 after intersection_upddate: {4, 30}\n"
     ]
    }
   ],
   "source": [
    "s3={1,30,4,58}\n",
    "s4={20,42,30,4}\n",
    "print(\"elements in s3 before union:\",s3)\n",
    "print(s3.intersection_update(s4))\n",
    "print(\"elements in s3 after intersection_upddate:\",s3)"
   ]
  },
  {
   "cell_type": "code",
   "execution_count": 4,
   "id": "d21e921b",
   "metadata": {},
   "outputs": [
    {
     "name": "stdout",
     "output_type": "stream",
     "text": [
      "elements in s3 intersection: {1, 58, 4, 30}\n",
      "{4, 30}\n",
      "elements in s3 after intersection: {1, 58, 4, 30}\n"
     ]
    }
   ],
   "source": [
    "s3={1,30,4,58}\n",
    "s4={20,42,30,4}\n",
    "print(\"elements in s3 intersection:\",s3)\n",
    "print(s3.intersection(s4))\n",
    "print(\"elements in s3 after intersection:\",s3)"
   ]
  },
  {
   "cell_type": "markdown",
   "id": "2274213c",
   "metadata": {},
   "source": [
    "### Difference \n",
    "* Difference between two or more sets"
   ]
  },
  {
   "cell_type": "code",
   "execution_count": 5,
   "id": "6410905c",
   "metadata": {},
   "outputs": [
    {
     "data": {
      "text/plain": [
       "{1, 5}"
      ]
     },
     "execution_count": 5,
     "metadata": {},
     "output_type": "execute_result"
    }
   ],
   "source": [
    "set3={1,2,3,4,5,6}\n",
    "set4={2,3,4,6,7,8}\n",
    "set3-set4"
   ]
  },
  {
   "cell_type": "code",
   "execution_count": 6,
   "id": "1ea0183d",
   "metadata": {},
   "outputs": [
    {
     "name": "stdout",
     "output_type": "stream",
     "text": [
      "elements of set3 before difference: {1, 2, 3, 4, 5, 6}\n",
      "elements of set3 after difference: {1, 2, 3, 4, 5, 6}\n"
     ]
    }
   ],
   "source": [
    "set3={1,2,3,4,5,6}\n",
    "set4={2,3,4,6,7,8}\n",
    "print(\"elements of set3 before difference:\",set3)\n",
    "set3.difference(set4)\n",
    "print(\"elements of set3 after difference:\",set3)"
   ]
  },
  {
   "cell_type": "code",
   "execution_count": 7,
   "id": "5779c179",
   "metadata": {},
   "outputs": [
    {
     "name": "stdout",
     "output_type": "stream",
     "text": [
      "elements of set3 before difference: {1, 2, 3, 4, 5, 6}\n",
      "{1, 5}\n",
      "elements of set3 after difference: {1, 2, 3, 4, 5, 6}\n"
     ]
    }
   ],
   "source": [
    "set3={1,2,3,4,5,6}\n",
    "set4={2,3,4,6,7,8}\n",
    "print(\"elements of set3 before difference:\",set3)\n",
    "print((set3.difference(set4)))\n",
    "print(\"elements of set3 after difference:\",set3)"
   ]
  },
  {
   "cell_type": "code",
   "execution_count": 8,
   "id": "262a0cab",
   "metadata": {},
   "outputs": [
    {
     "name": "stdout",
     "output_type": "stream",
     "text": [
      "elements of set3 before difference_update: {1, 2, 3, 4, 5, 6}\n",
      "elements of set3 after difference_update: {1, 5}\n"
     ]
    }
   ],
   "source": [
    "set3={1,2,3,4,5,6}\n",
    "set4={2,3,4,6,7,8}\n",
    "print(\"elements of set3 before difference_update:\",set3)\n",
    "set3.difference_update(set4)\n",
    "print(\"elements of set3 after difference_update:\",set3)"
   ]
  },
  {
   "cell_type": "markdown",
   "id": "56f753b0",
   "metadata": {},
   "source": [
    "### Disjoint set\n",
    "* Two sets having no common element between them."
   ]
  },
  {
   "cell_type": "code",
   "execution_count": 9,
   "id": "c93cc7c4",
   "metadata": {},
   "outputs": [
    {
     "data": {
      "text/plain": [
       "False"
      ]
     },
     "execution_count": 9,
     "metadata": {},
     "output_type": "execute_result"
    }
   ],
   "source": [
    "set3={1,2,3,4,5,6}\n",
    "set4={2,3,4,6,7,8}\n",
    "set3.isdisjoint(set4)"
   ]
  },
  {
   "cell_type": "code",
   "execution_count": 10,
   "id": "168b8bc0",
   "metadata": {},
   "outputs": [
    {
     "data": {
      "text/plain": [
       "True"
      ]
     },
     "execution_count": 10,
     "metadata": {},
     "output_type": "execute_result"
    }
   ],
   "source": [
    "s5={10,20,30,40}\n",
    "s6={11,12,1,3,14}\n",
    "s5.isdisjoint(s6)"
   ]
  },
  {
   "cell_type": "markdown",
   "id": "5696e357",
   "metadata": {},
   "source": [
    "### Remove \n",
    "* REmoves the element from set"
   ]
  },
  {
   "cell_type": "code",
   "execution_count": 12,
   "id": "24605d89",
   "metadata": {},
   "outputs": [
    {
     "name": "stdout",
     "output_type": "stream",
     "text": [
      "{1, 3, 4, 5, 6}\n"
     ]
    }
   ],
   "source": [
    "set3={1,2,3,4,5,6}\n",
    "set3.remove(2)\n",
    "print(set3)"
   ]
  },
  {
   "cell_type": "code",
   "execution_count": 14,
   "id": "14acc494",
   "metadata": {},
   "outputs": [
    {
     "name": "stdout",
     "output_type": "stream",
     "text": [
      "{1, 2, 3, 4, 6}\n"
     ]
    }
   ],
   "source": [
    "set3={1,2,3,4,5,6}\n",
    "set3.discard(5)\n",
    "print(set3)"
   ]
  },
  {
   "cell_type": "markdown",
   "id": "6aa58f88",
   "metadata": {},
   "source": [
    "### Pop()\n",
    "* Removes the last element of set"
   ]
  },
  {
   "cell_type": "code",
   "execution_count": 17,
   "id": "e5087415",
   "metadata": {},
   "outputs": [
    {
     "name": "stdout",
     "output_type": "stream",
     "text": [
      "{2, 3, 4, 5, 6}\n"
     ]
    }
   ],
   "source": [
    "set3={1,2,3,4,5,6}\n",
    "set3.pop()\n",
    "print(set3)"
   ]
  },
  {
   "cell_type": "code",
   "execution_count": 18,
   "id": "e3c5a8dc",
   "metadata": {},
   "outputs": [
    {
     "name": "stdout",
     "output_type": "stream",
     "text": [
      "banana\n",
      "{'cherry', 'apple'}\n"
     ]
    }
   ],
   "source": [
    "thisset = {\"apple\", \"banana\", \"cherry\"}\n",
    "x = thisset.pop()\n",
    "print(x)\n",
    "print(thisset)"
   ]
  },
  {
   "cell_type": "markdown",
   "id": "9ce10b4b",
   "metadata": {},
   "source": [
    "### Clear\n",
    "* Clears the elements in set"
   ]
  },
  {
   "cell_type": "code",
   "execution_count": 20,
   "id": "fdc02623",
   "metadata": {},
   "outputs": [
    {
     "data": {
      "text/plain": [
       "set()"
      ]
     },
     "execution_count": 20,
     "metadata": {},
     "output_type": "execute_result"
    }
   ],
   "source": [
    "set3={1,2,3,4,5,6}\n",
    "set3.clear()\n",
    "set3"
   ]
  },
  {
   "cell_type": "markdown",
   "id": "fcb9012d",
   "metadata": {},
   "source": [
    "### Delete\n",
    "* Deletes the entire set"
   ]
  },
  {
   "cell_type": "code",
   "execution_count": 22,
   "id": "d2893603",
   "metadata": {},
   "outputs": [],
   "source": [
    "del set3"
   ]
  },
  {
   "cell_type": "markdown",
   "id": "54676841",
   "metadata": {},
   "source": [
    "### Looping through Sets "
   ]
  },
  {
   "cell_type": "code",
   "execution_count": 24,
   "id": "5b1ba912",
   "metadata": {},
   "outputs": [
    {
     "name": "stdout",
     "output_type": "stream",
     "text": [
      "1\n",
      "2\n",
      "3\n",
      "4\n",
      "5\n",
      "6\n"
     ]
    }
   ],
   "source": [
    "set3={1,2,3,4,5,6}\n",
    "for x in set3:\n",
    "    print(x)"
   ]
  }
 ],
 "metadata": {
  "kernelspec": {
   "display_name": "Python 3",
   "language": "python",
   "name": "python3"
  },
  "language_info": {
   "codemirror_mode": {
    "name": "ipython",
    "version": 3
   },
   "file_extension": ".py",
   "mimetype": "text/x-python",
   "name": "python",
   "nbconvert_exporter": "python",
   "pygments_lexer": "ipython3",
   "version": "3.8.8"
  }
 },
 "nbformat": 4,
 "nbformat_minor": 5
}
