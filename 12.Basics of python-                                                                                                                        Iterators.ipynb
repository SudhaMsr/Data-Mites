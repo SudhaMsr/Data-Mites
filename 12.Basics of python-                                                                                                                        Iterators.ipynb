{
 "cells": [
  {
   "cell_type": "markdown",
   "id": "9084aa52",
   "metadata": {},
   "source": [
    "# Iterators\n",
    "* An iterator is an object that contains a countable number of values."
   ]
  },
  {
   "cell_type": "code",
   "execution_count": 1,
   "id": "5f931233",
   "metadata": {},
   "outputs": [
    {
     "name": "stdout",
     "output_type": "stream",
     "text": [
      "apple\n",
      "banana\n",
      "cherry\n"
     ]
    }
   ],
   "source": [
    "mytuple = (\"apple\", \"banana\", \"cherry\")\n",
    "myit = iter(mytuple)\n",
    "\n",
    "print(next(myit))\n",
    "print(next(myit))\n",
    "print(next(myit))"
   ]
  },
  {
   "cell_type": "markdown",
   "id": "5c1c1913",
   "metadata": {},
   "source": [
    "### Looping through list"
   ]
  },
  {
   "cell_type": "code",
   "execution_count": 2,
   "id": "d830d7df",
   "metadata": {},
   "outputs": [
    {
     "name": "stdout",
     "output_type": "stream",
     "text": [
      "1\n",
      "2\n",
      "3\n",
      "4\n",
      "5\n"
     ]
    }
   ],
   "source": [
    "list1=[1,2,3,4,5]\n",
    "for i in list1:\n",
    "    print(i)"
   ]
  },
  {
   "cell_type": "markdown",
   "id": "d6d25cd5",
   "metadata": {},
   "source": [
    "### Looping through tuple"
   ]
  },
  {
   "cell_type": "code",
   "execution_count": 3,
   "id": "4e6f2049",
   "metadata": {},
   "outputs": [
    {
     "name": "stdout",
     "output_type": "stream",
     "text": [
      "1\n",
      "2\n",
      "3\n",
      "4\n",
      "5\n",
      "6\n",
      "8\n"
     ]
    }
   ],
   "source": [
    "tuple1=(1,2,3,4,5,6,8)\n",
    "for i in tuple1:\n",
    "    print(i)"
   ]
  },
  {
   "cell_type": "markdown",
   "id": "62beb9da",
   "metadata": {},
   "source": [
    "### Looping through dictionary"
   ]
  },
  {
   "cell_type": "code",
   "execution_count": 4,
   "id": "47deafec",
   "metadata": {},
   "outputs": [
    {
     "name": "stdout",
     "output_type": "stream",
     "text": [
      "1\n",
      "5\n",
      "4\n"
     ]
    }
   ],
   "source": [
    "d1={1:20,5:30,4:60}\n",
    "for i in d1:\n",
    "    print(i)"
   ]
  },
  {
   "cell_type": "code",
   "execution_count": 5,
   "id": "933f29cf",
   "metadata": {},
   "outputs": [
    {
     "name": "stdout",
     "output_type": "stream",
     "text": [
      "(1, 20)\n",
      "(5, 30)\n",
      "(4, 60)\n"
     ]
    }
   ],
   "source": [
    "d1={1:20,5:30,4:60}\n",
    "for i in d1.items():\n",
    "    print(i)"
   ]
  },
  {
   "cell_type": "markdown",
   "id": "25c0de18",
   "metadata": {},
   "source": [
    "### Looping through set"
   ]
  },
  {
   "cell_type": "code",
   "execution_count": 6,
   "id": "7eb3a753",
   "metadata": {},
   "outputs": [
    {
     "name": "stdout",
     "output_type": "stream",
     "text": [
      "1\n",
      "2\n",
      "3\n",
      "4\n",
      "56\n"
     ]
    }
   ],
   "source": [
    "s1={1,2,3,4,56}\n",
    "for i in s1:\n",
    "    print(i)"
   ]
  },
  {
   "cell_type": "code",
   "execution_count": 7,
   "id": "b54fa8e2",
   "metadata": {},
   "outputs": [
    {
     "data": {
      "text/plain": [
       "True"
      ]
     },
     "execution_count": 7,
     "metadata": {},
     "output_type": "execute_result"
    }
   ],
   "source": [
    "list1=[1,2,3,4,5]\n",
    "10 not in list1"
   ]
  }
 ],
 "metadata": {
  "kernelspec": {
   "display_name": "Python 3",
   "language": "python",
   "name": "python3"
  },
  "language_info": {
   "codemirror_mode": {
    "name": "ipython",
    "version": 3
   },
   "file_extension": ".py",
   "mimetype": "text/x-python",
   "name": "python",
   "nbconvert_exporter": "python",
   "pygments_lexer": "ipython3",
   "version": "3.8.8"
  }
 },
 "nbformat": 4,
 "nbformat_minor": 5
}
