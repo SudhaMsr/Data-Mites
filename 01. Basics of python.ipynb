{
 "cells": [
  {
   "cell_type": "markdown",
   "id": "7371d443",
   "metadata": {},
   "source": [
    "# Introduction to Python\n",
    "\n",
    "## Features of python:\n",
    "* Python is a programming language\n",
    "* High-level, Simple and General purpose language-Less development time\n",
    "* Used for software development\n",
    "* Used for web development\n",
    "* Used for maths\n",
    "* Open source\n",
    "* Dynamic nature\n",
    "* Object oriented programming\n",
    "\n",
    "### Compiler:\n",
    " * Converts high-level language to low-level-language\n",
    " \n",
    "### Interpreter:\n",
    "* High-level language to machine level language.\n",
    "  \n",
    "  Although similar to a compiler, the way that code is executed is different for both.\n",
    "  \n",
    "### Kaggel:\n",
    "* It is an online community of data scientists and machine learning practitioners.\n",
    "* Collection of datasets.\n",
    "* https://www.kaggle.com/datasets"
   ]
  },
  {
   "cell_type": "markdown",
   "id": "5fa865ed",
   "metadata": {},
   "source": [
    "## Table of Contents:-\n",
    "\n",
    "* Installation of python\n",
    "   1. Anaconda individual version-https://www.anaconda.com/products/individual\n",
    "   2. Syntax of python,Modules\n",
    "   3. Indentation of python\n",
    "   4. Comments\n",
    "   5. Variables and Operstors in python\n",
    "   6. Primitive Data types of python\n",
    "   7. Python numbers\n",
    "   8. Conversion of data types\n",
    "   9. Strings\n",
    "   10. Boolean-True or False\n",
    "   11. Python lists\n",
    "   12. Python tuples\n",
    "   13. Python sets\n",
    "   14. Python Dictionaries\n",
    "   15. Conditional statements\n",
    "   16. Python loops\n",
    "   17. Python collection Functions and range functions\n",
    "   18. Python lambda\n",
    "   19. Python arrays\n",
    "   20. Python iterations\n",
    "   "
   ]
  },
  {
   "cell_type": "markdown",
   "id": "5014e8be",
   "metadata": {},
   "source": [
    "## Installation: \n",
    "* Python can be easily installed from python.org or from anaconda.com\n",
    "* When you click on the download button, python can be installed right after you completed setup."
   ]
  },
  {
   "cell_type": "markdown",
   "id": "41751155",
   "metadata": {},
   "source": [
    "# Sytanx of python:"
   ]
  },
  {
   "cell_type": "code",
   "execution_count": 1,
   "id": "6170403d",
   "metadata": {},
   "outputs": [
    {
     "name": "stdout",
     "output_type": "stream",
     "text": [
      "Hello, Reader!\n"
     ]
    }
   ],
   "source": [
    "print(\"Hello, Reader!\")"
   ]
  },
  {
   "cell_type": "markdown",
   "id": "563bb57e",
   "metadata": {},
   "source": [
    "## Types of modules:\n",
    "* Built-in Modules\n",
    "  * Pre installed in python\n",
    "    -Ex: OS\n",
    "* External Modules\n",
    "  * Need to install using pip (pip is a package manager for python,use pip to install modules)\n",
    "    -Ex: Tensorflow,Flask"
   ]
  },
  {
   "cell_type": "markdown",
   "id": "9d1bfb8e",
   "metadata": {},
   "source": [
    "# Indentation:\n",
    "*  To specify the codes we use whitespace i.e spaces and tabs.\n",
    "* It improves the readablity of code"
   ]
  },
  {
   "cell_type": "markdown",
   "id": "0a725a85",
   "metadata": {},
   "source": [
    "### Example:-"
   ]
  },
  {
   "cell_type": "code",
   "execution_count": 2,
   "id": "175bc8d9",
   "metadata": {},
   "outputs": [
    {
     "name": "stdout",
     "output_type": "stream",
     "text": [
      "Hello World\n"
     ]
    }
   ],
   "source": [
    "def my_function(): \n",
    "    print(\"Hello World\")\n",
    "my_function()"
   ]
  },
  {
   "cell_type": "markdown",
   "id": "b3b638f6",
   "metadata": {},
   "source": [
    "![](indentation_error.jpg)"
   ]
  },
  {
   "cell_type": "markdown",
   "id": "4a0199cb",
   "metadata": {},
   "source": [
    "# Indentation error:-\n"
   ]
  },
  {
   "cell_type": "code",
   "execution_count": 3,
   "id": "e9aad4a9",
   "metadata": {},
   "outputs": [
    {
     "data": {
      "image/jpeg": "[encoded data removed]",
      "text/plain": [
       "<IPython.core.display.Image object>"
      ]
     },
     "execution_count": 3,
     "metadata": {},
     "output_type": "execute_result"
    }
   ],
   "source": [
    "from IPython.display import Image\n",
    "Image(\"Desktop\\indentation_error.jpg\")"
   ]
  },
  {
   "cell_type": "markdown",
   "id": "572d12ea",
   "metadata": {},
   "source": [
    "# Comments:\n",
    "* There are two different types of commenting in python\n",
    "   \n",
    "   * Single-line Commenting\n",
    "   \n",
    "   * Multi-line Commenting\n",
    "* To exaplian the code\n",
    "* To make it more readable\n",
    "* Used to prevent execution"
   ]
  },
  {
   "cell_type": "code",
   "execution_count": 4,
   "id": "18c8eaee",
   "metadata": {},
   "outputs": [
    {
     "name": "stdout",
     "output_type": "stream",
     "text": [
      "Hello, world!\n"
     ]
    }
   ],
   "source": [
    "#Single-line commenting\n",
    "print(\"Hello, world!\")"
   ]
  },
  {
   "cell_type": "code",
   "execution_count": 5,
   "id": "f0b164da",
   "metadata": {},
   "outputs": [
    {
     "name": "stdout",
     "output_type": "stream",
     "text": [
      "five is greater than 2\n"
     ]
    }
   ],
   "source": [
    "#Multi-line commenting\n",
    "#Multi-line commenting\n",
    "#Multi-line commenting\n",
    "if 5 > 2:\n",
    "    print(\"five is greater than 2\")"
   ]
  },
  {
   "cell_type": "code",
   "execution_count": 6,
   "id": "5f12155b",
   "metadata": {},
   "outputs": [
    {
     "name": "stdout",
     "output_type": "stream",
     "text": [
      "five is greater than 2\n"
     ]
    }
   ],
   "source": [
    "\"\"\"Multiline commenting\n",
    " Multiline commenting\n",
    " Multiline commenting\"\"\"\n",
    "if 5 > 2:\n",
    "    print(\"five is greater than 2\")"
   ]
  }
 ],
 "metadata": {
  "kernelspec": {
   "display_name": "Python 3",
   "language": "python",
   "name": "python3"
  },
  "language_info": {
   "codemirror_mode": {
    "name": "ipython",
    "version": 3
   },
   "file_extension": ".py",
   "mimetype": "text/x-python",
   "name": "python",
   "nbconvert_exporter": "python",
   "pygments_lexer": "ipython3",
   "version": "3.11.9"
  }
 },
 "nbformat": 4,
 "nbformat_minor": 5
}
