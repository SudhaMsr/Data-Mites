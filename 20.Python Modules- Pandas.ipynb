{
 "cells": [
  {
   "cell_type": "markdown",
   "id": "a297f096",
   "metadata": {},
   "source": [
    "# Pandas\n",
    "- Pandas is a open source python library\n",
    "- Pandas is a data analysis library\n",
    "- Used for working with data sets\n",
    "\n",
    "# Importing"
   ]
  },
  {
   "cell_type": "code",
   "execution_count": 1,
   "id": "17f62775",
   "metadata": {},
   "outputs": [],
   "source": [
    "#import packages\n",
    "import pandas as pd\n",
    "import numpy as np"
   ]
  },
  {
   "cell_type": "markdown",
   "id": "011b28a2",
   "metadata": {},
   "source": [
    "## Pandas Series\n",
    "- One dimensional sequence of heterogeneous elements\n",
    "\n",
    "### Indexing\n",
    "- By using index variable we can give our own names to labels\n",
    "\n",
    "### 1. Creating series using list"
   ]
  },
  {
   "cell_type": "code",
   "execution_count": 2,
   "id": "79f1d79a",
   "metadata": {},
   "outputs": [
    {
     "name": "stdout",
     "output_type": "stream",
     "text": [
      "a    1\n",
      "b    2\n",
      "c    3\n",
      "d    4\n",
      "e    5\n",
      "f    6\n",
      "dtype: int64\n",
      "<class 'pandas.core.series.Series'>\n",
      "<class 'list'>\n"
     ]
    }
   ],
   "source": [
    "l1=[1,2,3,4,5,6]\n",
    "index_list=['a','b','c','d','e','f']\n",
    "s1=pd.Series(data=l1,index=index_list)\n",
    "print(s1)\n",
    "print(type(s1))\n",
    "print(type(l1))"
   ]
  },
  {
   "cell_type": "markdown",
   "id": "eaf6ade3",
   "metadata": {},
   "source": [
    "### 2. Creating series using tuple"
   ]
  },
  {
   "cell_type": "code",
   "execution_count": 3,
   "id": "31e6be4d",
   "metadata": {},
   "outputs": [
    {
     "name": "stdout",
     "output_type": "stream",
     "text": [
      "a    1\n",
      "b    2\n",
      "c    3\n",
      "d    4\n",
      "e    5\n",
      "f    6\n",
      "dtype: int64\n",
      "<class 'pandas.core.series.Series'>\n",
      "<class 'tuple'>\n"
     ]
    }
   ],
   "source": [
    "t1=(1,2,3,4,5,6)\n",
    "index_list=('a','b','c','d','e','f')\n",
    "s2=pd.Series(data=t1,index=index_list)\n",
    "print(s2)\n",
    "print(type(s2))\n",
    "print(type(t1))"
   ]
  },
  {
   "cell_type": "markdown",
   "id": "81ebbe4f",
   "metadata": {},
   "source": [
    "### 3. creating series using dictionary"
   ]
  },
  {
   "cell_type": "code",
   "execution_count": 4,
   "id": "c12a4f20",
   "metadata": {},
   "outputs": [
    {
     "name": "stdout",
     "output_type": "stream",
     "text": [
      "a    1\n",
      "b    2\n",
      "c    3\n",
      "d    4\n",
      "e    5\n",
      "dtype: int64\n",
      "<class 'dict'>\n",
      "<class 'pandas.core.series.Series'>\n"
     ]
    }
   ],
   "source": [
    "d1={'a':1,'b':2,'c':3,'d':4,'e':5}\n",
    "s3=pd.Series(data=d1)\n",
    "print(s3)\n",
    "print(type(d1))\n",
    "print(type(s3))"
   ]
  },
  {
   "cell_type": "markdown",
   "id": "221d76d9",
   "metadata": {},
   "source": [
    "### 4. Creating series using numpy arrays"
   ]
  },
  {
   "cell_type": "code",
   "execution_count": 5,
   "id": "97e14fc1",
   "metadata": {},
   "outputs": [
    {
     "name": "stdout",
     "output_type": "stream",
     "text": [
      "0    0\n",
      "1    1\n",
      "2    2\n",
      "3    3\n",
      "4    4\n",
      "dtype: int32\n",
      "<class 'pandas.core.series.Series'>\n"
     ]
    }
   ],
   "source": [
    "s4=pd.Series(data=np.arange(5))\n",
    "print(s4)\n",
    "print(type(s4))"
   ]
  },
  {
   "cell_type": "markdown",
   "id": "37e4b2ba",
   "metadata": {},
   "source": [
    "# DataFrames\n",
    "- A Data frame is a two-dimensional or multi-dimensional data structure, i.e., data is aligned in a tabular fashion in rows and columns.\n",
    "- Series is like a column, a DataFrame is the whole table.\n",
    "\n",
    "### Creating DataFrame"
   ]
  },
  {
   "cell_type": "code",
   "execution_count": 6,
   "id": "947451bc",
   "metadata": {},
   "outputs": [
    {
     "data": {
      "text/plain": [
       "a    1\n",
       "b    2\n",
       "c    3\n",
       "d    4\n",
       "e    5\n",
       "0    0\n",
       "1    1\n",
       "2    2\n",
       "3    3\n",
       "4    4\n",
       "dtype: int64"
      ]
     },
     "execution_count": 6,
     "metadata": {},
     "output_type": "execute_result"
    }
   ],
   "source": [
    "pd.concat([s3,s4])"
   ]
  },
  {
   "cell_type": "markdown",
   "id": "ecca3b24",
   "metadata": {},
   "source": [
    "#### If axis=1 then it is row wise"
   ]
  },
  {
   "cell_type": "code",
   "execution_count": 7,
   "id": "03f94b8e",
   "metadata": {},
   "outputs": [
    {
     "name": "stdout",
     "output_type": "stream",
     "text": [
      "     0    1\n",
      "a  1.0  NaN\n",
      "b  2.0  NaN\n",
      "c  3.0  NaN\n",
      "d  4.0  NaN\n",
      "e  5.0  NaN\n",
      "0  NaN  0.0\n",
      "1  NaN  1.0\n",
      "2  NaN  2.0\n",
      "3  NaN  3.0\n",
      "4  NaN  4.0\n",
      "<class 'pandas.core.frame.DataFrame'>\n"
     ]
    }
   ],
   "source": [
    "df=pd.concat([s3,s4],axis=1) \n",
    "print(df)\n",
    "print(type(df))                    #row wise"
   ]
  },
  {
   "cell_type": "markdown",
   "id": "45feaad5",
   "metadata": {},
   "source": [
    "#### If axis=0 then it is column wise"
   ]
  },
  {
   "cell_type": "code",
   "execution_count": 8,
   "id": "6fb616fe",
   "metadata": {},
   "outputs": [
    {
     "name": "stdout",
     "output_type": "stream",
     "text": [
      "a    1\n",
      "b    2\n",
      "c    3\n",
      "d    4\n",
      "e    5\n",
      "0    0\n",
      "1    1\n",
      "2    2\n",
      "3    3\n",
      "4    4\n",
      "dtype: int64\n",
      "<class 'pandas.core.series.Series'>\n"
     ]
    }
   ],
   "source": [
    "df=pd.concat([s3,s4],axis=0) \n",
    "print(df)\n",
    "print(type(df))                    #rcolumn wise"
   ]
  },
  {
   "cell_type": "markdown",
   "id": "cfef949e",
   "metadata": {},
   "source": [
    "### Locate row\n",
    "- Pandas use the loc attribute to return one or more specified row(s)\n",
    "- loc () and iloc () are one of those methods. These are used in slicing of data from the Pandas DataFrame. "
   ]
  },
  {
   "cell_type": "code",
   "execution_count": 9,
   "id": "ce4bfdce",
   "metadata": {},
   "outputs": [
    {
     "name": "stdout",
     "output_type": "stream",
     "text": [
      "1\n"
     ]
    }
   ],
   "source": [
    "print(df.loc['a'])"
   ]
  },
  {
   "cell_type": "code",
   "execution_count": 10,
   "id": "749e314a",
   "metadata": {},
   "outputs": [
    {
     "name": "stdout",
     "output_type": "stream",
     "text": [
      "4\n"
     ]
    }
   ],
   "source": [
    "print(df.loc[4])"
   ]
  },
  {
   "cell_type": "code",
   "execution_count": 11,
   "id": "77178804",
   "metadata": {},
   "outputs": [
    {
     "name": "stdout",
     "output_type": "stream",
     "text": [
      "4\n"
     ]
    }
   ],
   "source": [
    "print(df.loc['d'])"
   ]
  },
  {
   "cell_type": "code",
   "execution_count": 12,
   "id": "18e45694",
   "metadata": {},
   "outputs": [
    {
     "name": "stdout",
     "output_type": "stream",
     "text": [
      "c    3\n",
      "1    1\n",
      "dtype: int64\n"
     ]
    }
   ],
   "source": [
    "print(df.loc[['c', 1]])"
   ]
  },
  {
   "cell_type": "code",
   "execution_count": 13,
   "id": "6d1b0c45",
   "metadata": {},
   "outputs": [
    {
     "name": "stdout",
     "output_type": "stream",
     "text": [
      "c    3\n",
      "dtype: int64\n"
     ]
    }
   ],
   "source": [
    "print(df.loc[['c', ]])"
   ]
  },
  {
   "cell_type": "code",
   "execution_count": 14,
   "id": "eb56e61d",
   "metadata": {},
   "outputs": [
    {
     "name": "stdout",
     "output_type": "stream",
     "text": [
      "      calories  duration\n",
      "day1       420        50\n",
      "day2       380        40\n",
      "day3       390        45\n",
      "<class 'pandas.core.frame.DataFrame'>\n"
     ]
    }
   ],
   "source": [
    "data = {\n",
    "  \"calories\": [420, 380, 390],\n",
    "  \"duration\": [50, 40, 45]\n",
    "}\n",
    "df = pd.DataFrame(data, index = [\"day1\", \"day2\", \"day3\"])\n",
    "print(df) \n",
    "print(type(df.iloc[420:]))"
   ]
  },
  {
   "cell_type": "code",
   "execution_count": 15,
   "id": "49ade552",
   "metadata": {},
   "outputs": [
    {
     "name": "stdout",
     "output_type": "stream",
     "text": [
      "<class 'pandas.core.frame.DataFrame'>\n"
     ]
    }
   ],
   "source": [
    "print(type(df.iloc[420:390]))"
   ]
  },
  {
   "cell_type": "code",
   "execution_count": 16,
   "id": "b8f4aef7",
   "metadata": {},
   "outputs": [
    {
     "name": "stdout",
     "output_type": "stream",
     "text": [
      "     0    1\n",
      "a  1.0  NaN\n",
      "b  2.0  NaN\n",
      "c  3.0  NaN\n",
      "d  4.0  NaN\n",
      "e  5.0  NaN\n",
      "0  NaN  0.0\n",
      "1  NaN  1.0\n",
      "2  NaN  2.0\n",
      "3  NaN  3.0\n",
      "4  NaN  4.0\n",
      "<class 'pandas.core.frame.DataFrame'>\n",
      "<class 'pandas.core.series.Series'>\n"
     ]
    }
   ],
   "source": [
    "df=pd.concat([s3,s4],axis=1) \n",
    "print(df)\n",
    "print(type(df))            #row wise \n",
    "print(type(df.iloc[:,0]))  #to check type of each column\n",
    "df.columns=['col_a','col_b']       #setting column names"
   ]
  },
  {
   "cell_type": "markdown",
   "id": "8368544e",
   "metadata": {},
   "source": [
    "### To change row names use index function"
   ]
  },
  {
   "cell_type": "code",
   "execution_count": 17,
   "id": "4b8afacb",
   "metadata": {},
   "outputs": [
    {
     "data": {
      "text/html": [
       "<div>\n",
       "<style scoped>\n",
       "    .dataframe tbody tr th:only-of-type {\n",
       "        vertical-align: middle;\n",
       "    }\n",
       "\n",
       "    .dataframe tbody tr th {\n",
       "        vertical-align: top;\n",
       "    }\n",
       "\n",
       "    .dataframe thead th {\n",
       "        text-align: right;\n",
       "    }\n",
       "</style>\n",
       "<table border=\"1\" class=\"dataframe\">\n",
       "  <thead>\n",
       "    <tr style=\"text-align: right;\">\n",
       "      <th></th>\n",
       "      <th>Name</th>\n",
       "      <th>Age</th>\n",
       "    </tr>\n",
       "  </thead>\n",
       "  <tbody>\n",
       "    <tr>\n",
       "      <th>0</th>\n",
       "      <td>Tom</td>\n",
       "      <td>15</td>\n",
       "    </tr>\n",
       "    <tr>\n",
       "      <th>1</th>\n",
       "      <td>Nick</td>\n",
       "      <td>26</td>\n",
       "    </tr>\n",
       "    <tr>\n",
       "      <th>2</th>\n",
       "      <td>John</td>\n",
       "      <td>17</td>\n",
       "    </tr>\n",
       "    <tr>\n",
       "      <th>3</th>\n",
       "      <td>Peter</td>\n",
       "      <td>28</td>\n",
       "    </tr>\n",
       "  </tbody>\n",
       "</table>\n",
       "</div>"
      ],
      "text/plain": [
       "    Name  Age\n",
       "0    Tom   15\n",
       "1   Nick   26\n",
       "2   John   17\n",
       "3  Peter   28"
      ]
     },
     "execution_count": 17,
     "metadata": {},
     "output_type": "execute_result"
    }
   ],
   "source": [
    "## creating dataframe\n",
    "df=pd.DataFrame({\"Name\":['Tom','Nick','John','Peter'],\n",
    "                 \"Age\":[15,26,17,28]})\n",
    "df"
   ]
  },
  {
   "cell_type": "code",
   "execution_count": 18,
   "id": "e9612ef2",
   "metadata": {},
   "outputs": [
    {
     "data": {
      "text/html": [
       "<div>\n",
       "<style scoped>\n",
       "    .dataframe tbody tr th:only-of-type {\n",
       "        vertical-align: middle;\n",
       "    }\n",
       "\n",
       "    .dataframe tbody tr th {\n",
       "        vertical-align: top;\n",
       "    }\n",
       "\n",
       "    .dataframe thead th {\n",
       "        text-align: right;\n",
       "    }\n",
       "</style>\n",
       "<table border=\"1\" class=\"dataframe\">\n",
       "  <thead>\n",
       "    <tr style=\"text-align: right;\">\n",
       "      <th></th>\n",
       "      <th>Col_1</th>\n",
       "      <th>Col_2</th>\n",
       "    </tr>\n",
       "  </thead>\n",
       "  <tbody>\n",
       "    <tr>\n",
       "      <th>Row_1</th>\n",
       "      <td>Tom</td>\n",
       "      <td>15</td>\n",
       "    </tr>\n",
       "    <tr>\n",
       "      <th>Row_2</th>\n",
       "      <td>Nick</td>\n",
       "      <td>26</td>\n",
       "    </tr>\n",
       "    <tr>\n",
       "      <th>Row_3</th>\n",
       "      <td>John</td>\n",
       "      <td>17</td>\n",
       "    </tr>\n",
       "    <tr>\n",
       "      <th>Row_4</th>\n",
       "      <td>Peter</td>\n",
       "      <td>28</td>\n",
       "    </tr>\n",
       "  </tbody>\n",
       "</table>\n",
       "</div>"
      ],
      "text/plain": [
       "       Col_1  Col_2\n",
       "Row_1    Tom     15\n",
       "Row_2   Nick     26\n",
       "Row_3   John     17\n",
       "Row_4  Peter     28"
      ]
     },
     "execution_count": 18,
     "metadata": {},
     "output_type": "execute_result"
    }
   ],
   "source": [
    "# Change the column names\n",
    "df.columns =['Col_1', 'Col_2']\n",
    "# Change the row indexes\n",
    "df.index = ['Row_1', 'Row_2', 'Row_3', 'Row_4']\n",
    "# printing the data frame\n",
    "df"
   ]
  },
  {
   "cell_type": "markdown",
   "id": "f33beb27",
   "metadata": {},
   "source": [
    "## DataFrame\n",
    "### * Using list"
   ]
  },
  {
   "cell_type": "code",
   "execution_count": 19,
   "id": "4bacf519",
   "metadata": {},
   "outputs": [
    {
     "data": {
      "text/html": [
       "<div>\n",
       "<style scoped>\n",
       "    .dataframe tbody tr th:only-of-type {\n",
       "        vertical-align: middle;\n",
       "    }\n",
       "\n",
       "    .dataframe tbody tr th {\n",
       "        vertical-align: top;\n",
       "    }\n",
       "\n",
       "    .dataframe thead th {\n",
       "        text-align: right;\n",
       "    }\n",
       "</style>\n",
       "<table border=\"1\" class=\"dataframe\">\n",
       "  <thead>\n",
       "    <tr style=\"text-align: right;\">\n",
       "      <th></th>\n",
       "      <th>0</th>\n",
       "      <th>1</th>\n",
       "      <th>2</th>\n",
       "    </tr>\n",
       "  </thead>\n",
       "  <tbody>\n",
       "    <tr>\n",
       "      <th>0</th>\n",
       "      <td>1</td>\n",
       "      <td>2</td>\n",
       "      <td>3</td>\n",
       "    </tr>\n",
       "    <tr>\n",
       "      <th>1</th>\n",
       "      <td>4</td>\n",
       "      <td>5</td>\n",
       "      <td>6</td>\n",
       "    </tr>\n",
       "    <tr>\n",
       "      <th>2</th>\n",
       "      <td>7</td>\n",
       "      <td>8</td>\n",
       "      <td>90</td>\n",
       "    </tr>\n",
       "  </tbody>\n",
       "</table>\n",
       "</div>"
      ],
      "text/plain": [
       "   0  1   2\n",
       "0  1  2   3\n",
       "1  4  5   6\n",
       "2  7  8  90"
      ]
     },
     "execution_count": 19,
     "metadata": {},
     "output_type": "execute_result"
    }
   ],
   "source": [
    "#create a dataframe  using list\n",
    "l1=[[1,2,3],[4,5,6],[7,8,90]]\n",
    "df1=pd.DataFrame(data=l1)\n",
    "df1"
   ]
  },
  {
   "cell_type": "code",
   "execution_count": 20,
   "id": "7c92abb2",
   "metadata": {},
   "outputs": [
    {
     "data": {
      "text/html": [
       "<div>\n",
       "<style scoped>\n",
       "    .dataframe tbody tr th:only-of-type {\n",
       "        vertical-align: middle;\n",
       "    }\n",
       "\n",
       "    .dataframe tbody tr th {\n",
       "        vertical-align: top;\n",
       "    }\n",
       "\n",
       "    .dataframe thead th {\n",
       "        text-align: right;\n",
       "    }\n",
       "</style>\n",
       "<table border=\"1\" class=\"dataframe\">\n",
       "  <thead>\n",
       "    <tr style=\"text-align: right;\">\n",
       "      <th></th>\n",
       "      <th>col1</th>\n",
       "      <th>col2</th>\n",
       "      <th>col3</th>\n",
       "    </tr>\n",
       "  </thead>\n",
       "  <tbody>\n",
       "    <tr>\n",
       "      <th>row1</th>\n",
       "      <td>1</td>\n",
       "      <td>2</td>\n",
       "      <td>3</td>\n",
       "    </tr>\n",
       "    <tr>\n",
       "      <th>row2</th>\n",
       "      <td>4</td>\n",
       "      <td>5</td>\n",
       "      <td>6</td>\n",
       "    </tr>\n",
       "    <tr>\n",
       "      <th>row3</th>\n",
       "      <td>7</td>\n",
       "      <td>8</td>\n",
       "      <td>90</td>\n",
       "    </tr>\n",
       "  </tbody>\n",
       "</table>\n",
       "</div>"
      ],
      "text/plain": [
       "      col1  col2  col3\n",
       "row1     1     2     3\n",
       "row2     4     5     6\n",
       "row3     7     8    90"
      ]
     },
     "execution_count": 20,
     "metadata": {},
     "output_type": "execute_result"
    }
   ],
   "source": [
    "df1=pd.DataFrame(data=l1,index=['row1','row2','row3'],columns=['col1','col2','col3'])\n",
    "(df1)"
   ]
  },
  {
   "cell_type": "code",
   "execution_count": 21,
   "id": "f7dcb23e",
   "metadata": {},
   "outputs": [
    {
     "name": "stdout",
     "output_type": "stream",
     "text": [
      "Index(['col1', 'col2', 'col3'], dtype='object')\n",
      "Index(['row1', 'row2', 'row3'], dtype='object')\n"
     ]
    }
   ],
   "source": [
    "print(df1.columns)\n",
    "print(df1.index)"
   ]
  },
  {
   "cell_type": "markdown",
   "id": "702d8fb5",
   "metadata": {},
   "source": [
    "## * Using Dictionary"
   ]
  },
  {
   "cell_type": "code",
   "execution_count": 22,
   "id": "d3917e08",
   "metadata": {},
   "outputs": [
    {
     "data": {
      "text/html": [
       "<div>\n",
       "<style scoped>\n",
       "    .dataframe tbody tr th:only-of-type {\n",
       "        vertical-align: middle;\n",
       "    }\n",
       "\n",
       "    .dataframe tbody tr th {\n",
       "        vertical-align: top;\n",
       "    }\n",
       "\n",
       "    .dataframe thead th {\n",
       "        text-align: right;\n",
       "    }\n",
       "</style>\n",
       "<table border=\"1\" class=\"dataframe\">\n",
       "  <thead>\n",
       "    <tr style=\"text-align: right;\">\n",
       "      <th></th>\n",
       "      <th>col1</th>\n",
       "      <th>col2</th>\n",
       "      <th>col3</th>\n",
       "    </tr>\n",
       "  </thead>\n",
       "  <tbody>\n",
       "    <tr>\n",
       "      <th>row1</th>\n",
       "      <td>1</td>\n",
       "      <td>4</td>\n",
       "      <td>7</td>\n",
       "    </tr>\n",
       "    <tr>\n",
       "      <th>row2</th>\n",
       "      <td>2</td>\n",
       "      <td>5</td>\n",
       "      <td>8</td>\n",
       "    </tr>\n",
       "    <tr>\n",
       "      <th>row3</th>\n",
       "      <td>3</td>\n",
       "      <td>6</td>\n",
       "      <td>9</td>\n",
       "    </tr>\n",
       "  </tbody>\n",
       "</table>\n",
       "</div>"
      ],
      "text/plain": [
       "      col1  col2  col3\n",
       "row1     1     4     7\n",
       "row2     2     5     8\n",
       "row3     3     6     9"
      ]
     },
     "execution_count": 22,
     "metadata": {},
     "output_type": "execute_result"
    }
   ],
   "source": [
    "d2={'col1':[1,2,3],'col2':[4,5,6],'col3':[7,8,9]}\n",
    "df2=pd.DataFrame(data=d2,index=['row1','row2','row3'])\n",
    "df2"
   ]
  },
  {
   "cell_type": "markdown",
   "id": "8c9d2c7e",
   "metadata": {},
   "source": [
    "### * Using numpy array"
   ]
  },
  {
   "cell_type": "code",
   "execution_count": 23,
   "id": "cde8d171",
   "metadata": {},
   "outputs": [
    {
     "data": {
      "text/html": [
       "<div>\n",
       "<style scoped>\n",
       "    .dataframe tbody tr th:only-of-type {\n",
       "        vertical-align: middle;\n",
       "    }\n",
       "\n",
       "    .dataframe tbody tr th {\n",
       "        vertical-align: top;\n",
       "    }\n",
       "\n",
       "    .dataframe thead th {\n",
       "        text-align: right;\n",
       "    }\n",
       "</style>\n",
       "<table border=\"1\" class=\"dataframe\">\n",
       "  <thead>\n",
       "    <tr style=\"text-align: right;\">\n",
       "      <th></th>\n",
       "      <th>0</th>\n",
       "      <th>1</th>\n",
       "    </tr>\n",
       "  </thead>\n",
       "  <tbody>\n",
       "    <tr>\n",
       "      <th>0</th>\n",
       "      <td>0.571060</td>\n",
       "      <td>0.881459</td>\n",
       "    </tr>\n",
       "    <tr>\n",
       "      <th>1</th>\n",
       "      <td>0.504815</td>\n",
       "      <td>0.236672</td>\n",
       "    </tr>\n",
       "    <tr>\n",
       "      <th>2</th>\n",
       "      <td>0.609317</td>\n",
       "      <td>0.061808</td>\n",
       "    </tr>\n",
       "  </tbody>\n",
       "</table>\n",
       "</div>"
      ],
      "text/plain": [
       "          0         1\n",
       "0  0.571060  0.881459\n",
       "1  0.504815  0.236672\n",
       "2  0.609317  0.061808"
      ]
     },
     "execution_count": 23,
     "metadata": {},
     "output_type": "execute_result"
    }
   ],
   "source": [
    "#creating dataframe using numpy arrays----random function\n",
    "df3=pd.DataFrame(data=np.random.rand(3,2))\n",
    "df3"
   ]
  },
  {
   "cell_type": "code",
   "execution_count": 24,
   "id": "08d43da0",
   "metadata": {},
   "outputs": [
    {
     "data": {
      "text/html": [
       "<div>\n",
       "<style scoped>\n",
       "    .dataframe tbody tr th:only-of-type {\n",
       "        vertical-align: middle;\n",
       "    }\n",
       "\n",
       "    .dataframe tbody tr th {\n",
       "        vertical-align: top;\n",
       "    }\n",
       "\n",
       "    .dataframe thead th {\n",
       "        text-align: right;\n",
       "    }\n",
       "</style>\n",
       "<table border=\"1\" class=\"dataframe\">\n",
       "  <thead>\n",
       "    <tr style=\"text-align: right;\">\n",
       "      <th></th>\n",
       "      <th>col1</th>\n",
       "      <th>col2</th>\n",
       "    </tr>\n",
       "  </thead>\n",
       "  <tbody>\n",
       "    <tr>\n",
       "      <th>row1</th>\n",
       "      <td>0.019030</td>\n",
       "      <td>0.949367</td>\n",
       "    </tr>\n",
       "    <tr>\n",
       "      <th>row2</th>\n",
       "      <td>0.950160</td>\n",
       "      <td>0.205590</td>\n",
       "    </tr>\n",
       "    <tr>\n",
       "      <th>row3</th>\n",
       "      <td>0.775641</td>\n",
       "      <td>0.225655</td>\n",
       "    </tr>\n",
       "  </tbody>\n",
       "</table>\n",
       "</div>"
      ],
      "text/plain": [
       "          col1      col2\n",
       "row1  0.019030  0.949367\n",
       "row2  0.950160  0.205590\n",
       "row3  0.775641  0.225655"
      ]
     },
     "execution_count": 24,
     "metadata": {},
     "output_type": "execute_result"
    }
   ],
   "source": [
    "df3=pd.DataFrame(data=np.random.rand(3,2),index=['row1','row2','row3'],columns=['col1','col2'])\n",
    "df3"
   ]
  },
  {
   "cell_type": "code",
   "execution_count": 25,
   "id": "b9f46e20",
   "metadata": {},
   "outputs": [
    {
     "data": {
      "text/html": [
       "<div>\n",
       "<style scoped>\n",
       "    .dataframe tbody tr th:only-of-type {\n",
       "        vertical-align: middle;\n",
       "    }\n",
       "\n",
       "    .dataframe tbody tr th {\n",
       "        vertical-align: top;\n",
       "    }\n",
       "\n",
       "    .dataframe thead th {\n",
       "        text-align: right;\n",
       "    }\n",
       "</style>\n",
       "<table border=\"1\" class=\"dataframe\">\n",
       "  <thead>\n",
       "    <tr style=\"text-align: right;\">\n",
       "      <th></th>\n",
       "      <th>Name</th>\n",
       "      <th>Age</th>\n",
       "      <th>Degree</th>\n",
       "      <th>Percentage</th>\n",
       "    </tr>\n",
       "  </thead>\n",
       "  <tbody>\n",
       "    <tr>\n",
       "      <th>row1</th>\n",
       "      <td>Rahul</td>\n",
       "      <td>20</td>\n",
       "      <td>bca</td>\n",
       "      <td>60</td>\n",
       "    </tr>\n",
       "    <tr>\n",
       "      <th>row2</th>\n",
       "      <td>Sohan</td>\n",
       "      <td>21</td>\n",
       "      <td>bba</td>\n",
       "      <td>70</td>\n",
       "    </tr>\n",
       "    <tr>\n",
       "      <th>row3</th>\n",
       "      <td>Rachana</td>\n",
       "      <td>23</td>\n",
       "      <td>be</td>\n",
       "      <td>80</td>\n",
       "    </tr>\n",
       "  </tbody>\n",
       "</table>\n",
       "</div>"
      ],
      "text/plain": [
       "         Name  Age Degree  Percentage\n",
       "row1    Rahul   20    bca          60\n",
       "row2    Sohan   21    bba          70\n",
       "row3  Rachana   23     be          80"
      ]
     },
     "execution_count": 25,
     "metadata": {},
     "output_type": "execute_result"
    }
   ],
   "source": [
    "d3={'Name':['Rahul','Sohan','Rachana'],'Age':[20,21,23],'Degree':['bca','bba','be'],'Percentage':[60,70,80]}\n",
    "data=pd.DataFrame(data=d3,index=['row1','row2','row3'])\n",
    "data"
   ]
  },
  {
   "cell_type": "code",
   "execution_count": 26,
   "id": "cfe8a8f7",
   "metadata": {},
   "outputs": [
    {
     "data": {
      "text/plain": [
       "row1      Rahul\n",
       "row2      Sohan\n",
       "row3    Rachana\n",
       "Name: Name, dtype: object"
      ]
     },
     "execution_count": 26,
     "metadata": {},
     "output_type": "execute_result"
    }
   ],
   "source": [
    "data.Name"
   ]
  },
  {
   "cell_type": "code",
   "execution_count": 27,
   "id": "a52b0692",
   "metadata": {},
   "outputs": [
    {
     "data": {
      "text/plain": [
       "pandas.core.series.Series"
      ]
     },
     "execution_count": 27,
     "metadata": {},
     "output_type": "execute_result"
    }
   ],
   "source": [
    "type(data.Name)"
   ]
  },
  {
   "cell_type": "code",
   "execution_count": 28,
   "id": "cc265396",
   "metadata": {},
   "outputs": [
    {
     "name": "stdout",
     "output_type": "stream",
     "text": [
      "row1      Rahul\n",
      "row2      Sohan\n",
      "row3    Rachana\n",
      "Name: Name, dtype: object\n"
     ]
    },
    {
     "data": {
      "text/plain": [
       "pandas.core.series.Series"
      ]
     },
     "execution_count": 28,
     "metadata": {},
     "output_type": "execute_result"
    }
   ],
   "source": [
    "print(data['Name'])\n",
    "type(data['Name'])"
   ]
  },
  {
   "cell_type": "code",
   "execution_count": 29,
   "id": "35864a42",
   "metadata": {},
   "outputs": [
    {
     "name": "stdout",
     "output_type": "stream",
     "text": [
      "row1      Rahul\n",
      "row2      Sohan\n",
      "row3    Rachana\n",
      "Name: Name, dtype: object\n",
      "row1    20\n",
      "row2    21\n",
      "row3    23\n",
      "Name: Age, dtype: int64\n"
     ]
    }
   ],
   "source": [
    "print(data['Name'])\n",
    "print(data['Age'])"
   ]
  },
  {
   "cell_type": "code",
   "execution_count": 30,
   "id": "ce296e48",
   "metadata": {},
   "outputs": [
    {
     "name": "stdout",
     "output_type": "stream",
     "text": [
      "         Name  Age\n",
      "row1    Rahul   20\n",
      "row2    Sohan   21\n",
      "row3  Rachana   23\n"
     ]
    }
   ],
   "source": [
    "print(data[[\"Name\", \"Age\"]])"
   ]
  },
  {
   "cell_type": "code",
   "execution_count": 31,
   "id": "1a3de9ed",
   "metadata": {},
   "outputs": [
    {
     "name": "stdout",
     "output_type": "stream",
     "text": [
      "       Name  Age\n",
      "row1  Rahul   20\n",
      "row2  Sohan   21\n"
     ]
    }
   ],
   "source": [
    "print(data[[\"Name\", \"Age\"]][0:2])"
   ]
  },
  {
   "cell_type": "code",
   "execution_count": 32,
   "id": "68e6afb5",
   "metadata": {},
   "outputs": [
    {
     "name": "stdout",
     "output_type": "stream",
     "text": [
      "         Name  Age\n",
      "row1    Rahul   20\n",
      "row2    Sohan   21\n",
      "row3  Rachana   23\n"
     ]
    }
   ],
   "source": [
    "print(data[[\"Name\", \"Age\"]][0:])"
   ]
  },
  {
   "cell_type": "code",
   "execution_count": 33,
   "id": "8c8d189d",
   "metadata": {},
   "outputs": [
    {
     "name": "stdout",
     "output_type": "stream",
     "text": [
      "       Name  Age\n",
      "row1  Rahul   20\n",
      "row2  Sohan   21\n",
      "       Name  Age Degree  Percentage\n",
      "row1  Rahul   20    bca          60\n",
      "row2  Sohan   21    bba          70\n"
     ]
    }
   ],
   "source": [
    "print(data[[\"Name\", \"Age\"]][0:2])\n",
    "print(data[0:2])"
   ]
  },
  {
   "cell_type": "markdown",
   "id": "533c0464",
   "metadata": {},
   "source": [
    "## * Using loc and iloc\n",
    "- Location based\n",
    "- Integer locking"
   ]
  },
  {
   "cell_type": "code",
   "execution_count": 34,
   "id": "db798e96",
   "metadata": {},
   "outputs": [
    {
     "data": {
      "text/html": [
       "<div>\n",
       "<style scoped>\n",
       "    .dataframe tbody tr th:only-of-type {\n",
       "        vertical-align: middle;\n",
       "    }\n",
       "\n",
       "    .dataframe tbody tr th {\n",
       "        vertical-align: top;\n",
       "    }\n",
       "\n",
       "    .dataframe thead th {\n",
       "        text-align: right;\n",
       "    }\n",
       "</style>\n",
       "<table border=\"1\" class=\"dataframe\">\n",
       "  <thead>\n",
       "    <tr style=\"text-align: right;\">\n",
       "      <th></th>\n",
       "      <th>Name</th>\n",
       "      <th>Age</th>\n",
       "      <th>Degree</th>\n",
       "      <th>Percentage</th>\n",
       "    </tr>\n",
       "  </thead>\n",
       "  <tbody>\n",
       "    <tr>\n",
       "      <th>row1</th>\n",
       "      <td>Rahul</td>\n",
       "      <td>20</td>\n",
       "      <td>bca</td>\n",
       "      <td>60</td>\n",
       "    </tr>\n",
       "    <tr>\n",
       "      <th>row2</th>\n",
       "      <td>Sohan</td>\n",
       "      <td>21</td>\n",
       "      <td>bba</td>\n",
       "      <td>70</td>\n",
       "    </tr>\n",
       "    <tr>\n",
       "      <th>row3</th>\n",
       "      <td>Rachana</td>\n",
       "      <td>23</td>\n",
       "      <td>be</td>\n",
       "      <td>80</td>\n",
       "    </tr>\n",
       "  </tbody>\n",
       "</table>\n",
       "</div>"
      ],
      "text/plain": [
       "         Name  Age Degree  Percentage\n",
       "row1    Rahul   20    bca          60\n",
       "row2    Sohan   21    bba          70\n",
       "row3  Rachana   23     be          80"
      ]
     },
     "execution_count": 34,
     "metadata": {},
     "output_type": "execute_result"
    }
   ],
   "source": [
    "data.loc[:]                   ##actual dataset"
   ]
  },
  {
   "cell_type": "code",
   "execution_count": 35,
   "id": "5cc6b00b",
   "metadata": {},
   "outputs": [
    {
     "data": {
      "text/html": [
       "<div>\n",
       "<style scoped>\n",
       "    .dataframe tbody tr th:only-of-type {\n",
       "        vertical-align: middle;\n",
       "    }\n",
       "\n",
       "    .dataframe tbody tr th {\n",
       "        vertical-align: top;\n",
       "    }\n",
       "\n",
       "    .dataframe thead th {\n",
       "        text-align: right;\n",
       "    }\n",
       "</style>\n",
       "<table border=\"1\" class=\"dataframe\">\n",
       "  <thead>\n",
       "    <tr style=\"text-align: right;\">\n",
       "      <th></th>\n",
       "      <th>Name</th>\n",
       "    </tr>\n",
       "  </thead>\n",
       "  <tbody>\n",
       "    <tr>\n",
       "      <th>row1</th>\n",
       "      <td>Rahul</td>\n",
       "    </tr>\n",
       "    <tr>\n",
       "      <th>row2</th>\n",
       "      <td>Sohan</td>\n",
       "    </tr>\n",
       "    <tr>\n",
       "      <th>row3</th>\n",
       "      <td>Rachana</td>\n",
       "    </tr>\n",
       "  </tbody>\n",
       "</table>\n",
       "</div>"
      ],
      "text/plain": [
       "         Name\n",
       "row1    Rahul\n",
       "row2    Sohan\n",
       "row3  Rachana"
      ]
     },
     "execution_count": 35,
     "metadata": {},
     "output_type": "execute_result"
    }
   ],
   "source": [
    "data.loc[:,[\"Name\"]]"
   ]
  },
  {
   "cell_type": "code",
   "execution_count": 36,
   "id": "f93ef99c",
   "metadata": {},
   "outputs": [
    {
     "data": {
      "text/html": [
       "<div>\n",
       "<style scoped>\n",
       "    .dataframe tbody tr th:only-of-type {\n",
       "        vertical-align: middle;\n",
       "    }\n",
       "\n",
       "    .dataframe tbody tr th {\n",
       "        vertical-align: top;\n",
       "    }\n",
       "\n",
       "    .dataframe thead th {\n",
       "        text-align: right;\n",
       "    }\n",
       "</style>\n",
       "<table border=\"1\" class=\"dataframe\">\n",
       "  <thead>\n",
       "    <tr style=\"text-align: right;\">\n",
       "      <th></th>\n",
       "      <th>Name</th>\n",
       "      <th>Degree</th>\n",
       "    </tr>\n",
       "  </thead>\n",
       "  <tbody>\n",
       "    <tr>\n",
       "      <th>row1</th>\n",
       "      <td>Rahul</td>\n",
       "      <td>bca</td>\n",
       "    </tr>\n",
       "    <tr>\n",
       "      <th>row2</th>\n",
       "      <td>Sohan</td>\n",
       "      <td>bba</td>\n",
       "    </tr>\n",
       "    <tr>\n",
       "      <th>row3</th>\n",
       "      <td>Rachana</td>\n",
       "      <td>be</td>\n",
       "    </tr>\n",
       "  </tbody>\n",
       "</table>\n",
       "</div>"
      ],
      "text/plain": [
       "         Name Degree\n",
       "row1    Rahul    bca\n",
       "row2    Sohan    bba\n",
       "row3  Rachana     be"
      ]
     },
     "execution_count": 36,
     "metadata": {},
     "output_type": "execute_result"
    }
   ],
   "source": [
    "data.loc[:,['Name','Degree']]"
   ]
  },
  {
   "cell_type": "code",
   "execution_count": 37,
   "id": "327f5e74",
   "metadata": {},
   "outputs": [
    {
     "data": {
      "text/html": [
       "<div>\n",
       "<style scoped>\n",
       "    .dataframe tbody tr th:only-of-type {\n",
       "        vertical-align: middle;\n",
       "    }\n",
       "\n",
       "    .dataframe tbody tr th {\n",
       "        vertical-align: top;\n",
       "    }\n",
       "\n",
       "    .dataframe thead th {\n",
       "        text-align: right;\n",
       "    }\n",
       "</style>\n",
       "<table border=\"1\" class=\"dataframe\">\n",
       "  <thead>\n",
       "    <tr style=\"text-align: right;\">\n",
       "      <th></th>\n",
       "      <th>Name</th>\n",
       "      <th>Degree</th>\n",
       "    </tr>\n",
       "  </thead>\n",
       "  <tbody>\n",
       "    <tr>\n",
       "      <th>row1</th>\n",
       "      <td>Rahul</td>\n",
       "      <td>bca</td>\n",
       "    </tr>\n",
       "    <tr>\n",
       "      <th>row2</th>\n",
       "      <td>Sohan</td>\n",
       "      <td>bba</td>\n",
       "    </tr>\n",
       "  </tbody>\n",
       "</table>\n",
       "</div>"
      ],
      "text/plain": [
       "       Name Degree\n",
       "row1  Rahul    bca\n",
       "row2  Sohan    bba"
      ]
     },
     "execution_count": 37,
     "metadata": {},
     "output_type": "execute_result"
    }
   ],
   "source": [
    "data.loc[['row1','row2'],['Name','Degree']]             #accesing randomly"
   ]
  },
  {
   "cell_type": "markdown",
   "id": "bb48a53a",
   "metadata": {},
   "source": [
    "## iloc:"
   ]
  },
  {
   "cell_type": "code",
   "execution_count": 38,
   "id": "476c8429",
   "metadata": {},
   "outputs": [
    {
     "data": {
      "text/html": [
       "<div>\n",
       "<style scoped>\n",
       "    .dataframe tbody tr th:only-of-type {\n",
       "        vertical-align: middle;\n",
       "    }\n",
       "\n",
       "    .dataframe tbody tr th {\n",
       "        vertical-align: top;\n",
       "    }\n",
       "\n",
       "    .dataframe thead th {\n",
       "        text-align: right;\n",
       "    }\n",
       "</style>\n",
       "<table border=\"1\" class=\"dataframe\">\n",
       "  <thead>\n",
       "    <tr style=\"text-align: right;\">\n",
       "      <th></th>\n",
       "      <th>Name</th>\n",
       "      <th>Age</th>\n",
       "    </tr>\n",
       "  </thead>\n",
       "  <tbody>\n",
       "    <tr>\n",
       "      <th>row1</th>\n",
       "      <td>Rahul</td>\n",
       "      <td>20</td>\n",
       "    </tr>\n",
       "    <tr>\n",
       "      <th>row2</th>\n",
       "      <td>Sohan</td>\n",
       "      <td>21</td>\n",
       "    </tr>\n",
       "  </tbody>\n",
       "</table>\n",
       "</div>"
      ],
      "text/plain": [
       "       Name  Age\n",
       "row1  Rahul   20\n",
       "row2  Sohan   21"
      ]
     },
     "execution_count": 38,
     "metadata": {},
     "output_type": "execute_result"
    }
   ],
   "source": [
    "data.iloc[0:2,0:2]"
   ]
  },
  {
   "cell_type": "code",
   "execution_count": 39,
   "id": "26444777",
   "metadata": {},
   "outputs": [
    {
     "data": {
      "text/html": [
       "<div>\n",
       "<style scoped>\n",
       "    .dataframe tbody tr th:only-of-type {\n",
       "        vertical-align: middle;\n",
       "    }\n",
       "\n",
       "    .dataframe tbody tr th {\n",
       "        vertical-align: top;\n",
       "    }\n",
       "\n",
       "    .dataframe thead th {\n",
       "        text-align: right;\n",
       "    }\n",
       "</style>\n",
       "<table border=\"1\" class=\"dataframe\">\n",
       "  <thead>\n",
       "    <tr style=\"text-align: right;\">\n",
       "      <th></th>\n",
       "      <th>Name</th>\n",
       "      <th>Degree</th>\n",
       "    </tr>\n",
       "  </thead>\n",
       "  <tbody>\n",
       "    <tr>\n",
       "      <th>row1</th>\n",
       "      <td>Rahul</td>\n",
       "      <td>bca</td>\n",
       "    </tr>\n",
       "    <tr>\n",
       "      <th>row2</th>\n",
       "      <td>Sohan</td>\n",
       "      <td>bba</td>\n",
       "    </tr>\n",
       "  </tbody>\n",
       "</table>\n",
       "</div>"
      ],
      "text/plain": [
       "       Name Degree\n",
       "row1  Rahul    bca\n",
       "row2  Sohan    bba"
      ]
     },
     "execution_count": 39,
     "metadata": {},
     "output_type": "execute_result"
    }
   ],
   "source": [
    "data.iloc[[0,1],[0,2]]"
   ]
  },
  {
   "cell_type": "code",
   "execution_count": 40,
   "id": "509cf866",
   "metadata": {},
   "outputs": [
    {
     "data": {
      "text/html": [
       "<div>\n",
       "<style scoped>\n",
       "    .dataframe tbody tr th:only-of-type {\n",
       "        vertical-align: middle;\n",
       "    }\n",
       "\n",
       "    .dataframe tbody tr th {\n",
       "        vertical-align: top;\n",
       "    }\n",
       "\n",
       "    .dataframe thead th {\n",
       "        text-align: right;\n",
       "    }\n",
       "</style>\n",
       "<table border=\"1\" class=\"dataframe\">\n",
       "  <thead>\n",
       "    <tr style=\"text-align: right;\">\n",
       "      <th></th>\n",
       "      <th>Name</th>\n",
       "      <th>Degree</th>\n",
       "    </tr>\n",
       "  </thead>\n",
       "  <tbody>\n",
       "    <tr>\n",
       "      <th>row1</th>\n",
       "      <td>Rahul</td>\n",
       "      <td>bca</td>\n",
       "    </tr>\n",
       "    <tr>\n",
       "      <th>row2</th>\n",
       "      <td>Sohan</td>\n",
       "      <td>bba</td>\n",
       "    </tr>\n",
       "  </tbody>\n",
       "</table>\n",
       "</div>"
      ],
      "text/plain": [
       "       Name Degree\n",
       "row1  Rahul    bca\n",
       "row2  Sohan    bba"
      ]
     },
     "execution_count": 40,
     "metadata": {},
     "output_type": "execute_result"
    }
   ],
   "source": [
    "data.iloc[[0,1],[0,2]]"
   ]
  },
  {
   "cell_type": "code",
   "execution_count": 41,
   "id": "0cf03578",
   "metadata": {},
   "outputs": [
    {
     "data": {
      "text/html": [
       "<div>\n",
       "<style scoped>\n",
       "    .dataframe tbody tr th:only-of-type {\n",
       "        vertical-align: middle;\n",
       "    }\n",
       "\n",
       "    .dataframe tbody tr th {\n",
       "        vertical-align: top;\n",
       "    }\n",
       "\n",
       "    .dataframe thead th {\n",
       "        text-align: right;\n",
       "    }\n",
       "</style>\n",
       "<table border=\"1\" class=\"dataframe\">\n",
       "  <thead>\n",
       "    <tr style=\"text-align: right;\">\n",
       "      <th></th>\n",
       "      <th>First Name</th>\n",
       "      <th>Age</th>\n",
       "      <th>Degree</th>\n",
       "      <th>Percentage</th>\n",
       "    </tr>\n",
       "  </thead>\n",
       "  <tbody>\n",
       "    <tr>\n",
       "      <th>row1</th>\n",
       "      <td>Rahul</td>\n",
       "      <td>20</td>\n",
       "      <td>bca</td>\n",
       "      <td>60</td>\n",
       "    </tr>\n",
       "    <tr>\n",
       "      <th>row2</th>\n",
       "      <td>Sohan</td>\n",
       "      <td>21</td>\n",
       "      <td>bba</td>\n",
       "      <td>70</td>\n",
       "    </tr>\n",
       "    <tr>\n",
       "      <th>row3</th>\n",
       "      <td>Rachana</td>\n",
       "      <td>23</td>\n",
       "      <td>be</td>\n",
       "      <td>80</td>\n",
       "    </tr>\n",
       "  </tbody>\n",
       "</table>\n",
       "</div>"
      ],
      "text/plain": [
       "     First Name  Age Degree  Percentage\n",
       "row1      Rahul   20    bca          60\n",
       "row2      Sohan   21    bba          70\n",
       "row3    Rachana   23     be          80"
      ]
     },
     "execution_count": 41,
     "metadata": {},
     "output_type": "execute_result"
    }
   ],
   "source": [
    "#renaming the columns\n",
    "data.rename({'Name':'First Name'},axis=1)           #inplace=False for temporary changes in dataframe"
   ]
  },
  {
   "cell_type": "code",
   "execution_count": 42,
   "id": "b7df9f0c",
   "metadata": {},
   "outputs": [
    {
     "data": {
      "text/html": [
       "<div>\n",
       "<style scoped>\n",
       "    .dataframe tbody tr th:only-of-type {\n",
       "        vertical-align: middle;\n",
       "    }\n",
       "\n",
       "    .dataframe tbody tr th {\n",
       "        vertical-align: top;\n",
       "    }\n",
       "\n",
       "    .dataframe thead th {\n",
       "        text-align: right;\n",
       "    }\n",
       "</style>\n",
       "<table border=\"1\" class=\"dataframe\">\n",
       "  <thead>\n",
       "    <tr style=\"text-align: right;\">\n",
       "      <th></th>\n",
       "      <th>Name</th>\n",
       "      <th>Age</th>\n",
       "      <th>Degree</th>\n",
       "      <th>Percentage</th>\n",
       "    </tr>\n",
       "  </thead>\n",
       "  <tbody>\n",
       "    <tr>\n",
       "      <th>row1</th>\n",
       "      <td>Rahul</td>\n",
       "      <td>20</td>\n",
       "      <td>bca</td>\n",
       "      <td>60</td>\n",
       "    </tr>\n",
       "    <tr>\n",
       "      <th>row2</th>\n",
       "      <td>Sohan</td>\n",
       "      <td>21</td>\n",
       "      <td>bba</td>\n",
       "      <td>70</td>\n",
       "    </tr>\n",
       "    <tr>\n",
       "      <th>row3</th>\n",
       "      <td>Rachana</td>\n",
       "      <td>23</td>\n",
       "      <td>be</td>\n",
       "      <td>80</td>\n",
       "    </tr>\n",
       "  </tbody>\n",
       "</table>\n",
       "</div>"
      ],
      "text/plain": [
       "         Name  Age Degree  Percentage\n",
       "row1    Rahul   20    bca          60\n",
       "row2    Sohan   21    bba          70\n",
       "row3  Rachana   23     be          80"
      ]
     },
     "execution_count": 42,
     "metadata": {},
     "output_type": "execute_result"
    }
   ],
   "source": [
    "# lets see our data whether is has changes or not\n",
    "data                   "
   ]
  },
  {
   "cell_type": "code",
   "execution_count": 43,
   "id": "20ee0336",
   "metadata": {},
   "outputs": [
    {
     "data": {
      "text/html": [
       "<div>\n",
       "<style scoped>\n",
       "    .dataframe tbody tr th:only-of-type {\n",
       "        vertical-align: middle;\n",
       "    }\n",
       "\n",
       "    .dataframe tbody tr th {\n",
       "        vertical-align: top;\n",
       "    }\n",
       "\n",
       "    .dataframe thead th {\n",
       "        text-align: right;\n",
       "    }\n",
       "</style>\n",
       "<table border=\"1\" class=\"dataframe\">\n",
       "  <thead>\n",
       "    <tr style=\"text-align: right;\">\n",
       "      <th></th>\n",
       "      <th>First Name</th>\n",
       "      <th>Age</th>\n",
       "      <th>Degree</th>\n",
       "      <th>Percentage</th>\n",
       "    </tr>\n",
       "  </thead>\n",
       "  <tbody>\n",
       "    <tr>\n",
       "      <th>row1</th>\n",
       "      <td>Rahul</td>\n",
       "      <td>20</td>\n",
       "      <td>bca</td>\n",
       "      <td>60</td>\n",
       "    </tr>\n",
       "    <tr>\n",
       "      <th>row2</th>\n",
       "      <td>Sohan</td>\n",
       "      <td>21</td>\n",
       "      <td>bba</td>\n",
       "      <td>70</td>\n",
       "    </tr>\n",
       "    <tr>\n",
       "      <th>row3</th>\n",
       "      <td>Rachana</td>\n",
       "      <td>23</td>\n",
       "      <td>be</td>\n",
       "      <td>80</td>\n",
       "    </tr>\n",
       "  </tbody>\n",
       "</table>\n",
       "</div>"
      ],
      "text/plain": [
       "     First Name  Age Degree  Percentage\n",
       "row1      Rahul   20    bca          60\n",
       "row2      Sohan   21    bba          70\n",
       "row3    Rachana   23     be          80"
      ]
     },
     "execution_count": 43,
     "metadata": {},
     "output_type": "execute_result"
    }
   ],
   "source": [
    "data.rename({'Name':'First Name'},axis=1,inplace=True)  #making permenant changes to the dataframe\n",
    "data"
   ]
  },
  {
   "cell_type": "code",
   "execution_count": 44,
   "id": "b143a4d6",
   "metadata": {},
   "outputs": [
    {
     "data": {
      "text/html": [
       "<div>\n",
       "<style scoped>\n",
       "    .dataframe tbody tr th:only-of-type {\n",
       "        vertical-align: middle;\n",
       "    }\n",
       "\n",
       "    .dataframe tbody tr th {\n",
       "        vertical-align: top;\n",
       "    }\n",
       "\n",
       "    .dataframe thead th {\n",
       "        text-align: right;\n",
       "    }\n",
       "</style>\n",
       "<table border=\"1\" class=\"dataframe\">\n",
       "  <thead>\n",
       "    <tr style=\"text-align: right;\">\n",
       "      <th></th>\n",
       "      <th>First Name</th>\n",
       "      <th>Age</th>\n",
       "      <th>Degree</th>\n",
       "      <th>Percentage</th>\n",
       "    </tr>\n",
       "  </thead>\n",
       "  <tbody>\n",
       "    <tr>\n",
       "      <th>row1</th>\n",
       "      <td>Rahul</td>\n",
       "      <td>20</td>\n",
       "      <td>bca</td>\n",
       "      <td>60</td>\n",
       "    </tr>\n",
       "    <tr>\n",
       "      <th>row2</th>\n",
       "      <td>Sohan</td>\n",
       "      <td>21</td>\n",
       "      <td>bba</td>\n",
       "      <td>70</td>\n",
       "    </tr>\n",
       "    <tr>\n",
       "      <th>row3</th>\n",
       "      <td>Rachana</td>\n",
       "      <td>23</td>\n",
       "      <td>be</td>\n",
       "      <td>80</td>\n",
       "    </tr>\n",
       "  </tbody>\n",
       "</table>\n",
       "</div>"
      ],
      "text/plain": [
       "     First Name  Age Degree  Percentage\n",
       "row1      Rahul   20    bca          60\n",
       "row2      Sohan   21    bba          70\n",
       "row3    Rachana   23     be          80"
      ]
     },
     "execution_count": 44,
     "metadata": {},
     "output_type": "execute_result"
    }
   ],
   "source": [
    "data                      ##use inplace=True to make permanent changes"
   ]
  },
  {
   "cell_type": "markdown",
   "id": "cfc4b333",
   "metadata": {},
   "source": [
    "##  Inserting column"
   ]
  },
  {
   "cell_type": "code",
   "execution_count": 45,
   "id": "6d389d60",
   "metadata": {},
   "outputs": [
    {
     "data": {
      "text/html": [
       "<div>\n",
       "<style scoped>\n",
       "    .dataframe tbody tr th:only-of-type {\n",
       "        vertical-align: middle;\n",
       "    }\n",
       "\n",
       "    .dataframe tbody tr th {\n",
       "        vertical-align: top;\n",
       "    }\n",
       "\n",
       "    .dataframe thead th {\n",
       "        text-align: right;\n",
       "    }\n",
       "</style>\n",
       "<table border=\"1\" class=\"dataframe\">\n",
       "  <thead>\n",
       "    <tr style=\"text-align: right;\">\n",
       "      <th></th>\n",
       "      <th>First Name</th>\n",
       "      <th>Age</th>\n",
       "      <th>phone number</th>\n",
       "      <th>Degree</th>\n",
       "      <th>Percentage</th>\n",
       "    </tr>\n",
       "  </thead>\n",
       "  <tbody>\n",
       "    <tr>\n",
       "      <th>row1</th>\n",
       "      <td>Rahul</td>\n",
       "      <td>20</td>\n",
       "      <td>93983</td>\n",
       "      <td>bca</td>\n",
       "      <td>60</td>\n",
       "    </tr>\n",
       "    <tr>\n",
       "      <th>row2</th>\n",
       "      <td>Sohan</td>\n",
       "      <td>21</td>\n",
       "      <td>19511</td>\n",
       "      <td>bba</td>\n",
       "      <td>70</td>\n",
       "    </tr>\n",
       "    <tr>\n",
       "      <th>row3</th>\n",
       "      <td>Rachana</td>\n",
       "      <td>23</td>\n",
       "      <td>5843</td>\n",
       "      <td>be</td>\n",
       "      <td>80</td>\n",
       "    </tr>\n",
       "  </tbody>\n",
       "</table>\n",
       "</div>"
      ],
      "text/plain": [
       "     First Name  Age phone number Degree  Percentage\n",
       "row1      Rahul   20        93983    bca          60\n",
       "row2      Sohan   21        19511    bba          70\n",
       "row3    Rachana   23         5843     be          80"
      ]
     },
     "execution_count": 45,
     "metadata": {},
     "output_type": "execute_result"
    }
   ],
   "source": [
    "data.insert(2,\"phone number\",['93983','19511','5843'])\n",
    "data"
   ]
  },
  {
   "cell_type": "code",
   "execution_count": 46,
   "id": "f6d6ff34",
   "metadata": {},
   "outputs": [
    {
     "data": {
      "text/html": [
       "<div>\n",
       "<style scoped>\n",
       "    .dataframe tbody tr th:only-of-type {\n",
       "        vertical-align: middle;\n",
       "    }\n",
       "\n",
       "    .dataframe tbody tr th {\n",
       "        vertical-align: top;\n",
       "    }\n",
       "\n",
       "    .dataframe thead th {\n",
       "        text-align: right;\n",
       "    }\n",
       "</style>\n",
       "<table border=\"1\" class=\"dataframe\">\n",
       "  <thead>\n",
       "    <tr style=\"text-align: right;\">\n",
       "      <th></th>\n",
       "      <th>First Name</th>\n",
       "      <th>Age</th>\n",
       "      <th>phone number</th>\n",
       "      <th>Degree</th>\n",
       "      <th>Percentage</th>\n",
       "      <th>Address</th>\n",
       "      <th>Fees</th>\n",
       "      <th>Corse_opted</th>\n",
       "      <th>Roll_number</th>\n",
       "    </tr>\n",
       "  </thead>\n",
       "  <tbody>\n",
       "    <tr>\n",
       "      <th>row1</th>\n",
       "      <td>Rahul</td>\n",
       "      <td>20</td>\n",
       "      <td>93983</td>\n",
       "      <td>bca</td>\n",
       "      <td>60</td>\n",
       "      <td>Hyd</td>\n",
       "      <td>2000</td>\n",
       "      <td>AI</td>\n",
       "      <td>123</td>\n",
       "    </tr>\n",
       "    <tr>\n",
       "      <th>row2</th>\n",
       "      <td>Sohan</td>\n",
       "      <td>21</td>\n",
       "      <td>19511</td>\n",
       "      <td>bba</td>\n",
       "      <td>70</td>\n",
       "      <td>Bang</td>\n",
       "      <td>3000</td>\n",
       "      <td>Data science</td>\n",
       "      <td>256</td>\n",
       "    </tr>\n",
       "    <tr>\n",
       "      <th>row3</th>\n",
       "      <td>Rachana</td>\n",
       "      <td>23</td>\n",
       "      <td>5843</td>\n",
       "      <td>be</td>\n",
       "      <td>80</td>\n",
       "      <td>Delhi</td>\n",
       "      <td>2500</td>\n",
       "      <td>Python</td>\n",
       "      <td>489</td>\n",
       "    </tr>\n",
       "  </tbody>\n",
       "</table>\n",
       "</div>"
      ],
      "text/plain": [
       "     First Name  Age phone number Degree  Percentage Address  Fees  \\\n",
       "row1      Rahul   20        93983    bca          60     Hyd  2000   \n",
       "row2      Sohan   21        19511    bba          70    Bang  3000   \n",
       "row3    Rachana   23         5843     be          80   Delhi  2500   \n",
       "\n",
       "       Corse_opted  Roll_number  \n",
       "row1            AI          123  \n",
       "row2  Data science          256  \n",
       "row3        Python          489  "
      ]
     },
     "execution_count": 46,
     "metadata": {},
     "output_type": "execute_result"
    }
   ],
   "source": [
    "# how to add multiple columns\n",
    "data['Address'],data['Fees'],data['Corse_opted'],data['Roll_number']=['Hyd','Bang','Delhi'],[2000,3000,2500],['AI','Data science','Python'],[123,256,489]\n",
    "data"
   ]
  },
  {
   "cell_type": "markdown",
   "id": "f3805529",
   "metadata": {},
   "source": [
    "## Changing specific value in dataframe:"
   ]
  },
  {
   "cell_type": "code",
   "execution_count": 47,
   "id": "bf7764b3",
   "metadata": {},
   "outputs": [
    {
     "data": {
      "text/html": [
       "<div>\n",
       "<style scoped>\n",
       "    .dataframe tbody tr th:only-of-type {\n",
       "        vertical-align: middle;\n",
       "    }\n",
       "\n",
       "    .dataframe tbody tr th {\n",
       "        vertical-align: top;\n",
       "    }\n",
       "\n",
       "    .dataframe thead th {\n",
       "        text-align: right;\n",
       "    }\n",
       "</style>\n",
       "<table border=\"1\" class=\"dataframe\">\n",
       "  <thead>\n",
       "    <tr style=\"text-align: right;\">\n",
       "      <th></th>\n",
       "      <th>First Name</th>\n",
       "      <th>Age</th>\n",
       "      <th>phone number</th>\n",
       "      <th>Degree</th>\n",
       "      <th>Percentage</th>\n",
       "      <th>Address</th>\n",
       "      <th>Fees</th>\n",
       "      <th>Corse_opted</th>\n",
       "      <th>Roll_number</th>\n",
       "    </tr>\n",
       "  </thead>\n",
       "  <tbody>\n",
       "    <tr>\n",
       "      <th>row1</th>\n",
       "      <td>Rahul</td>\n",
       "      <td>20</td>\n",
       "      <td>93983</td>\n",
       "      <td>bca</td>\n",
       "      <td>60</td>\n",
       "      <td>Hyd</td>\n",
       "      <td>2000</td>\n",
       "      <td>AI</td>\n",
       "      <td>123</td>\n",
       "    </tr>\n",
       "    <tr>\n",
       "      <th>row2</th>\n",
       "      <td>Sohan</td>\n",
       "      <td>21</td>\n",
       "      <td>19511</td>\n",
       "      <td>bca</td>\n",
       "      <td>70</td>\n",
       "      <td>Bang</td>\n",
       "      <td>3000</td>\n",
       "      <td>Data science</td>\n",
       "      <td>256</td>\n",
       "    </tr>\n",
       "    <tr>\n",
       "      <th>row3</th>\n",
       "      <td>Rachana</td>\n",
       "      <td>23</td>\n",
       "      <td>5843</td>\n",
       "      <td>be</td>\n",
       "      <td>80</td>\n",
       "      <td>Delhi</td>\n",
       "      <td>2500</td>\n",
       "      <td>Python</td>\n",
       "      <td>489</td>\n",
       "    </tr>\n",
       "  </tbody>\n",
       "</table>\n",
       "</div>"
      ],
      "text/plain": [
       "     First Name  Age phone number Degree  Percentage Address  Fees  \\\n",
       "row1      Rahul   20        93983    bca          60     Hyd  2000   \n",
       "row2      Sohan   21        19511    bca          70    Bang  3000   \n",
       "row3    Rachana   23         5843     be          80   Delhi  2500   \n",
       "\n",
       "       Corse_opted  Roll_number  \n",
       "row1            AI          123  \n",
       "row2  Data science          256  \n",
       "row3        Python          489  "
      ]
     },
     "execution_count": 47,
     "metadata": {},
     "output_type": "execute_result"
    }
   ],
   "source": [
    "#How to change specific value in dataframe\n",
    "data=data.replace('bba','bca')\n",
    "data                        #hence bba is replaced with bca"
   ]
  },
  {
   "cell_type": "code",
   "execution_count": 48,
   "id": "d8779639",
   "metadata": {},
   "outputs": [
    {
     "data": {
      "text/plain": [
       "'bca'"
      ]
     },
     "execution_count": 48,
     "metadata": {},
     "output_type": "execute_result"
    }
   ],
   "source": [
    "##accessing\n",
    "data['Degree'][0]"
   ]
  },
  {
   "cell_type": "code",
   "execution_count": 49,
   "id": "3cf6a06f",
   "metadata": {},
   "outputs": [
    {
     "data": {
      "text/html": [
       "<div>\n",
       "<style scoped>\n",
       "    .dataframe tbody tr th:only-of-type {\n",
       "        vertical-align: middle;\n",
       "    }\n",
       "\n",
       "    .dataframe tbody tr th {\n",
       "        vertical-align: top;\n",
       "    }\n",
       "\n",
       "    .dataframe thead th {\n",
       "        text-align: right;\n",
       "    }\n",
       "</style>\n",
       "<table border=\"1\" class=\"dataframe\">\n",
       "  <thead>\n",
       "    <tr style=\"text-align: right;\">\n",
       "      <th></th>\n",
       "      <th>First Name</th>\n",
       "      <th>Age</th>\n",
       "      <th>phone number</th>\n",
       "      <th>Degree</th>\n",
       "      <th>Percentage</th>\n",
       "      <th>Address</th>\n",
       "      <th>Fees</th>\n",
       "      <th>Corse_opted</th>\n",
       "      <th>Roll_number</th>\n",
       "    </tr>\n",
       "  </thead>\n",
       "  <tbody>\n",
       "    <tr>\n",
       "      <th>row1</th>\n",
       "      <td>Rahul</td>\n",
       "      <td>20</td>\n",
       "      <td>93983</td>\n",
       "      <td>be</td>\n",
       "      <td>60</td>\n",
       "      <td>Hyd</td>\n",
       "      <td>2000</td>\n",
       "      <td>AI</td>\n",
       "      <td>123</td>\n",
       "    </tr>\n",
       "    <tr>\n",
       "      <th>row2</th>\n",
       "      <td>Sohan</td>\n",
       "      <td>21</td>\n",
       "      <td>19511</td>\n",
       "      <td>bca</td>\n",
       "      <td>70</td>\n",
       "      <td>Bang</td>\n",
       "      <td>3000</td>\n",
       "      <td>Data science</td>\n",
       "      <td>256</td>\n",
       "    </tr>\n",
       "    <tr>\n",
       "      <th>row3</th>\n",
       "      <td>Rachana</td>\n",
       "      <td>23</td>\n",
       "      <td>5843</td>\n",
       "      <td>be</td>\n",
       "      <td>80</td>\n",
       "      <td>Delhi</td>\n",
       "      <td>2500</td>\n",
       "      <td>Python</td>\n",
       "      <td>489</td>\n",
       "    </tr>\n",
       "  </tbody>\n",
       "</table>\n",
       "</div>"
      ],
      "text/plain": [
       "     First Name  Age phone number Degree  Percentage Address  Fees  \\\n",
       "row1      Rahul   20        93983     be          60     Hyd  2000   \n",
       "row2      Sohan   21        19511    bca          70    Bang  3000   \n",
       "row3    Rachana   23         5843     be          80   Delhi  2500   \n",
       "\n",
       "       Corse_opted  Roll_number  \n",
       "row1            AI          123  \n",
       "row2  Data science          256  \n",
       "row3        Python          489  "
      ]
     },
     "execution_count": 49,
     "metadata": {},
     "output_type": "execute_result"
    }
   ],
   "source": [
    "data.loc[['row1'],['Degree']]='be'\n",
    "data"
   ]
  },
  {
   "cell_type": "code",
   "execution_count": 50,
   "id": "e53d4547",
   "metadata": {},
   "outputs": [],
   "source": [
    "#dropping a row\n",
    "#axis=0\n",
    "data.drop(['Corse_opted'],axis=1,inplace=True)     "
   ]
  },
  {
   "cell_type": "code",
   "execution_count": 51,
   "id": "d142fc72",
   "metadata": {},
   "outputs": [
    {
     "data": {
      "text/html": [
       "<div>\n",
       "<style scoped>\n",
       "    .dataframe tbody tr th:only-of-type {\n",
       "        vertical-align: middle;\n",
       "    }\n",
       "\n",
       "    .dataframe tbody tr th {\n",
       "        vertical-align: top;\n",
       "    }\n",
       "\n",
       "    .dataframe thead th {\n",
       "        text-align: right;\n",
       "    }\n",
       "</style>\n",
       "<table border=\"1\" class=\"dataframe\">\n",
       "  <thead>\n",
       "    <tr style=\"text-align: right;\">\n",
       "      <th></th>\n",
       "      <th>First Name</th>\n",
       "      <th>Age</th>\n",
       "      <th>phone number</th>\n",
       "      <th>Degree</th>\n",
       "      <th>Percentage</th>\n",
       "      <th>Address</th>\n",
       "      <th>Fees</th>\n",
       "      <th>Roll_number</th>\n",
       "    </tr>\n",
       "  </thead>\n",
       "  <tbody>\n",
       "    <tr>\n",
       "      <th>row1</th>\n",
       "      <td>Rahul</td>\n",
       "      <td>20</td>\n",
       "      <td>93983</td>\n",
       "      <td>be</td>\n",
       "      <td>60</td>\n",
       "      <td>Hyd</td>\n",
       "      <td>2000</td>\n",
       "      <td>123</td>\n",
       "    </tr>\n",
       "    <tr>\n",
       "      <th>row2</th>\n",
       "      <td>Sohan</td>\n",
       "      <td>21</td>\n",
       "      <td>19511</td>\n",
       "      <td>bca</td>\n",
       "      <td>70</td>\n",
       "      <td>Bang</td>\n",
       "      <td>3000</td>\n",
       "      <td>256</td>\n",
       "    </tr>\n",
       "    <tr>\n",
       "      <th>row3</th>\n",
       "      <td>Rachana</td>\n",
       "      <td>23</td>\n",
       "      <td>5843</td>\n",
       "      <td>be</td>\n",
       "      <td>80</td>\n",
       "      <td>Delhi</td>\n",
       "      <td>2500</td>\n",
       "      <td>489</td>\n",
       "    </tr>\n",
       "  </tbody>\n",
       "</table>\n",
       "</div>"
      ],
      "text/plain": [
       "     First Name  Age phone number Degree  Percentage Address  Fees  \\\n",
       "row1      Rahul   20        93983     be          60     Hyd  2000   \n",
       "row2      Sohan   21        19511    bca          70    Bang  3000   \n",
       "row3    Rachana   23         5843     be          80   Delhi  2500   \n",
       "\n",
       "      Roll_number  \n",
       "row1          123  \n",
       "row2          256  \n",
       "row3          489  "
      ]
     },
     "execution_count": 51,
     "metadata": {},
     "output_type": "execute_result"
    }
   ],
   "source": [
    "data"
   ]
  },
  {
   "cell_type": "code",
   "execution_count": 52,
   "id": "fbe717d7",
   "metadata": {},
   "outputs": [
    {
     "name": "stdout",
     "output_type": "stream",
     "text": [
      "   A  B\n",
      "x  1  2\n",
      "y  3  4\n",
      " \n",
      "   A  B\n",
      "x  5  6\n",
      "y  7  8\n"
     ]
    }
   ],
   "source": [
    "df=pd.DataFrame([[1,2],[3,4]],columns=list('AB'),index=['x','y'])\n",
    "df2=pd.DataFrame([[5,6],[7,8]],columns=list('AB'),index=['x','y'])\n",
    "print(df)\n",
    "print(' ')\n",
    "print(df2)"
   ]
  },
  {
   "cell_type": "code",
   "execution_count": 53,
   "id": "c63ba615",
   "metadata": {},
   "outputs": [
    {
     "data": {
      "text/html": [
       "<div>\n",
       "<style scoped>\n",
       "    .dataframe tbody tr th:only-of-type {\n",
       "        vertical-align: middle;\n",
       "    }\n",
       "\n",
       "    .dataframe tbody tr th {\n",
       "        vertical-align: top;\n",
       "    }\n",
       "\n",
       "    .dataframe thead th {\n",
       "        text-align: right;\n",
       "    }\n",
       "</style>\n",
       "<table border=\"1\" class=\"dataframe\">\n",
       "  <thead>\n",
       "    <tr style=\"text-align: right;\">\n",
       "      <th></th>\n",
       "      <th>First Name</th>\n",
       "      <th>Age</th>\n",
       "      <th>phone number</th>\n",
       "      <th>Degree</th>\n",
       "      <th>Percentage</th>\n",
       "      <th>Address</th>\n",
       "      <th>Fees</th>\n",
       "      <th>Roll_number</th>\n",
       "    </tr>\n",
       "  </thead>\n",
       "  <tbody>\n",
       "    <tr>\n",
       "      <th>row1</th>\n",
       "      <td>Rahul</td>\n",
       "      <td>20</td>\n",
       "      <td>93983</td>\n",
       "      <td>be</td>\n",
       "      <td>60.0</td>\n",
       "      <td>Hyd</td>\n",
       "      <td>2000</td>\n",
       "      <td>123</td>\n",
       "    </tr>\n",
       "    <tr>\n",
       "      <th>row2</th>\n",
       "      <td>Sohan</td>\n",
       "      <td>21</td>\n",
       "      <td>19511</td>\n",
       "      <td>bca</td>\n",
       "      <td>NaN</td>\n",
       "      <td>Bang</td>\n",
       "      <td>3000</td>\n",
       "      <td>256</td>\n",
       "    </tr>\n",
       "    <tr>\n",
       "      <th>row3</th>\n",
       "      <td>Rachana</td>\n",
       "      <td>23</td>\n",
       "      <td>5843</td>\n",
       "      <td>be</td>\n",
       "      <td>30.0</td>\n",
       "      <td>Delhi</td>\n",
       "      <td>2500</td>\n",
       "      <td>489</td>\n",
       "    </tr>\n",
       "  </tbody>\n",
       "</table>\n",
       "</div>"
      ],
      "text/plain": [
       "     First Name  Age phone number Degree  Percentage Address  Fees  \\\n",
       "row1      Rahul   20        93983     be        60.0     Hyd  2000   \n",
       "row2      Sohan   21        19511    bca         NaN    Bang  3000   \n",
       "row3    Rachana   23         5843     be        30.0   Delhi  2500   \n",
       "\n",
       "      Roll_number  \n",
       "row1          123  \n",
       "row2          256  \n",
       "row3          489  "
      ]
     },
     "execution_count": 53,
     "metadata": {},
     "output_type": "execute_result"
    }
   ],
   "source": [
    "data['Percentage']=[60,np.NaN,30]\n",
    "data"
   ]
  },
  {
   "cell_type": "code",
   "execution_count": 54,
   "id": "be35136e",
   "metadata": {},
   "outputs": [
    {
     "data": {
      "text/html": [
       "<div>\n",
       "<style scoped>\n",
       "    .dataframe tbody tr th:only-of-type {\n",
       "        vertical-align: middle;\n",
       "    }\n",
       "\n",
       "    .dataframe tbody tr th {\n",
       "        vertical-align: top;\n",
       "    }\n",
       "\n",
       "    .dataframe thead th {\n",
       "        text-align: right;\n",
       "    }\n",
       "</style>\n",
       "<table border=\"1\" class=\"dataframe\">\n",
       "  <thead>\n",
       "    <tr style=\"text-align: right;\">\n",
       "      <th></th>\n",
       "      <th>First Name</th>\n",
       "      <th>Age</th>\n",
       "      <th>phone number</th>\n",
       "      <th>Degree</th>\n",
       "      <th>Percentage</th>\n",
       "      <th>Address</th>\n",
       "      <th>Fees</th>\n",
       "      <th>Roll_number</th>\n",
       "    </tr>\n",
       "  </thead>\n",
       "  <tbody>\n",
       "    <tr>\n",
       "      <th>row1</th>\n",
       "      <td>Rahul</td>\n",
       "      <td>20</td>\n",
       "      <td>93983</td>\n",
       "      <td>be</td>\n",
       "      <td>60.0</td>\n",
       "      <td>Hyd</td>\n",
       "      <td>2000</td>\n",
       "      <td>123</td>\n",
       "    </tr>\n",
       "    <tr>\n",
       "      <th>row3</th>\n",
       "      <td>Rachana</td>\n",
       "      <td>23</td>\n",
       "      <td>5843</td>\n",
       "      <td>be</td>\n",
       "      <td>30.0</td>\n",
       "      <td>Delhi</td>\n",
       "      <td>2500</td>\n",
       "      <td>489</td>\n",
       "    </tr>\n",
       "  </tbody>\n",
       "</table>\n",
       "</div>"
      ],
      "text/plain": [
       "     First Name  Age phone number Degree  Percentage Address  Fees  \\\n",
       "row1      Rahul   20        93983     be        60.0     Hyd  2000   \n",
       "row3    Rachana   23         5843     be        30.0   Delhi  2500   \n",
       "\n",
       "      Roll_number  \n",
       "row1          123  \n",
       "row3          489  "
      ]
     },
     "execution_count": 54,
     "metadata": {},
     "output_type": "execute_result"
    }
   ],
   "source": [
    "#Data preprocessing\n",
    "\n",
    "#drop s using drop function\n",
    "data.drop('row2')"
   ]
  },
  {
   "cell_type": "code",
   "execution_count": 55,
   "id": "3ec52291",
   "metadata": {},
   "outputs": [
    {
     "data": {
      "text/html": [
       "<div>\n",
       "<style scoped>\n",
       "    .dataframe tbody tr th:only-of-type {\n",
       "        vertical-align: middle;\n",
       "    }\n",
       "\n",
       "    .dataframe tbody tr th {\n",
       "        vertical-align: top;\n",
       "    }\n",
       "\n",
       "    .dataframe thead th {\n",
       "        text-align: right;\n",
       "    }\n",
       "</style>\n",
       "<table border=\"1\" class=\"dataframe\">\n",
       "  <thead>\n",
       "    <tr style=\"text-align: right;\">\n",
       "      <th></th>\n",
       "      <th>First Name</th>\n",
       "      <th>Age</th>\n",
       "      <th>phone number</th>\n",
       "      <th>Degree</th>\n",
       "      <th>Percentage</th>\n",
       "      <th>Address</th>\n",
       "      <th>Fees</th>\n",
       "      <th>Roll_number</th>\n",
       "    </tr>\n",
       "  </thead>\n",
       "  <tbody>\n",
       "    <tr>\n",
       "      <th>row1</th>\n",
       "      <td>Rahul</td>\n",
       "      <td>20</td>\n",
       "      <td>93983</td>\n",
       "      <td>be</td>\n",
       "      <td>60.0</td>\n",
       "      <td>Hyd</td>\n",
       "      <td>2000</td>\n",
       "      <td>123</td>\n",
       "    </tr>\n",
       "    <tr>\n",
       "      <th>row3</th>\n",
       "      <td>Rachana</td>\n",
       "      <td>23</td>\n",
       "      <td>5843</td>\n",
       "      <td>be</td>\n",
       "      <td>30.0</td>\n",
       "      <td>Delhi</td>\n",
       "      <td>2500</td>\n",
       "      <td>489</td>\n",
       "    </tr>\n",
       "  </tbody>\n",
       "</table>\n",
       "</div>"
      ],
      "text/plain": [
       "     First Name  Age phone number Degree  Percentage Address  Fees  \\\n",
       "row1      Rahul   20        93983     be        60.0     Hyd  2000   \n",
       "row3    Rachana   23         5843     be        30.0   Delhi  2500   \n",
       "\n",
       "      Roll_number  \n",
       "row1          123  \n",
       "row3          489  "
      ]
     },
     "execution_count": 55,
     "metadata": {},
     "output_type": "execute_result"
    }
   ],
   "source": [
    "data.dropna()"
   ]
  },
  {
   "cell_type": "code",
   "execution_count": 56,
   "id": "4061b023",
   "metadata": {},
   "outputs": [
    {
     "data": {
      "text/html": [
       "<div>\n",
       "<style scoped>\n",
       "    .dataframe tbody tr th:only-of-type {\n",
       "        vertical-align: middle;\n",
       "    }\n",
       "\n",
       "    .dataframe tbody tr th {\n",
       "        vertical-align: top;\n",
       "    }\n",
       "\n",
       "    .dataframe thead th {\n",
       "        text-align: right;\n",
       "    }\n",
       "</style>\n",
       "<table border=\"1\" class=\"dataframe\">\n",
       "  <thead>\n",
       "    <tr style=\"text-align: right;\">\n",
       "      <th></th>\n",
       "      <th>First Name</th>\n",
       "      <th>Age</th>\n",
       "      <th>phone number</th>\n",
       "      <th>Degree</th>\n",
       "      <th>Percentage</th>\n",
       "      <th>Address</th>\n",
       "      <th>Fees</th>\n",
       "      <th>Roll_number</th>\n",
       "    </tr>\n",
       "  </thead>\n",
       "  <tbody>\n",
       "    <tr>\n",
       "      <th>row1</th>\n",
       "      <td>Rahul</td>\n",
       "      <td>20</td>\n",
       "      <td>93983</td>\n",
       "      <td>be</td>\n",
       "      <td>60.0</td>\n",
       "      <td>Hyd</td>\n",
       "      <td>2000</td>\n",
       "      <td>123</td>\n",
       "    </tr>\n",
       "    <tr>\n",
       "      <th>row2</th>\n",
       "      <td>Sohan</td>\n",
       "      <td>21</td>\n",
       "      <td>19511</td>\n",
       "      <td>bca</td>\n",
       "      <td>NaN</td>\n",
       "      <td>Bang</td>\n",
       "      <td>3000</td>\n",
       "      <td>256</td>\n",
       "    </tr>\n",
       "  </tbody>\n",
       "</table>\n",
       "</div>"
      ],
      "text/plain": [
       "     First Name  Age phone number Degree  Percentage Address  Fees  \\\n",
       "row1      Rahul   20        93983     be        60.0     Hyd  2000   \n",
       "row2      Sohan   21        19511    bca         NaN    Bang  3000   \n",
       "\n",
       "      Roll_number  \n",
       "row1          123  \n",
       "row2          256  "
      ]
     },
     "execution_count": 56,
     "metadata": {},
     "output_type": "execute_result"
    }
   ],
   "source": [
    "#dropping row3\n",
    "\n",
    "data.drop('row3')"
   ]
  },
  {
   "cell_type": "code",
   "execution_count": 57,
   "id": "3bbd0273",
   "metadata": {},
   "outputs": [
    {
     "data": {
      "text/html": [
       "<div>\n",
       "<style scoped>\n",
       "    .dataframe tbody tr th:only-of-type {\n",
       "        vertical-align: middle;\n",
       "    }\n",
       "\n",
       "    .dataframe tbody tr th {\n",
       "        vertical-align: top;\n",
       "    }\n",
       "\n",
       "    .dataframe thead th {\n",
       "        text-align: right;\n",
       "    }\n",
       "</style>\n",
       "<table border=\"1\" class=\"dataframe\">\n",
       "  <thead>\n",
       "    <tr style=\"text-align: right;\">\n",
       "      <th></th>\n",
       "      <th>First Name</th>\n",
       "      <th>Age</th>\n",
       "      <th>phone number</th>\n",
       "      <th>Degree</th>\n",
       "      <th>Percentage</th>\n",
       "      <th>Address</th>\n",
       "      <th>Fees</th>\n",
       "      <th>Roll_number</th>\n",
       "      <th>hours_study</th>\n",
       "    </tr>\n",
       "  </thead>\n",
       "  <tbody>\n",
       "    <tr>\n",
       "      <th>0</th>\n",
       "      <td>Rahul</td>\n",
       "      <td>20</td>\n",
       "      <td>93983</td>\n",
       "      <td>be</td>\n",
       "      <td>60.0</td>\n",
       "      <td>Hyd</td>\n",
       "      <td>2000</td>\n",
       "      <td>123</td>\n",
       "      <td>NaN</td>\n",
       "    </tr>\n",
       "    <tr>\n",
       "      <th>1</th>\n",
       "      <td>Sohan</td>\n",
       "      <td>21</td>\n",
       "      <td>19511</td>\n",
       "      <td>bca</td>\n",
       "      <td>NaN</td>\n",
       "      <td>Bang</td>\n",
       "      <td>3000</td>\n",
       "      <td>256</td>\n",
       "      <td>NaN</td>\n",
       "    </tr>\n",
       "    <tr>\n",
       "      <th>2</th>\n",
       "      <td>Rachana</td>\n",
       "      <td>23</td>\n",
       "      <td>5843</td>\n",
       "      <td>be</td>\n",
       "      <td>30.0</td>\n",
       "      <td>Delhi</td>\n",
       "      <td>2500</td>\n",
       "      <td>489</td>\n",
       "      <td>NaN</td>\n",
       "    </tr>\n",
       "    <tr>\n",
       "      <th>3</th>\n",
       "      <td>Hemanth</td>\n",
       "      <td>24</td>\n",
       "      <td>123456</td>\n",
       "      <td>Ca</td>\n",
       "      <td>94.0</td>\n",
       "      <td>delhi</td>\n",
       "      <td>9852</td>\n",
       "      <td>52364</td>\n",
       "      <td>3.0</td>\n",
       "    </tr>\n",
       "  </tbody>\n",
       "</table>\n",
       "</div>"
      ],
      "text/plain": [
       "  First Name  Age phone number Degree  Percentage Address  Fees  Roll_number  \\\n",
       "0      Rahul   20        93983     be        60.0     Hyd  2000          123   \n",
       "1      Sohan   21        19511    bca         NaN    Bang  3000          256   \n",
       "2    Rachana   23         5843     be        30.0   Delhi  2500          489   \n",
       "3    Hemanth   24       123456     Ca        94.0   delhi  9852        52364   \n",
       "\n",
       "   hours_study  \n",
       "0          NaN  \n",
       "1          NaN  \n",
       "2          NaN  \n",
       "3          3.0  "
      ]
     },
     "execution_count": 57,
     "metadata": {},
     "output_type": "execute_result"
    }
   ],
   "source": [
    "row3={'First Name': 'Hemanth','Age':24,'phone number':123456,'Degree': 'Ca', 'Percentage':94,'Address':'delhi','Fees':9852,'Roll_number':52364,'hours_study':3}\n",
    "data.append(row3,ignore_index=True)"
   ]
  },
  {
   "cell_type": "markdown",
   "id": "ba68a5b0",
   "metadata": {},
   "source": [
    "### When do we impute nan with mean ??\n",
    "-- Note that imputing missing data with mean values can only be done with numerical data."
   ]
  },
  {
   "cell_type": "code",
   "execution_count": 58,
   "id": "98999af5",
   "metadata": {},
   "outputs": [
    {
     "data": {
      "text/html": [
       "<div>\n",
       "<style scoped>\n",
       "    .dataframe tbody tr th:only-of-type {\n",
       "        vertical-align: middle;\n",
       "    }\n",
       "\n",
       "    .dataframe tbody tr th {\n",
       "        vertical-align: top;\n",
       "    }\n",
       "\n",
       "    .dataframe thead th {\n",
       "        text-align: right;\n",
       "    }\n",
       "</style>\n",
       "<table border=\"1\" class=\"dataframe\">\n",
       "  <thead>\n",
       "    <tr style=\"text-align: right;\">\n",
       "      <th></th>\n",
       "      <th>First Name</th>\n",
       "      <th>Age</th>\n",
       "      <th>phone number</th>\n",
       "      <th>Degree</th>\n",
       "      <th>Percentage</th>\n",
       "      <th>Address</th>\n",
       "      <th>Fees</th>\n",
       "      <th>Roll_number</th>\n",
       "    </tr>\n",
       "  </thead>\n",
       "  <tbody>\n",
       "    <tr>\n",
       "      <th>row1</th>\n",
       "      <td>Rahul</td>\n",
       "      <td>20</td>\n",
       "      <td>93983</td>\n",
       "      <td>be</td>\n",
       "      <td>60.0</td>\n",
       "      <td>Hyd</td>\n",
       "      <td>2000</td>\n",
       "      <td>123</td>\n",
       "    </tr>\n",
       "    <tr>\n",
       "      <th>row2</th>\n",
       "      <td>Sohan</td>\n",
       "      <td>21</td>\n",
       "      <td>19511</td>\n",
       "      <td>bca</td>\n",
       "      <td>45.0</td>\n",
       "      <td>Bang</td>\n",
       "      <td>3000</td>\n",
       "      <td>256</td>\n",
       "    </tr>\n",
       "    <tr>\n",
       "      <th>row3</th>\n",
       "      <td>Rachana</td>\n",
       "      <td>23</td>\n",
       "      <td>5843</td>\n",
       "      <td>be</td>\n",
       "      <td>30.0</td>\n",
       "      <td>Delhi</td>\n",
       "      <td>2500</td>\n",
       "      <td>489</td>\n",
       "    </tr>\n",
       "  </tbody>\n",
       "</table>\n",
       "</div>"
      ],
      "text/plain": [
       "     First Name  Age phone number Degree  Percentage Address  Fees  \\\n",
       "row1      Rahul   20        93983     be        60.0     Hyd  2000   \n",
       "row2      Sohan   21        19511    bca        45.0    Bang  3000   \n",
       "row3    Rachana   23         5843     be        30.0   Delhi  2500   \n",
       "\n",
       "      Roll_number  \n",
       "row1          123  \n",
       "row2          256  \n",
       "row3          489  "
      ]
     },
     "execution_count": 58,
     "metadata": {},
     "output_type": "execute_result"
    }
   ],
   "source": [
    "##impute missing values with mean\n",
    "data.fillna(value=data.Percentage.mean())"
   ]
  },
  {
   "cell_type": "markdown",
   "id": "1539e3a4",
   "metadata": {},
   "source": [
    "## When do we impute nan with median ??\n",
    "-- Note that imputing missing data with median value can only be done with numerical data."
   ]
  },
  {
   "cell_type": "code",
   "execution_count": 59,
   "id": "2399ecf4",
   "metadata": {},
   "outputs": [
    {
     "data": {
      "text/html": [
       "<div>\n",
       "<style scoped>\n",
       "    .dataframe tbody tr th:only-of-type {\n",
       "        vertical-align: middle;\n",
       "    }\n",
       "\n",
       "    .dataframe tbody tr th {\n",
       "        vertical-align: top;\n",
       "    }\n",
       "\n",
       "    .dataframe thead th {\n",
       "        text-align: right;\n",
       "    }\n",
       "</style>\n",
       "<table border=\"1\" class=\"dataframe\">\n",
       "  <thead>\n",
       "    <tr style=\"text-align: right;\">\n",
       "      <th></th>\n",
       "      <th>First Name</th>\n",
       "      <th>Age</th>\n",
       "      <th>phone number</th>\n",
       "      <th>Degree</th>\n",
       "      <th>Percentage</th>\n",
       "      <th>Address</th>\n",
       "      <th>Fees</th>\n",
       "      <th>Roll_number</th>\n",
       "    </tr>\n",
       "  </thead>\n",
       "  <tbody>\n",
       "    <tr>\n",
       "      <th>row1</th>\n",
       "      <td>Rahul</td>\n",
       "      <td>20</td>\n",
       "      <td>93983</td>\n",
       "      <td>be</td>\n",
       "      <td>60.0</td>\n",
       "      <td>Hyd</td>\n",
       "      <td>2000</td>\n",
       "      <td>123</td>\n",
       "    </tr>\n",
       "    <tr>\n",
       "      <th>row2</th>\n",
       "      <td>Sohan</td>\n",
       "      <td>21</td>\n",
       "      <td>19511</td>\n",
       "      <td>bca</td>\n",
       "      <td>45.0</td>\n",
       "      <td>Bang</td>\n",
       "      <td>3000</td>\n",
       "      <td>256</td>\n",
       "    </tr>\n",
       "    <tr>\n",
       "      <th>row3</th>\n",
       "      <td>Rachana</td>\n",
       "      <td>23</td>\n",
       "      <td>5843</td>\n",
       "      <td>be</td>\n",
       "      <td>30.0</td>\n",
       "      <td>Delhi</td>\n",
       "      <td>2500</td>\n",
       "      <td>489</td>\n",
       "    </tr>\n",
       "  </tbody>\n",
       "</table>\n",
       "</div>"
      ],
      "text/plain": [
       "     First Name  Age phone number Degree  Percentage Address  Fees  \\\n",
       "row1      Rahul   20        93983     be        60.0     Hyd  2000   \n",
       "row2      Sohan   21        19511    bca        45.0    Bang  3000   \n",
       "row3    Rachana   23         5843     be        30.0   Delhi  2500   \n",
       "\n",
       "      Roll_number  \n",
       "row1          123  \n",
       "row2          256  \n",
       "row3          489  "
      ]
     },
     "execution_count": 59,
     "metadata": {},
     "output_type": "execute_result"
    }
   ],
   "source": [
    "data.fillna(value=data.Percentage.median())"
   ]
  },
  {
   "cell_type": "markdown",
   "id": "3163490e",
   "metadata": {},
   "source": [
    "## When do we impute nan with mode ??\n",
    "-- Note that imputing missing data with median value can only be done with categorical data."
   ]
  },
  {
   "cell_type": "code",
   "execution_count": 61,
   "id": "27755ca3",
   "metadata": {},
   "outputs": [
    {
     "data": {
      "text/html": [
       "<div>\n",
       "<style scoped>\n",
       "    .dataframe tbody tr th:only-of-type {\n",
       "        vertical-align: middle;\n",
       "    }\n",
       "\n",
       "    .dataframe tbody tr th {\n",
       "        vertical-align: top;\n",
       "    }\n",
       "\n",
       "    .dataframe thead th {\n",
       "        text-align: right;\n",
       "    }\n",
       "</style>\n",
       "<table border=\"1\" class=\"dataframe\">\n",
       "  <thead>\n",
       "    <tr style=\"text-align: right;\">\n",
       "      <th></th>\n",
       "      <th>First Name</th>\n",
       "      <th>Age</th>\n",
       "      <th>phone number</th>\n",
       "      <th>Degree</th>\n",
       "      <th>Percentage</th>\n",
       "      <th>Address</th>\n",
       "      <th>Fees</th>\n",
       "      <th>Roll_number</th>\n",
       "    </tr>\n",
       "  </thead>\n",
       "  <tbody>\n",
       "    <tr>\n",
       "      <th>row1</th>\n",
       "      <td>Rahul</td>\n",
       "      <td>20</td>\n",
       "      <td>93983</td>\n",
       "      <td>be</td>\n",
       "      <td>60.0</td>\n",
       "      <td>Hyd</td>\n",
       "      <td>2000</td>\n",
       "      <td>123</td>\n",
       "    </tr>\n",
       "    <tr>\n",
       "      <th>row2</th>\n",
       "      <td>Sohan</td>\n",
       "      <td>21</td>\n",
       "      <td>19511</td>\n",
       "      <td>bca</td>\n",
       "      <td>NaN</td>\n",
       "      <td>Bang</td>\n",
       "      <td>3000</td>\n",
       "      <td>256</td>\n",
       "    </tr>\n",
       "    <tr>\n",
       "      <th>row3</th>\n",
       "      <td>Rachana</td>\n",
       "      <td>23</td>\n",
       "      <td>5843</td>\n",
       "      <td>be</td>\n",
       "      <td>30.0</td>\n",
       "      <td>Delhi</td>\n",
       "      <td>2500</td>\n",
       "      <td>489</td>\n",
       "    </tr>\n",
       "  </tbody>\n",
       "</table>\n",
       "</div>"
      ],
      "text/plain": [
       "     First Name  Age phone number Degree  Percentage Address  Fees  \\\n",
       "row1      Rahul   20        93983     be        60.0     Hyd  2000   \n",
       "row2      Sohan   21        19511    bca         NaN    Bang  3000   \n",
       "row3    Rachana   23         5843     be        30.0   Delhi  2500   \n",
       "\n",
       "      Roll_number  \n",
       "row1          123  \n",
       "row2          256  \n",
       "row3          489  "
      ]
     },
     "execution_count": 61,
     "metadata": {},
     "output_type": "execute_result"
    }
   ],
   "source": [
    "data.fillna(value=data.Percentage.mode())\n",
    "# percentage is not a categorical data so it remains nan only"
   ]
  },
  {
   "cell_type": "code",
   "execution_count": 62,
   "id": "5c0c47e1",
   "metadata": {},
   "outputs": [
    {
     "data": {
      "text/html": [
       "<div>\n",
       "<style scoped>\n",
       "    .dataframe tbody tr th:only-of-type {\n",
       "        vertical-align: middle;\n",
       "    }\n",
       "\n",
       "    .dataframe tbody tr th {\n",
       "        vertical-align: top;\n",
       "    }\n",
       "\n",
       "    .dataframe thead th {\n",
       "        text-align: right;\n",
       "    }\n",
       "</style>\n",
       "<table border=\"1\" class=\"dataframe\">\n",
       "  <thead>\n",
       "    <tr style=\"text-align: right;\">\n",
       "      <th></th>\n",
       "      <th>First Name</th>\n",
       "      <th>Age</th>\n",
       "      <th>phone number</th>\n",
       "      <th>Degree</th>\n",
       "      <th>Percentage</th>\n",
       "      <th>Address</th>\n",
       "      <th>Fees</th>\n",
       "      <th>Roll_number</th>\n",
       "    </tr>\n",
       "  </thead>\n",
       "  <tbody>\n",
       "    <tr>\n",
       "      <th>row1</th>\n",
       "      <td>Rahul</td>\n",
       "      <td>20</td>\n",
       "      <td>93983</td>\n",
       "      <td>be</td>\n",
       "      <td>60.0</td>\n",
       "      <td>Hyd</td>\n",
       "      <td>2000</td>\n",
       "      <td>123</td>\n",
       "    </tr>\n",
       "    <tr>\n",
       "      <th>row2</th>\n",
       "      <td>Sohan</td>\n",
       "      <td>21</td>\n",
       "      <td>19511</td>\n",
       "      <td>bca</td>\n",
       "      <td>30.0</td>\n",
       "      <td>Bang</td>\n",
       "      <td>3000</td>\n",
       "      <td>256</td>\n",
       "    </tr>\n",
       "    <tr>\n",
       "      <th>row3</th>\n",
       "      <td>Rachana</td>\n",
       "      <td>23</td>\n",
       "      <td>5843</td>\n",
       "      <td>be</td>\n",
       "      <td>30.0</td>\n",
       "      <td>Delhi</td>\n",
       "      <td>2500</td>\n",
       "      <td>489</td>\n",
       "    </tr>\n",
       "  </tbody>\n",
       "</table>\n",
       "</div>"
      ],
      "text/plain": [
       "     First Name  Age phone number Degree  Percentage Address  Fees  \\\n",
       "row1      Rahul   20        93983     be        60.0     Hyd  2000   \n",
       "row2      Sohan   21        19511    bca        30.0    Bang  3000   \n",
       "row3    Rachana   23         5843     be        30.0   Delhi  2500   \n",
       "\n",
       "      Roll_number  \n",
       "row1          123  \n",
       "row2          256  \n",
       "row3          489  "
      ]
     },
     "execution_count": 62,
     "metadata": {},
     "output_type": "execute_result"
    }
   ],
   "source": [
    "data.backfill()        ##Backward fill"
   ]
  },
  {
   "cell_type": "code",
   "execution_count": 64,
   "id": "c14b26fb",
   "metadata": {},
   "outputs": [
    {
     "data": {
      "text/html": [
       "<div>\n",
       "<style scoped>\n",
       "    .dataframe tbody tr th:only-of-type {\n",
       "        vertical-align: middle;\n",
       "    }\n",
       "\n",
       "    .dataframe tbody tr th {\n",
       "        vertical-align: top;\n",
       "    }\n",
       "\n",
       "    .dataframe thead th {\n",
       "        text-align: right;\n",
       "    }\n",
       "</style>\n",
       "<table border=\"1\" class=\"dataframe\">\n",
       "  <thead>\n",
       "    <tr style=\"text-align: right;\">\n",
       "      <th></th>\n",
       "      <th>First Name</th>\n",
       "      <th>Age</th>\n",
       "      <th>phone number</th>\n",
       "      <th>Degree</th>\n",
       "      <th>Percentage</th>\n",
       "      <th>Address</th>\n",
       "      <th>Fees</th>\n",
       "      <th>Roll_number</th>\n",
       "    </tr>\n",
       "  </thead>\n",
       "  <tbody>\n",
       "    <tr>\n",
       "      <th>row1</th>\n",
       "      <td>Rahul</td>\n",
       "      <td>20</td>\n",
       "      <td>93983</td>\n",
       "      <td>be</td>\n",
       "      <td>60.0</td>\n",
       "      <td>Hyd</td>\n",
       "      <td>2000</td>\n",
       "      <td>123</td>\n",
       "    </tr>\n",
       "    <tr>\n",
       "      <th>row2</th>\n",
       "      <td>Sohan</td>\n",
       "      <td>21</td>\n",
       "      <td>19511</td>\n",
       "      <td>bca</td>\n",
       "      <td>60.0</td>\n",
       "      <td>Bang</td>\n",
       "      <td>3000</td>\n",
       "      <td>256</td>\n",
       "    </tr>\n",
       "    <tr>\n",
       "      <th>row3</th>\n",
       "      <td>Rachana</td>\n",
       "      <td>23</td>\n",
       "      <td>5843</td>\n",
       "      <td>be</td>\n",
       "      <td>30.0</td>\n",
       "      <td>Delhi</td>\n",
       "      <td>2500</td>\n",
       "      <td>489</td>\n",
       "    </tr>\n",
       "  </tbody>\n",
       "</table>\n",
       "</div>"
      ],
      "text/plain": [
       "     First Name  Age phone number Degree  Percentage Address  Fees  \\\n",
       "row1      Rahul   20        93983     be        60.0     Hyd  2000   \n",
       "row2      Sohan   21        19511    bca        60.0    Bang  3000   \n",
       "row3    Rachana   23         5843     be        30.0   Delhi  2500   \n",
       "\n",
       "      Roll_number  \n",
       "row1          123  \n",
       "row2          256  \n",
       "row3          489  "
      ]
     },
     "execution_count": 64,
     "metadata": {},
     "output_type": "execute_result"
    }
   ],
   "source": [
    "data.ffill()          ##Forward fill"
   ]
  },
  {
   "cell_type": "code",
   "execution_count": 65,
   "id": "22b0ddc9",
   "metadata": {},
   "outputs": [
    {
     "data": {
      "text/html": [
       "<div>\n",
       "<style scoped>\n",
       "    .dataframe tbody tr th:only-of-type {\n",
       "        vertical-align: middle;\n",
       "    }\n",
       "\n",
       "    .dataframe tbody tr th {\n",
       "        vertical-align: top;\n",
       "    }\n",
       "\n",
       "    .dataframe thead th {\n",
       "        text-align: right;\n",
       "    }\n",
       "</style>\n",
       "<table border=\"1\" class=\"dataframe\">\n",
       "  <thead>\n",
       "    <tr style=\"text-align: right;\">\n",
       "      <th></th>\n",
       "      <th>First Name</th>\n",
       "      <th>Age</th>\n",
       "      <th>phone number</th>\n",
       "      <th>Degree</th>\n",
       "      <th>Percentage</th>\n",
       "      <th>Address</th>\n",
       "      <th>Fees</th>\n",
       "      <th>Roll_number</th>\n",
       "    </tr>\n",
       "  </thead>\n",
       "  <tbody>\n",
       "    <tr>\n",
       "      <th>row1</th>\n",
       "      <td>Rahul</td>\n",
       "      <td>20</td>\n",
       "      <td>93983</td>\n",
       "      <td>be</td>\n",
       "      <td>60.0</td>\n",
       "      <td>Hyd</td>\n",
       "      <td>2000</td>\n",
       "      <td>123</td>\n",
       "    </tr>\n",
       "    <tr>\n",
       "      <th>row2</th>\n",
       "      <td>Sohan</td>\n",
       "      <td>21</td>\n",
       "      <td>19511</td>\n",
       "      <td>bca</td>\n",
       "      <td>NaN</td>\n",
       "      <td>Bang</td>\n",
       "      <td>3000</td>\n",
       "      <td>256</td>\n",
       "    </tr>\n",
       "    <tr>\n",
       "      <th>row3</th>\n",
       "      <td>Rachana</td>\n",
       "      <td>23</td>\n",
       "      <td>5843</td>\n",
       "      <td>be</td>\n",
       "      <td>30.0</td>\n",
       "      <td>Delhi</td>\n",
       "      <td>2500</td>\n",
       "      <td>489</td>\n",
       "    </tr>\n",
       "  </tbody>\n",
       "</table>\n",
       "</div>"
      ],
      "text/plain": [
       "     First Name  Age phone number Degree  Percentage Address  Fees  \\\n",
       "row1      Rahul   20        93983     be        60.0     Hyd  2000   \n",
       "row2      Sohan   21        19511    bca         NaN    Bang  3000   \n",
       "row3    Rachana   23         5843     be        30.0   Delhi  2500   \n",
       "\n",
       "      Roll_number  \n",
       "row1          123  \n",
       "row2          256  \n",
       "row3          489  "
      ]
     },
     "execution_count": 65,
     "metadata": {},
     "output_type": "execute_result"
    }
   ],
   "source": [
    "data"
   ]
  },
  {
   "cell_type": "code",
   "execution_count": 66,
   "id": "0be25af2",
   "metadata": {},
   "outputs": [
    {
     "data": {
      "text/html": [
       "<div>\n",
       "<style scoped>\n",
       "    .dataframe tbody tr th:only-of-type {\n",
       "        vertical-align: middle;\n",
       "    }\n",
       "\n",
       "    .dataframe tbody tr th {\n",
       "        vertical-align: top;\n",
       "    }\n",
       "\n",
       "    .dataframe thead th {\n",
       "        text-align: right;\n",
       "    }\n",
       "</style>\n",
       "<table border=\"1\" class=\"dataframe\">\n",
       "  <thead>\n",
       "    <tr style=\"text-align: right;\">\n",
       "      <th></th>\n",
       "      <th>First Name</th>\n",
       "      <th>Age</th>\n",
       "      <th>phone number</th>\n",
       "      <th>Degree</th>\n",
       "      <th>Percentage</th>\n",
       "      <th>Address</th>\n",
       "      <th>Fees</th>\n",
       "      <th>Roll_number</th>\n",
       "      <th>hours_study</th>\n",
       "    </tr>\n",
       "  </thead>\n",
       "  <tbody>\n",
       "    <tr>\n",
       "      <th>0</th>\n",
       "      <td>Rahul</td>\n",
       "      <td>20</td>\n",
       "      <td>93983</td>\n",
       "      <td>be</td>\n",
       "      <td>60.0</td>\n",
       "      <td>Hyd</td>\n",
       "      <td>2000</td>\n",
       "      <td>123</td>\n",
       "      <td>NaN</td>\n",
       "    </tr>\n",
       "    <tr>\n",
       "      <th>1</th>\n",
       "      <td>Sohan</td>\n",
       "      <td>21</td>\n",
       "      <td>19511</td>\n",
       "      <td>bca</td>\n",
       "      <td>NaN</td>\n",
       "      <td>Bang</td>\n",
       "      <td>3000</td>\n",
       "      <td>256</td>\n",
       "      <td>NaN</td>\n",
       "    </tr>\n",
       "    <tr>\n",
       "      <th>2</th>\n",
       "      <td>Rachana</td>\n",
       "      <td>23</td>\n",
       "      <td>5843</td>\n",
       "      <td>be</td>\n",
       "      <td>30.0</td>\n",
       "      <td>Delhi</td>\n",
       "      <td>2500</td>\n",
       "      <td>489</td>\n",
       "      <td>NaN</td>\n",
       "    </tr>\n",
       "    <tr>\n",
       "      <th>3</th>\n",
       "      <td>Alaric</td>\n",
       "      <td>21</td>\n",
       "      <td>128856</td>\n",
       "      <td>NaN</td>\n",
       "      <td>84.0</td>\n",
       "      <td>Gurgon</td>\n",
       "      <td>9052</td>\n",
       "      <td>51164</td>\n",
       "      <td>4.0</td>\n",
       "    </tr>\n",
       "  </tbody>\n",
       "</table>\n",
       "</div>"
      ],
      "text/plain": [
       "  First Name  Age phone number Degree  Percentage Address  Fees  Roll_number  \\\n",
       "0      Rahul   20        93983     be        60.0     Hyd  2000          123   \n",
       "1      Sohan   21        19511    bca         NaN    Bang  3000          256   \n",
       "2    Rachana   23         5843     be        30.0   Delhi  2500          489   \n",
       "3     Alaric   21       128856    NaN        84.0  Gurgon  9052        51164   \n",
       "\n",
       "   hours_study  \n",
       "0          NaN  \n",
       "1          NaN  \n",
       "2          NaN  \n",
       "3          4.0  "
      ]
     },
     "execution_count": 66,
     "metadata": {},
     "output_type": "execute_result"
    }
   ],
   "source": [
    "row4={'First Name': 'Alaric','Age':21,'phone number':128856, 'Percentage':84,'Address':'Gurgon','Fees':9052,'Roll_number':51164,'hours_study':4}\n",
    "data.append(row4,ignore_index=True)"
   ]
  },
  {
   "cell_type": "code",
   "execution_count": 67,
   "id": "280fd14f",
   "metadata": {},
   "outputs": [
    {
     "data": {
      "text/html": [
       "<div>\n",
       "<style scoped>\n",
       "    .dataframe tbody tr th:only-of-type {\n",
       "        vertical-align: middle;\n",
       "    }\n",
       "\n",
       "    .dataframe tbody tr th {\n",
       "        vertical-align: top;\n",
       "    }\n",
       "\n",
       "    .dataframe thead th {\n",
       "        text-align: right;\n",
       "    }\n",
       "</style>\n",
       "<table border=\"1\" class=\"dataframe\">\n",
       "  <thead>\n",
       "    <tr style=\"text-align: right;\">\n",
       "      <th></th>\n",
       "      <th>First Name</th>\n",
       "      <th>Age</th>\n",
       "      <th>phone number</th>\n",
       "      <th>Degree</th>\n",
       "      <th>Percentage</th>\n",
       "      <th>Address</th>\n",
       "      <th>Fees</th>\n",
       "      <th>Roll_number</th>\n",
       "    </tr>\n",
       "  </thead>\n",
       "  <tbody>\n",
       "    <tr>\n",
       "      <th>row1</th>\n",
       "      <td>Rahul</td>\n",
       "      <td>20</td>\n",
       "      <td>93983</td>\n",
       "      <td>be</td>\n",
       "      <td>60.0</td>\n",
       "      <td>Hyd</td>\n",
       "      <td>2000</td>\n",
       "      <td>123</td>\n",
       "    </tr>\n",
       "    <tr>\n",
       "      <th>row2</th>\n",
       "      <td>Sohan</td>\n",
       "      <td>21</td>\n",
       "      <td>19511</td>\n",
       "      <td>bca</td>\n",
       "      <td>NaN</td>\n",
       "      <td>Bang</td>\n",
       "      <td>3000</td>\n",
       "      <td>256</td>\n",
       "    </tr>\n",
       "    <tr>\n",
       "      <th>row3</th>\n",
       "      <td>Rachana</td>\n",
       "      <td>23</td>\n",
       "      <td>5843</td>\n",
       "      <td>be</td>\n",
       "      <td>30.0</td>\n",
       "      <td>Delhi</td>\n",
       "      <td>2500</td>\n",
       "      <td>489</td>\n",
       "    </tr>\n",
       "  </tbody>\n",
       "</table>\n",
       "</div>"
      ],
      "text/plain": [
       "     First Name  Age phone number Degree  Percentage Address  Fees  \\\n",
       "row1      Rahul   20        93983     be        60.0     Hyd  2000   \n",
       "row2      Sohan   21        19511    bca         NaN    Bang  3000   \n",
       "row3    Rachana   23         5843     be        30.0   Delhi  2500   \n",
       "\n",
       "      Roll_number  \n",
       "row1          123  \n",
       "row2          256  \n",
       "row3          489  "
      ]
     },
     "execution_count": 67,
     "metadata": {},
     "output_type": "execute_result"
    }
   ],
   "source": [
    "#data.fillna(value=data.Degree.mode())\n",
    "data['Degree']=data['Degree'].fillna(data['Degree'].mode()[0])\n",
    "data"
   ]
  },
  {
   "cell_type": "markdown",
   "id": "ae426b1b",
   "metadata": {},
   "source": [
    "## head()\n",
    "- The head () function is used to get the first n rows.\n",
    "- It is useful for quickly testing if your object has the right type of data in it."
   ]
  },
  {
   "cell_type": "code",
   "execution_count": 68,
   "id": "1816bb2d",
   "metadata": {},
   "outputs": [
    {
     "data": {
      "text/html": [
       "<div>\n",
       "<style scoped>\n",
       "    .dataframe tbody tr th:only-of-type {\n",
       "        vertical-align: middle;\n",
       "    }\n",
       "\n",
       "    .dataframe tbody tr th {\n",
       "        vertical-align: top;\n",
       "    }\n",
       "\n",
       "    .dataframe thead th {\n",
       "        text-align: right;\n",
       "    }\n",
       "</style>\n",
       "<table border=\"1\" class=\"dataframe\">\n",
       "  <thead>\n",
       "    <tr style=\"text-align: right;\">\n",
       "      <th></th>\n",
       "      <th>First Name</th>\n",
       "      <th>Age</th>\n",
       "      <th>phone number</th>\n",
       "      <th>Degree</th>\n",
       "      <th>Percentage</th>\n",
       "      <th>Address</th>\n",
       "      <th>Fees</th>\n",
       "      <th>Roll_number</th>\n",
       "    </tr>\n",
       "  </thead>\n",
       "  <tbody>\n",
       "    <tr>\n",
       "      <th>row1</th>\n",
       "      <td>Rahul</td>\n",
       "      <td>20</td>\n",
       "      <td>93983</td>\n",
       "      <td>be</td>\n",
       "      <td>60.0</td>\n",
       "      <td>Hyd</td>\n",
       "      <td>2000</td>\n",
       "      <td>123</td>\n",
       "    </tr>\n",
       "    <tr>\n",
       "      <th>row2</th>\n",
       "      <td>Sohan</td>\n",
       "      <td>21</td>\n",
       "      <td>19511</td>\n",
       "      <td>bca</td>\n",
       "      <td>NaN</td>\n",
       "      <td>Bang</td>\n",
       "      <td>3000</td>\n",
       "      <td>256</td>\n",
       "    </tr>\n",
       "  </tbody>\n",
       "</table>\n",
       "</div>"
      ],
      "text/plain": [
       "     First Name  Age phone number Degree  Percentage Address  Fees  \\\n",
       "row1      Rahul   20        93983     be        60.0     Hyd  2000   \n",
       "row2      Sohan   21        19511    bca         NaN    Bang  3000   \n",
       "\n",
       "      Roll_number  \n",
       "row1          123  \n",
       "row2          256  "
      ]
     },
     "execution_count": 68,
     "metadata": {},
     "output_type": "execute_result"
    }
   ],
   "source": [
    "data.head(2)"
   ]
  },
  {
   "cell_type": "markdown",
   "id": "ca7a6f25",
   "metadata": {},
   "source": [
    "## tail()\n",
    "- The tail () function is used to return the last n rows."
   ]
  },
  {
   "cell_type": "code",
   "execution_count": 69,
   "id": "8b7acc03",
   "metadata": {},
   "outputs": [
    {
     "data": {
      "text/html": [
       "<div>\n",
       "<style scoped>\n",
       "    .dataframe tbody tr th:only-of-type {\n",
       "        vertical-align: middle;\n",
       "    }\n",
       "\n",
       "    .dataframe tbody tr th {\n",
       "        vertical-align: top;\n",
       "    }\n",
       "\n",
       "    .dataframe thead th {\n",
       "        text-align: right;\n",
       "    }\n",
       "</style>\n",
       "<table border=\"1\" class=\"dataframe\">\n",
       "  <thead>\n",
       "    <tr style=\"text-align: right;\">\n",
       "      <th></th>\n",
       "      <th>First Name</th>\n",
       "      <th>Age</th>\n",
       "      <th>phone number</th>\n",
       "      <th>Degree</th>\n",
       "      <th>Percentage</th>\n",
       "      <th>Address</th>\n",
       "      <th>Fees</th>\n",
       "      <th>Roll_number</th>\n",
       "    </tr>\n",
       "  </thead>\n",
       "  <tbody>\n",
       "    <tr>\n",
       "      <th>row3</th>\n",
       "      <td>Rachana</td>\n",
       "      <td>23</td>\n",
       "      <td>5843</td>\n",
       "      <td>be</td>\n",
       "      <td>30.0</td>\n",
       "      <td>Delhi</td>\n",
       "      <td>2500</td>\n",
       "      <td>489</td>\n",
       "    </tr>\n",
       "  </tbody>\n",
       "</table>\n",
       "</div>"
      ],
      "text/plain": [
       "     First Name  Age phone number Degree  Percentage Address  Fees  \\\n",
       "row3    Rachana   23         5843     be        30.0   Delhi  2500   \n",
       "\n",
       "      Roll_number  \n",
       "row3          489  "
      ]
     },
     "execution_count": 69,
     "metadata": {},
     "output_type": "execute_result"
    }
   ],
   "source": [
    "data.tail(1)"
   ]
  },
  {
   "cell_type": "markdown",
   "id": "7c4c8cc3",
   "metadata": {},
   "source": [
    "## info()\n",
    "- dataframe.info () function is used to get a concise summary of the dataframe."
   ]
  },
  {
   "cell_type": "code",
   "execution_count": 70,
   "id": "bfd6c057",
   "metadata": {},
   "outputs": [
    {
     "name": "stdout",
     "output_type": "stream",
     "text": [
      "<class 'pandas.core.frame.DataFrame'>\n",
      "Index: 3 entries, row1 to row3\n",
      "Data columns (total 8 columns):\n",
      " #   Column        Non-Null Count  Dtype  \n",
      "---  ------        --------------  -----  \n",
      " 0   First Name    3 non-null      object \n",
      " 1   Age           3 non-null      int64  \n",
      " 2   phone number  3 non-null      object \n",
      " 3   Degree        3 non-null      object \n",
      " 4   Percentage    2 non-null      float64\n",
      " 5   Address       3 non-null      object \n",
      " 6   Fees          3 non-null      int64  \n",
      " 7   Roll_number   3 non-null      int64  \n",
      "dtypes: float64(1), int64(3), object(4)\n",
      "memory usage: 324.0+ bytes\n"
     ]
    }
   ],
   "source": [
    "data.info()"
   ]
  },
  {
   "cell_type": "markdown",
   "id": "928c7acb",
   "metadata": {},
   "source": [
    "## describe()\n",
    "- Pandas describe() is used to view some basic statistical details like percentile, mean, std etc. of a data frame or a series of numeric values."
   ]
  },
  {
   "cell_type": "code",
   "execution_count": 71,
   "id": "f0cb7cc4",
   "metadata": {},
   "outputs": [
    {
     "data": {
      "text/html": [
       "<div>\n",
       "<style scoped>\n",
       "    .dataframe tbody tr th:only-of-type {\n",
       "        vertical-align: middle;\n",
       "    }\n",
       "\n",
       "    .dataframe tbody tr th {\n",
       "        vertical-align: top;\n",
       "    }\n",
       "\n",
       "    .dataframe thead th {\n",
       "        text-align: right;\n",
       "    }\n",
       "</style>\n",
       "<table border=\"1\" class=\"dataframe\">\n",
       "  <thead>\n",
       "    <tr style=\"text-align: right;\">\n",
       "      <th></th>\n",
       "      <th>Age</th>\n",
       "      <th>Percentage</th>\n",
       "      <th>Fees</th>\n",
       "      <th>Roll_number</th>\n",
       "    </tr>\n",
       "  </thead>\n",
       "  <tbody>\n",
       "    <tr>\n",
       "      <th>count</th>\n",
       "      <td>3.000000</td>\n",
       "      <td>2.000000</td>\n",
       "      <td>3.0</td>\n",
       "      <td>3.000000</td>\n",
       "    </tr>\n",
       "    <tr>\n",
       "      <th>mean</th>\n",
       "      <td>21.333333</td>\n",
       "      <td>45.000000</td>\n",
       "      <td>2500.0</td>\n",
       "      <td>289.333333</td>\n",
       "    </tr>\n",
       "    <tr>\n",
       "      <th>std</th>\n",
       "      <td>1.527525</td>\n",
       "      <td>21.213203</td>\n",
       "      <td>500.0</td>\n",
       "      <td>185.262876</td>\n",
       "    </tr>\n",
       "    <tr>\n",
       "      <th>min</th>\n",
       "      <td>20.000000</td>\n",
       "      <td>30.000000</td>\n",
       "      <td>2000.0</td>\n",
       "      <td>123.000000</td>\n",
       "    </tr>\n",
       "    <tr>\n",
       "      <th>25%</th>\n",
       "      <td>20.500000</td>\n",
       "      <td>37.500000</td>\n",
       "      <td>2250.0</td>\n",
       "      <td>189.500000</td>\n",
       "    </tr>\n",
       "    <tr>\n",
       "      <th>50%</th>\n",
       "      <td>21.000000</td>\n",
       "      <td>45.000000</td>\n",
       "      <td>2500.0</td>\n",
       "      <td>256.000000</td>\n",
       "    </tr>\n",
       "    <tr>\n",
       "      <th>75%</th>\n",
       "      <td>22.000000</td>\n",
       "      <td>52.500000</td>\n",
       "      <td>2750.0</td>\n",
       "      <td>372.500000</td>\n",
       "    </tr>\n",
       "    <tr>\n",
       "      <th>max</th>\n",
       "      <td>23.000000</td>\n",
       "      <td>60.000000</td>\n",
       "      <td>3000.0</td>\n",
       "      <td>489.000000</td>\n",
       "    </tr>\n",
       "  </tbody>\n",
       "</table>\n",
       "</div>"
      ],
      "text/plain": [
       "             Age  Percentage    Fees  Roll_number\n",
       "count   3.000000    2.000000     3.0     3.000000\n",
       "mean   21.333333   45.000000  2500.0   289.333333\n",
       "std     1.527525   21.213203   500.0   185.262876\n",
       "min    20.000000   30.000000  2000.0   123.000000\n",
       "25%    20.500000   37.500000  2250.0   189.500000\n",
       "50%    21.000000   45.000000  2500.0   256.000000\n",
       "75%    22.000000   52.500000  2750.0   372.500000\n",
       "max    23.000000   60.000000  3000.0   489.000000"
      ]
     },
     "execution_count": 71,
     "metadata": {},
     "output_type": "execute_result"
    }
   ],
   "source": [
    "data.describe()"
   ]
  },
  {
   "cell_type": "code",
   "execution_count": 72,
   "id": "217d8b1e",
   "metadata": {},
   "outputs": [
    {
     "data": {
      "text/html": [
       "<div>\n",
       "<style scoped>\n",
       "    .dataframe tbody tr th:only-of-type {\n",
       "        vertical-align: middle;\n",
       "    }\n",
       "\n",
       "    .dataframe tbody tr th {\n",
       "        vertical-align: top;\n",
       "    }\n",
       "\n",
       "    .dataframe thead th {\n",
       "        text-align: right;\n",
       "    }\n",
       "</style>\n",
       "<table border=\"1\" class=\"dataframe\">\n",
       "  <thead>\n",
       "    <tr style=\"text-align: right;\">\n",
       "      <th></th>\n",
       "      <th>First Name</th>\n",
       "      <th>Age</th>\n",
       "      <th>phone number</th>\n",
       "      <th>Degree</th>\n",
       "      <th>Percentage</th>\n",
       "      <th>Address</th>\n",
       "      <th>Fees</th>\n",
       "      <th>Roll_number</th>\n",
       "    </tr>\n",
       "  </thead>\n",
       "  <tbody>\n",
       "    <tr>\n",
       "      <th>count</th>\n",
       "      <td>3</td>\n",
       "      <td>3.000000</td>\n",
       "      <td>3</td>\n",
       "      <td>3</td>\n",
       "      <td>2.000000</td>\n",
       "      <td>3</td>\n",
       "      <td>3.0</td>\n",
       "      <td>3.000000</td>\n",
       "    </tr>\n",
       "    <tr>\n",
       "      <th>unique</th>\n",
       "      <td>3</td>\n",
       "      <td>NaN</td>\n",
       "      <td>3</td>\n",
       "      <td>2</td>\n",
       "      <td>NaN</td>\n",
       "      <td>3</td>\n",
       "      <td>NaN</td>\n",
       "      <td>NaN</td>\n",
       "    </tr>\n",
       "    <tr>\n",
       "      <th>top</th>\n",
       "      <td>Rahul</td>\n",
       "      <td>NaN</td>\n",
       "      <td>5843</td>\n",
       "      <td>be</td>\n",
       "      <td>NaN</td>\n",
       "      <td>Delhi</td>\n",
       "      <td>NaN</td>\n",
       "      <td>NaN</td>\n",
       "    </tr>\n",
       "    <tr>\n",
       "      <th>freq</th>\n",
       "      <td>1</td>\n",
       "      <td>NaN</td>\n",
       "      <td>1</td>\n",
       "      <td>2</td>\n",
       "      <td>NaN</td>\n",
       "      <td>1</td>\n",
       "      <td>NaN</td>\n",
       "      <td>NaN</td>\n",
       "    </tr>\n",
       "    <tr>\n",
       "      <th>mean</th>\n",
       "      <td>NaN</td>\n",
       "      <td>21.333333</td>\n",
       "      <td>NaN</td>\n",
       "      <td>NaN</td>\n",
       "      <td>45.000000</td>\n",
       "      <td>NaN</td>\n",
       "      <td>2500.0</td>\n",
       "      <td>289.333333</td>\n",
       "    </tr>\n",
       "    <tr>\n",
       "      <th>std</th>\n",
       "      <td>NaN</td>\n",
       "      <td>1.527525</td>\n",
       "      <td>NaN</td>\n",
       "      <td>NaN</td>\n",
       "      <td>21.213203</td>\n",
       "      <td>NaN</td>\n",
       "      <td>500.0</td>\n",
       "      <td>185.262876</td>\n",
       "    </tr>\n",
       "    <tr>\n",
       "      <th>min</th>\n",
       "      <td>NaN</td>\n",
       "      <td>20.000000</td>\n",
       "      <td>NaN</td>\n",
       "      <td>NaN</td>\n",
       "      <td>30.000000</td>\n",
       "      <td>NaN</td>\n",
       "      <td>2000.0</td>\n",
       "      <td>123.000000</td>\n",
       "    </tr>\n",
       "    <tr>\n",
       "      <th>25%</th>\n",
       "      <td>NaN</td>\n",
       "      <td>20.500000</td>\n",
       "      <td>NaN</td>\n",
       "      <td>NaN</td>\n",
       "      <td>37.500000</td>\n",
       "      <td>NaN</td>\n",
       "      <td>2250.0</td>\n",
       "      <td>189.500000</td>\n",
       "    </tr>\n",
       "    <tr>\n",
       "      <th>50%</th>\n",
       "      <td>NaN</td>\n",
       "      <td>21.000000</td>\n",
       "      <td>NaN</td>\n",
       "      <td>NaN</td>\n",
       "      <td>45.000000</td>\n",
       "      <td>NaN</td>\n",
       "      <td>2500.0</td>\n",
       "      <td>256.000000</td>\n",
       "    </tr>\n",
       "    <tr>\n",
       "      <th>75%</th>\n",
       "      <td>NaN</td>\n",
       "      <td>22.000000</td>\n",
       "      <td>NaN</td>\n",
       "      <td>NaN</td>\n",
       "      <td>52.500000</td>\n",
       "      <td>NaN</td>\n",
       "      <td>2750.0</td>\n",
       "      <td>372.500000</td>\n",
       "    </tr>\n",
       "    <tr>\n",
       "      <th>max</th>\n",
       "      <td>NaN</td>\n",
       "      <td>23.000000</td>\n",
       "      <td>NaN</td>\n",
       "      <td>NaN</td>\n",
       "      <td>60.000000</td>\n",
       "      <td>NaN</td>\n",
       "      <td>3000.0</td>\n",
       "      <td>489.000000</td>\n",
       "    </tr>\n",
       "  </tbody>\n",
       "</table>\n",
       "</div>"
      ],
      "text/plain": [
       "       First Name        Age phone number Degree  Percentage Address    Fees  \\\n",
       "count           3   3.000000            3      3    2.000000       3     3.0   \n",
       "unique          3        NaN            3      2         NaN       3     NaN   \n",
       "top         Rahul        NaN         5843     be         NaN   Delhi     NaN   \n",
       "freq            1        NaN            1      2         NaN       1     NaN   \n",
       "mean          NaN  21.333333          NaN    NaN   45.000000     NaN  2500.0   \n",
       "std           NaN   1.527525          NaN    NaN   21.213203     NaN   500.0   \n",
       "min           NaN  20.000000          NaN    NaN   30.000000     NaN  2000.0   \n",
       "25%           NaN  20.500000          NaN    NaN   37.500000     NaN  2250.0   \n",
       "50%           NaN  21.000000          NaN    NaN   45.000000     NaN  2500.0   \n",
       "75%           NaN  22.000000          NaN    NaN   52.500000     NaN  2750.0   \n",
       "max           NaN  23.000000          NaN    NaN   60.000000     NaN  3000.0   \n",
       "\n",
       "        Roll_number  \n",
       "count      3.000000  \n",
       "unique          NaN  \n",
       "top             NaN  \n",
       "freq            NaN  \n",
       "mean     289.333333  \n",
       "std      185.262876  \n",
       "min      123.000000  \n",
       "25%      189.500000  \n",
       "50%      256.000000  \n",
       "75%      372.500000  \n",
       "max      489.000000  "
      ]
     },
     "execution_count": 72,
     "metadata": {},
     "output_type": "execute_result"
    }
   ],
   "source": [
    "data.describe(include='all')"
   ]
  },
  {
   "cell_type": "code",
   "execution_count": 73,
   "id": "7de4aa34",
   "metadata": {},
   "outputs": [
    {
     "data": {
      "text/html": [
       "<div>\n",
       "<style scoped>\n",
       "    .dataframe tbody tr th:only-of-type {\n",
       "        vertical-align: middle;\n",
       "    }\n",
       "\n",
       "    .dataframe tbody tr th {\n",
       "        vertical-align: top;\n",
       "    }\n",
       "\n",
       "    .dataframe thead th {\n",
       "        text-align: right;\n",
       "    }\n",
       "</style>\n",
       "<table border=\"1\" class=\"dataframe\">\n",
       "  <thead>\n",
       "    <tr style=\"text-align: right;\">\n",
       "      <th></th>\n",
       "      <th>First Name</th>\n",
       "      <th>Age</th>\n",
       "      <th>phone number</th>\n",
       "      <th>Degree</th>\n",
       "      <th>Percentage</th>\n",
       "      <th>Address</th>\n",
       "      <th>Fees</th>\n",
       "      <th>Roll_number</th>\n",
       "    </tr>\n",
       "  </thead>\n",
       "  <tbody>\n",
       "    <tr>\n",
       "      <th>row1</th>\n",
       "      <td>False</td>\n",
       "      <td>False</td>\n",
       "      <td>False</td>\n",
       "      <td>False</td>\n",
       "      <td>False</td>\n",
       "      <td>False</td>\n",
       "      <td>False</td>\n",
       "      <td>False</td>\n",
       "    </tr>\n",
       "    <tr>\n",
       "      <th>row2</th>\n",
       "      <td>False</td>\n",
       "      <td>False</td>\n",
       "      <td>False</td>\n",
       "      <td>False</td>\n",
       "      <td>True</td>\n",
       "      <td>False</td>\n",
       "      <td>False</td>\n",
       "      <td>False</td>\n",
       "    </tr>\n",
       "    <tr>\n",
       "      <th>row3</th>\n",
       "      <td>False</td>\n",
       "      <td>False</td>\n",
       "      <td>False</td>\n",
       "      <td>False</td>\n",
       "      <td>False</td>\n",
       "      <td>False</td>\n",
       "      <td>False</td>\n",
       "      <td>False</td>\n",
       "    </tr>\n",
       "  </tbody>\n",
       "</table>\n",
       "</div>"
      ],
      "text/plain": [
       "      First Name    Age  phone number  Degree  Percentage  Address   Fees  \\\n",
       "row1       False  False         False   False       False    False  False   \n",
       "row2       False  False         False   False        True    False  False   \n",
       "row3       False  False         False   False       False    False  False   \n",
       "\n",
       "      Roll_number  \n",
       "row1        False  \n",
       "row2        False  \n",
       "row3        False  "
      ]
     },
     "execution_count": 73,
     "metadata": {},
     "output_type": "execute_result"
    }
   ],
   "source": [
    "data.isnull()\n",
    "## it will return true wherever there is a null value"
   ]
  },
  {
   "cell_type": "code",
   "execution_count": 74,
   "id": "95b4cbc3",
   "metadata": {},
   "outputs": [
    {
     "data": {
      "text/plain": [
       "<bound method NDFrame._add_numeric_operations.<locals>.sum of       First Name    Age  phone number  Degree  Percentage  Address   Fees  \\\n",
       "row1       False  False         False   False       False    False  False   \n",
       "row2       False  False         False   False        True    False  False   \n",
       "row3       False  False         False   False       False    False  False   \n",
       "\n",
       "      Roll_number  \n",
       "row1        False  \n",
       "row2        False  \n",
       "row3        False  >"
      ]
     },
     "execution_count": 74,
     "metadata": {},
     "output_type": "execute_result"
    }
   ],
   "source": [
    "data.isnull().sum"
   ]
  },
  {
   "cell_type": "code",
   "execution_count": 75,
   "id": "924b987b",
   "metadata": {},
   "outputs": [
    {
     "data": {
      "text/plain": [
       "First Name      0\n",
       "Age             0\n",
       "phone number    0\n",
       "Degree          0\n",
       "Percentage      1\n",
       "Address         0\n",
       "Fees            0\n",
       "Roll_number     0\n",
       "dtype: int64"
      ]
     },
     "execution_count": 75,
     "metadata": {},
     "output_type": "execute_result"
    }
   ],
   "source": [
    "data.isnull().sum()"
   ]
  },
  {
   "cell_type": "code",
   "execution_count": 76,
   "id": "cc3fe7f6",
   "metadata": {},
   "outputs": [
    {
     "data": {
      "text/html": [
       "<div>\n",
       "<style scoped>\n",
       "    .dataframe tbody tr th:only-of-type {\n",
       "        vertical-align: middle;\n",
       "    }\n",
       "\n",
       "    .dataframe tbody tr th {\n",
       "        vertical-align: top;\n",
       "    }\n",
       "\n",
       "    .dataframe thead th {\n",
       "        text-align: right;\n",
       "    }\n",
       "</style>\n",
       "<table border=\"1\" class=\"dataframe\">\n",
       "  <thead>\n",
       "    <tr style=\"text-align: right;\">\n",
       "      <th></th>\n",
       "      <th>First Name</th>\n",
       "      <th>Age</th>\n",
       "      <th>phone number</th>\n",
       "      <th>Degree</th>\n",
       "      <th>Percentage</th>\n",
       "      <th>Address</th>\n",
       "      <th>Fees</th>\n",
       "      <th>Roll_number</th>\n",
       "    </tr>\n",
       "  </thead>\n",
       "  <tbody>\n",
       "    <tr>\n",
       "      <th>row1</th>\n",
       "      <td>False</td>\n",
       "      <td>False</td>\n",
       "      <td>False</td>\n",
       "      <td>False</td>\n",
       "      <td>False</td>\n",
       "      <td>False</td>\n",
       "      <td>False</td>\n",
       "      <td>False</td>\n",
       "    </tr>\n",
       "    <tr>\n",
       "      <th>row2</th>\n",
       "      <td>False</td>\n",
       "      <td>False</td>\n",
       "      <td>False</td>\n",
       "      <td>False</td>\n",
       "      <td>True</td>\n",
       "      <td>False</td>\n",
       "      <td>False</td>\n",
       "      <td>False</td>\n",
       "    </tr>\n",
       "    <tr>\n",
       "      <th>row3</th>\n",
       "      <td>False</td>\n",
       "      <td>False</td>\n",
       "      <td>False</td>\n",
       "      <td>False</td>\n",
       "      <td>False</td>\n",
       "      <td>False</td>\n",
       "      <td>False</td>\n",
       "      <td>False</td>\n",
       "    </tr>\n",
       "  </tbody>\n",
       "</table>\n",
       "</div>"
      ],
      "text/plain": [
       "      First Name    Age  phone number  Degree  Percentage  Address   Fees  \\\n",
       "row1       False  False         False   False       False    False  False   \n",
       "row2       False  False         False   False        True    False  False   \n",
       "row3       False  False         False   False       False    False  False   \n",
       "\n",
       "      Roll_number  \n",
       "row1        False  \n",
       "row2        False  \n",
       "row3        False  "
      ]
     },
     "execution_count": 76,
     "metadata": {},
     "output_type": "execute_result"
    }
   ],
   "source": [
    "data.isna()"
   ]
  },
  {
   "cell_type": "code",
   "execution_count": 77,
   "id": "45c93eb7",
   "metadata": {},
   "outputs": [
    {
     "data": {
      "text/plain": [
       "First Name      0\n",
       "Age             0\n",
       "phone number    0\n",
       "Degree          0\n",
       "Percentage      1\n",
       "Address         0\n",
       "Fees            0\n",
       "Roll_number     0\n",
       "dtype: int64"
      ]
     },
     "execution_count": 77,
     "metadata": {},
     "output_type": "execute_result"
    }
   ],
   "source": [
    "data.isna().sum()"
   ]
  },
  {
   "cell_type": "code",
   "execution_count": 78,
   "id": "ed4f0b88",
   "metadata": {},
   "outputs": [
    {
     "data": {
      "text/html": [
       "<div>\n",
       "<style scoped>\n",
       "    .dataframe tbody tr th:only-of-type {\n",
       "        vertical-align: middle;\n",
       "    }\n",
       "\n",
       "    .dataframe tbody tr th {\n",
       "        vertical-align: top;\n",
       "    }\n",
       "\n",
       "    .dataframe thead th {\n",
       "        text-align: right;\n",
       "    }\n",
       "</style>\n",
       "<table border=\"1\" class=\"dataframe\">\n",
       "  <thead>\n",
       "    <tr style=\"text-align: right;\">\n",
       "      <th></th>\n",
       "      <th>First Name</th>\n",
       "      <th>Age</th>\n",
       "      <th>phone number</th>\n",
       "      <th>Degree</th>\n",
       "      <th>Percentage</th>\n",
       "      <th>Address</th>\n",
       "      <th>Fees</th>\n",
       "      <th>Roll_number</th>\n",
       "    </tr>\n",
       "  </thead>\n",
       "  <tbody>\n",
       "    <tr>\n",
       "      <th>row1</th>\n",
       "      <td>Rahul</td>\n",
       "      <td>20</td>\n",
       "      <td>93983</td>\n",
       "      <td>be</td>\n",
       "      <td>60.0</td>\n",
       "      <td>Hyd</td>\n",
       "      <td>2000</td>\n",
       "      <td>123</td>\n",
       "    </tr>\n",
       "    <tr>\n",
       "      <th>row2</th>\n",
       "      <td>Sohan</td>\n",
       "      <td>21</td>\n",
       "      <td>19511</td>\n",
       "      <td>bca</td>\n",
       "      <td>NaN</td>\n",
       "      <td>Bang</td>\n",
       "      <td>3000</td>\n",
       "      <td>256</td>\n",
       "    </tr>\n",
       "    <tr>\n",
       "      <th>row3</th>\n",
       "      <td>Rachana</td>\n",
       "      <td>23</td>\n",
       "      <td>5843</td>\n",
       "      <td>be</td>\n",
       "      <td>30.0</td>\n",
       "      <td>Delhi</td>\n",
       "      <td>2500</td>\n",
       "      <td>489</td>\n",
       "    </tr>\n",
       "  </tbody>\n",
       "</table>\n",
       "</div>"
      ],
      "text/plain": [
       "     First Name  Age phone number Degree  Percentage Address  Fees  \\\n",
       "row1      Rahul   20        93983     be        60.0     Hyd  2000   \n",
       "row2      Sohan   21        19511    bca         NaN    Bang  3000   \n",
       "row3    Rachana   23         5843     be        30.0   Delhi  2500   \n",
       "\n",
       "      Roll_number  \n",
       "row1          123  \n",
       "row2          256  \n",
       "row3          489  "
      ]
     },
     "execution_count": 78,
     "metadata": {},
     "output_type": "execute_result"
    }
   ],
   "source": [
    "data"
   ]
  },
  {
   "cell_type": "code",
   "execution_count": 80,
   "id": "0562c29b",
   "metadata": {},
   "outputs": [
    {
     "data": {
      "text/plain": [
       "row1     True\n",
       "row2    False\n",
       "row3    False\n",
       "Name: Percentage, dtype: bool"
      ]
     },
     "execution_count": 80,
     "metadata": {},
     "output_type": "execute_result"
    }
   ],
   "source": [
    "data['Percentage']>=60"
   ]
  },
  {
   "cell_type": "code",
   "execution_count": 81,
   "id": "93e0f07d",
   "metadata": {},
   "outputs": [
    {
     "data": {
      "text/html": [
       "<div>\n",
       "<style scoped>\n",
       "    .dataframe tbody tr th:only-of-type {\n",
       "        vertical-align: middle;\n",
       "    }\n",
       "\n",
       "    .dataframe tbody tr th {\n",
       "        vertical-align: top;\n",
       "    }\n",
       "\n",
       "    .dataframe thead th {\n",
       "        text-align: right;\n",
       "    }\n",
       "</style>\n",
       "<table border=\"1\" class=\"dataframe\">\n",
       "  <thead>\n",
       "    <tr style=\"text-align: right;\">\n",
       "      <th></th>\n",
       "      <th>First Name</th>\n",
       "      <th>Age</th>\n",
       "      <th>phone number</th>\n",
       "      <th>Degree</th>\n",
       "      <th>Percentage</th>\n",
       "      <th>Address</th>\n",
       "      <th>Fees</th>\n",
       "      <th>Roll_number</th>\n",
       "    </tr>\n",
       "  </thead>\n",
       "  <tbody>\n",
       "    <tr>\n",
       "      <th>row1</th>\n",
       "      <td>Rahul</td>\n",
       "      <td>20</td>\n",
       "      <td>93983</td>\n",
       "      <td>be</td>\n",
       "      <td>60.0</td>\n",
       "      <td>Hyd</td>\n",
       "      <td>2000</td>\n",
       "      <td>123</td>\n",
       "    </tr>\n",
       "  </tbody>\n",
       "</table>\n",
       "</div>"
      ],
      "text/plain": [
       "     First Name  Age phone number Degree  Percentage Address  Fees  \\\n",
       "row1      Rahul   20        93983     be        60.0     Hyd  2000   \n",
       "\n",
       "      Roll_number  \n",
       "row1          123  "
      ]
     },
     "execution_count": 81,
     "metadata": {},
     "output_type": "execute_result"
    }
   ],
   "source": [
    "data[0:1]"
   ]
  },
  {
   "cell_type": "code",
   "execution_count": 83,
   "id": "4e4634b9",
   "metadata": {},
   "outputs": [
    {
     "data": {
      "text/html": [
       "<div>\n",
       "<style scoped>\n",
       "    .dataframe tbody tr th:only-of-type {\n",
       "        vertical-align: middle;\n",
       "    }\n",
       "\n",
       "    .dataframe tbody tr th {\n",
       "        vertical-align: top;\n",
       "    }\n",
       "\n",
       "    .dataframe thead th {\n",
       "        text-align: right;\n",
       "    }\n",
       "</style>\n",
       "<table border=\"1\" class=\"dataframe\">\n",
       "  <thead>\n",
       "    <tr style=\"text-align: right;\">\n",
       "      <th></th>\n",
       "      <th>First Name</th>\n",
       "      <th>Age</th>\n",
       "      <th>phone number</th>\n",
       "      <th>Degree</th>\n",
       "      <th>Percentage</th>\n",
       "      <th>Address</th>\n",
       "      <th>Fees</th>\n",
       "      <th>Roll_number</th>\n",
       "    </tr>\n",
       "  </thead>\n",
       "  <tbody>\n",
       "    <tr>\n",
       "      <th>row2</th>\n",
       "      <td>Sohan</td>\n",
       "      <td>21</td>\n",
       "      <td>19511</td>\n",
       "      <td>bca</td>\n",
       "      <td>NaN</td>\n",
       "      <td>Bang</td>\n",
       "      <td>3000</td>\n",
       "      <td>256</td>\n",
       "    </tr>\n",
       "  </tbody>\n",
       "</table>\n",
       "</div>"
      ],
      "text/plain": [
       "     First Name  Age phone number Degree  Percentage Address  Fees  \\\n",
       "row2      Sohan   21        19511    bca         NaN    Bang  3000   \n",
       "\n",
       "      Roll_number  \n",
       "row2          256  "
      ]
     },
     "execution_count": 83,
     "metadata": {},
     "output_type": "execute_result"
    }
   ],
   "source": [
    "data[1:2]"
   ]
  },
  {
   "cell_type": "code",
   "execution_count": 84,
   "id": "575a3c05",
   "metadata": {},
   "outputs": [
    {
     "name": "stdout",
     "output_type": "stream",
     "text": [
      "     First Name  Age phone number Degree  Percentage Address  Fees  \\\n",
      "row1      Rahul   20        93983     be        60.0     Hyd  2000   \n",
      "\n",
      "      Roll_number  \n",
      "row1          123  \n"
     ]
    }
   ],
   "source": [
    "# Filterouting the particular data \n",
    "# person who score more than 60 and he is from banglore\n",
    "newdata = data[(data.Percentage >= 60) & (data.Address == \"Hyd\")]              ##Using AND(&)\n",
    "print(newdata)"
   ]
  },
  {
   "cell_type": "code",
   "execution_count": 85,
   "id": "b763aa4d",
   "metadata": {},
   "outputs": [
    {
     "name": "stdout",
     "output_type": "stream",
     "text": [
      "     First Name  Age phone number Degree  Percentage Address  Fees  \\\n",
      "row1      Rahul   20        93983     be        60.0     Hyd  2000   \n",
      "row3    Rachana   23         5843     be        30.0   Delhi  2500   \n",
      "\n",
      "      Roll_number  \n",
      "row1          123  \n",
      "row3          489  \n"
     ]
    }
   ],
   "source": [
    "newdata = data[(data.Percentage <= 60) | (data.Address == \"Hyd\")]               ##Using OR(|)\n",
    "print(newdata)"
   ]
  },
  {
   "cell_type": "code",
   "execution_count": 86,
   "id": "d86627d9",
   "metadata": {},
   "outputs": [
    {
     "name": "stdout",
     "output_type": "stream",
     "text": [
      "Percentage    1\n",
      "dtype: int64\n"
     ]
    }
   ],
   "source": [
    "# Number of missing values in column\n",
    "\n",
    "count_nan=data.isnull().sum()\n",
    "print(count_nan[count_nan>0])"
   ]
  }
 ],
 "metadata": {
  "kernelspec": {
   "display_name": "Python 3",
   "language": "python",
   "name": "python3"
  },
  "language_info": {
   "codemirror_mode": {
    "name": "ipython",
    "version": 3
   },
   "file_extension": ".py",
   "mimetype": "text/x-python",
   "name": "python",
   "nbconvert_exporter": "python",
   "pygments_lexer": "ipython3",
   "version": "3.8.8"
  }
 },
 "nbformat": 4,
 "nbformat_minor": 5
}
