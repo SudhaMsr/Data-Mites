{
 "cells": [
  {
   "cell_type": "markdown",
   "id": "4d9135f8",
   "metadata": {},
   "source": [
    "# Decision making statements\n",
    "## Conditional Statements \n",
    "* Conditional statements help you to make a decision based on certain conditions.\n",
    "* Logical conditions\n",
    "   1. Equals: ==\n",
    "   2. Not Equals: !=\n",
    "   3. Less than: <\n",
    "   4. Greater than: >\n",
    "   5. Less than or equal: <=\n",
    "   6. Greater than or equals: >="
   ]
  },
  {
   "cell_type": "code",
   "execution_count": 1,
   "id": "9aabe6fc",
   "metadata": {},
   "outputs": [
    {
     "name": "stdout",
     "output_type": "stream",
     "text": [
      "enter the age of the person:18\n",
      "you are eligible to vote\n"
     ]
    }
   ],
   "source": [
    "age=int(input(\"enter the age of the person:\"))\n",
    "if age>=18:\n",
    "    print(\"you are eligible to vote\")\n",
    "else:\n",
    "    print(\"you are not eligible\")"
   ]
  },
  {
   "cell_type": "code",
   "execution_count": 2,
   "id": "a94a681c",
   "metadata": {},
   "outputs": [
    {
     "name": "stdout",
     "output_type": "stream",
     "text": [
      "enter the age of the person:5\n",
      "you are kid\n"
     ]
    }
   ],
   "source": [
    "age=int(input(\"enter the age of the person:\"))\n",
    "if age>=18:\n",
    "    print(\"you are eligible to vote\")\n",
    "elif age==5:\n",
    "    print(\"you are kid\")\n",
    "elif age==12:\n",
    "    print(\"you still have another 6 years to reach 18\")\n",
    "elif age==17:\n",
    "    print(\"you still have another 1 years to reach 18\")\n",
    "elif age==18:\n",
    "    print(\"hey!,you are eligible to vote\") \n",
    "else:\n",
    "    print(\"sorry!, please provide proper input\")"
   ]
  },
  {
   "cell_type": "code",
   "execution_count": 7,
   "id": "8e73784d",
   "metadata": {},
   "outputs": [
    {
     "name": "stdout",
     "output_type": "stream",
     "text": [
      "you are not eligible\n"
     ]
    }
   ],
   "source": [
    "def validate_age():\n",
    "    age = int(input(\"enter the age of the person:\"))\n",
    "if age>=18:\n",
    "    print(\"you are eligible to vote\")\n",
    "else:\n",
    "    print(\"you are not eligible\")"
   ]
  },
  {
   "cell_type": "code",
   "execution_count": 6,
   "id": "e30a205a",
   "metadata": {},
   "outputs": [
    {
     "name": "stdout",
     "output_type": "stream",
     "text": [
      "enter the age of the person:18\n"
     ]
    }
   ],
   "source": [
    "validate_age()"
   ]
  },
  {
   "cell_type": "markdown",
   "id": "a8a45b52",
   "metadata": {},
   "source": [
    "### You can out if and else in the same line "
   ]
  },
  {
   "cell_type": "code",
   "execution_count": 11,
   "id": "41614b6c",
   "metadata": {},
   "outputs": [
    {
     "name": "stdout",
     "output_type": "stream",
     "text": [
      "a is greater than b\n"
     ]
    }
   ],
   "source": [
    "a=100\n",
    "b=15\n",
    "if a > b: print(\"a is greater than b\")"
   ]
  },
  {
   "cell_type": "code",
   "execution_count": 12,
   "id": "36cc1c97",
   "metadata": {},
   "outputs": [
    {
     "name": "stdout",
     "output_type": "stream",
     "text": [
      "B\n"
     ]
    }
   ],
   "source": [
    "a = 2\n",
    "b = 330\n",
    "print(\"A\") if a > b else print(\"B\")"
   ]
  }
 ],
 "metadata": {
  "kernelspec": {
   "display_name": "Python 3",
   "language": "python",
   "name": "python3"
  },
  "language_info": {
   "codemirror_mode": {
    "name": "ipython",
    "version": 3
   },
   "file_extension": ".py",
   "mimetype": "text/x-python",
   "name": "python",
   "nbconvert_exporter": "python",
   "pygments_lexer": "ipython3",
   "version": "3.8.8"
  }
 },
 "nbformat": 4,
 "nbformat_minor": 5
}
