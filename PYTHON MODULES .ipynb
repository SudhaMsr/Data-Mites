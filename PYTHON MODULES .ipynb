{
 "cells": [
  {
   "cell_type": "markdown",
   "id": "265ce51f",
   "metadata": {},
   "source": [
    "# Python Modules\n",
    "\n",
    "## What is Module?\n",
    "*  A module is a separate unit of software or hardware.Consider a module to be the same as a code library. \n",
    "   A file containing a set of functions you want to include in your application.\n",
    "\n",
    "## Modules in Python can be of two types:\n",
    "\n",
    "   1. Built-in Modules.\n",
    "   2. User-defined Modules.\n",
    "   \n",
    "### Built-in modules:\n",
    "* One of the many superpowers of Python is that it comes with a “rich standard library”. This rich standard library contains lots of built-in modules.\n",
    "* To name a few, Python contains modules like “os”, “sys”, “datetime”, “random”.\n",
    "\n",
    "### User-defined modules:\n",
    "* Another superpower of Python is that it lets you take things in your own hands. You can create your own functions and classes, put them inside modules."
   ]
  },
  {
   "cell_type": "markdown",
   "id": "fa8405a8",
   "metadata": {},
   "source": [
    "## Python - Modules:\n",
    "    1. Numpy\n",
    "    2. Pandas\n",
    "    3. Sci-Py"
   ]
  }
 ],
 "metadata": {
  "kernelspec": {
   "display_name": "Python 3",
   "language": "python",
   "name": "python3"
  },
  "language_info": {
   "codemirror_mode": {
    "name": "ipython",
    "version": 3
   },
   "file_extension": ".py",
   "mimetype": "text/x-python",
   "name": "python",
   "nbconvert_exporter": "python",
   "pygments_lexer": "ipython3",
   "version": "3.8.8"
  }
 },
 "nbformat": 4,
 "nbformat_minor": 5
}
